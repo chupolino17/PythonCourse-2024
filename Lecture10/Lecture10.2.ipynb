{
 "cells": [
  {
   "cell_type": "markdown",
   "metadata": {
    "editable": true,
    "slideshow": {
     "slide_type": "slide"
    },
    "tags": []
   },
   "source": [
    "# PYTHON 3\n",
    "\n",
    "## Lecture 10.2\n",
    "### Pandas\n",
    "\n",
    "<img src=\"https://avatars.mds.yandex.net/get-entity_search/58808/261054429/S122x122Fit_2x\" align=\"right\" style=\"height: 200px;\"/>\n",
    "\n",
    "### Chupov Dmitrii\n",
    "\n",
    "\n",
    "MIPT 2024"
   ]
  },
  {
   "cell_type": "code",
   "execution_count": 1,
   "metadata": {
    "editable": true,
    "slideshow": {
     "slide_type": "skip"
    },
    "tags": []
   },
   "outputs": [],
   "source": [
    "import numpy as np\n",
    "import pandas as pd\n",
    "import scipy.stats as sps"
   ]
  },
  {
   "cell_type": "markdown",
   "metadata": {
    "editable": true,
    "slideshow": {
     "slide_type": "slide"
    },
    "tags": []
   },
   "source": [
    "### 1. Простые операции"
   ]
  },
  {
   "cell_type": "markdown",
   "metadata": {
    "editable": true,
    "slideshow": {
     "slide_type": "subslide"
    },
    "tags": []
   },
   "source": [
    "Сгенерируем случайные числа и представим их в виде `DataFrame`."
   ]
  },
  {
   "cell_type": "code",
   "execution_count": null,
   "metadata": {
    "editable": true,
    "slideshow": {
     "slide_type": "fragment"
    },
    "tags": []
   },
   "outputs": [
    {
     "data": {
      "text/html": [
       "<div>\n",
       "<style scoped>\n",
       "    .dataframe tbody tr th:only-of-type {\n",
       "        vertical-align: middle;\n",
       "    }\n",
       "\n",
       "    .dataframe tbody tr th {\n",
       "        vertical-align: top;\n",
       "    }\n",
       "\n",
       "    .dataframe thead th {\n",
       "        text-align: right;\n",
       "    }\n",
       "</style>\n",
       "<table border=\"1\" class=\"dataframe\">\n",
       "  <thead>\n",
       "    <tr style=\"text-align: right;\">\n",
       "      <th></th>\n",
       "      <th>A</th>\n",
       "      <th>B</th>\n",
       "      <th>C</th>\n",
       "      <th>D</th>\n",
       "    </tr>\n",
       "  </thead>\n",
       "  <tbody>\n",
       "    <tr>\n",
       "      <th>0</th>\n",
       "      <td>-1.345702</td>\n",
       "      <td>1.583271</td>\n",
       "      <td>0.480914</td>\n",
       "      <td>-0.053891</td>\n",
       "    </tr>\n",
       "    <tr>\n",
       "      <th>1</th>\n",
       "      <td>-1.513222</td>\n",
       "      <td>0.389656</td>\n",
       "      <td>0.448918</td>\n",
       "      <td>-0.265700</td>\n",
       "    </tr>\n",
       "    <tr>\n",
       "      <th>2</th>\n",
       "      <td>0.817235</td>\n",
       "      <td>-1.573969</td>\n",
       "      <td>-0.080860</td>\n",
       "      <td>2.160590</td>\n",
       "    </tr>\n",
       "    <tr>\n",
       "      <th>3</th>\n",
       "      <td>-0.773110</td>\n",
       "      <td>0.569715</td>\n",
       "      <td>0.078057</td>\n",
       "      <td>-0.215249</td>\n",
       "    </tr>\n",
       "    <tr>\n",
       "      <th>4</th>\n",
       "      <td>-0.178111</td>\n",
       "      <td>0.286518</td>\n",
       "      <td>0.035825</td>\n",
       "      <td>0.805861</td>\n",
       "    </tr>\n",
       "    <tr>\n",
       "      <th>5</th>\n",
       "      <td>0.849732</td>\n",
       "      <td>-0.182298</td>\n",
       "      <td>-0.224015</td>\n",
       "      <td>0.208410</td>\n",
       "    </tr>\n",
       "    <tr>\n",
       "      <th>6</th>\n",
       "      <td>-1.701552</td>\n",
       "      <td>-0.586663</td>\n",
       "      <td>-1.313644</td>\n",
       "      <td>0.470541</td>\n",
       "    </tr>\n",
       "    <tr>\n",
       "      <th>7</th>\n",
       "      <td>-0.373508</td>\n",
       "      <td>-0.813824</td>\n",
       "      <td>-0.251265</td>\n",
       "      <td>-0.834696</td>\n",
       "    </tr>\n",
       "    <tr>\n",
       "      <th>8</th>\n",
       "      <td>-0.745802</td>\n",
       "      <td>-0.160359</td>\n",
       "      <td>-0.934386</td>\n",
       "      <td>-0.358681</td>\n",
       "    </tr>\n",
       "    <tr>\n",
       "      <th>9</th>\n",
       "      <td>-1.116177</td>\n",
       "      <td>0.229204</td>\n",
       "      <td>-2.352976</td>\n",
       "      <td>-0.348601</td>\n",
       "    </tr>\n",
       "  </tbody>\n",
       "</table>\n",
       "</div>"
      ],
      "text/plain": [
       "          A         B         C         D\n",
       "0 -1.345702  1.583271  0.480914 -0.053891\n",
       "1 -1.513222  0.389656  0.448918 -0.265700\n",
       "2  0.817235 -1.573969 -0.080860  2.160590\n",
       "3 -0.773110  0.569715  0.078057 -0.215249\n",
       "4 -0.178111  0.286518  0.035825  0.805861\n",
       "5  0.849732 -0.182298 -0.224015  0.208410\n",
       "6 -1.701552 -0.586663 -1.313644  0.470541\n",
       "7 -0.373508 -0.813824 -0.251265 -0.834696\n",
       "8 -0.745802 -0.160359 -0.934386 -0.358681\n",
       "9 -1.116177  0.229204 -2.352976 -0.348601"
      ]
     },
     "execution_count": 2,
     "metadata": {},
     "output_type": "execute_result"
    }
   ],
   "source": [
    "df = pd.DataFrame(sps.norm.rvs(size=(10, 4)),\n",
    "                  columns=['A', 'B', 'C', 'D'])\n",
    "df"
   ]
  },
  {
   "cell_type": "markdown",
   "metadata": {
    "editable": true,
    "slideshow": {
     "slide_type": "subslide"
    },
    "tags": []
   },
   "source": [
    "Выведем описательные статистики по столбцам &mdash; количество значений, среднее, стандартное отклонение (корень из дисперсии), минимум, квантили, максимум."
   ]
  },
  {
   "cell_type": "code",
   "execution_count": 3,
   "metadata": {
    "editable": true,
    "slideshow": {
     "slide_type": "fragment"
    },
    "tags": []
   },
   "outputs": [
    {
     "data": {
      "text/html": [
       "<div>\n",
       "<style scoped>\n",
       "    .dataframe tbody tr th:only-of-type {\n",
       "        vertical-align: middle;\n",
       "    }\n",
       "\n",
       "    .dataframe tbody tr th {\n",
       "        vertical-align: top;\n",
       "    }\n",
       "\n",
       "    .dataframe thead th {\n",
       "        text-align: right;\n",
       "    }\n",
       "</style>\n",
       "<table border=\"1\" class=\"dataframe\">\n",
       "  <thead>\n",
       "    <tr style=\"text-align: right;\">\n",
       "      <th></th>\n",
       "      <th>A</th>\n",
       "      <th>B</th>\n",
       "      <th>C</th>\n",
       "      <th>D</th>\n",
       "    </tr>\n",
       "  </thead>\n",
       "  <tbody>\n",
       "    <tr>\n",
       "      <th>count</th>\n",
       "      <td>10.000000</td>\n",
       "      <td>10.000000</td>\n",
       "      <td>10.000000</td>\n",
       "      <td>10.000000</td>\n",
       "    </tr>\n",
       "    <tr>\n",
       "      <th>mean</th>\n",
       "      <td>-0.608022</td>\n",
       "      <td>-0.025875</td>\n",
       "      <td>-0.411343</td>\n",
       "      <td>0.156858</td>\n",
       "    </tr>\n",
       "    <tr>\n",
       "      <th>std</th>\n",
       "      <td>0.898149</td>\n",
       "      <td>0.859838</td>\n",
       "      <td>0.882121</td>\n",
       "      <td>0.843477</td>\n",
       "    </tr>\n",
       "    <tr>\n",
       "      <th>min</th>\n",
       "      <td>-1.701552</td>\n",
       "      <td>-1.573969</td>\n",
       "      <td>-2.352976</td>\n",
       "      <td>-0.834696</td>\n",
       "    </tr>\n",
       "    <tr>\n",
       "      <th>25%</th>\n",
       "      <td>-1.288321</td>\n",
       "      <td>-0.485572</td>\n",
       "      <td>-0.763606</td>\n",
       "      <td>-0.327876</td>\n",
       "    </tr>\n",
       "    <tr>\n",
       "      <th>50%</th>\n",
       "      <td>-0.759456</td>\n",
       "      <td>0.034423</td>\n",
       "      <td>-0.152438</td>\n",
       "      <td>-0.134570</td>\n",
       "    </tr>\n",
       "    <tr>\n",
       "      <th>75%</th>\n",
       "      <td>-0.226960</td>\n",
       "      <td>0.363871</td>\n",
       "      <td>0.067499</td>\n",
       "      <td>0.405008</td>\n",
       "    </tr>\n",
       "    <tr>\n",
       "      <th>max</th>\n",
       "      <td>0.849732</td>\n",
       "      <td>1.583271</td>\n",
       "      <td>0.480914</td>\n",
       "      <td>2.160590</td>\n",
       "    </tr>\n",
       "  </tbody>\n",
       "</table>\n",
       "</div>"
      ],
      "text/plain": [
       "               A          B          C          D\n",
       "count  10.000000  10.000000  10.000000  10.000000\n",
       "mean   -0.608022  -0.025875  -0.411343   0.156858\n",
       "std     0.898149   0.859838   0.882121   0.843477\n",
       "min    -1.701552  -1.573969  -2.352976  -0.834696\n",
       "25%    -1.288321  -0.485572  -0.763606  -0.327876\n",
       "50%    -0.759456   0.034423  -0.152438  -0.134570\n",
       "75%    -0.226960   0.363871   0.067499   0.405008\n",
       "max     0.849732   1.583271   0.480914   2.160590"
      ]
     },
     "execution_count": 3,
     "metadata": {},
     "output_type": "execute_result"
    }
   ],
   "source": [
    "df.describe()"
   ]
  },
  {
   "cell_type": "markdown",
   "metadata": {
    "editable": true,
    "slideshow": {
     "slide_type": "subslide"
    },
    "tags": []
   },
   "source": [
    "Среднее по столбцам"
   ]
  },
  {
   "cell_type": "code",
   "execution_count": 4,
   "metadata": {
    "editable": true,
    "slideshow": {
     "slide_type": "fragment"
    },
    "tags": []
   },
   "outputs": [
    {
     "data": {
      "text/plain": [
       "A   -0.608022\n",
       "B   -0.025875\n",
       "C   -0.411343\n",
       "D    0.156858\n",
       "dtype: float64"
      ]
     },
     "execution_count": 4,
     "metadata": {},
     "output_type": "execute_result"
    }
   ],
   "source": [
    "df.mean()"
   ]
  },
  {
   "cell_type": "markdown",
   "metadata": {
    "editable": true,
    "slideshow": {
     "slide_type": "subslide"
    },
    "tags": []
   },
   "source": [
    "Оценка матрицы корреляций значений в столбцах"
   ]
  },
  {
   "cell_type": "code",
   "execution_count": 5,
   "metadata": {
    "editable": true,
    "slideshow": {
     "slide_type": "fragment"
    },
    "tags": []
   },
   "outputs": [
    {
     "data": {
      "text/html": [
       "<div>\n",
       "<style scoped>\n",
       "    .dataframe tbody tr th:only-of-type {\n",
       "        vertical-align: middle;\n",
       "    }\n",
       "\n",
       "    .dataframe tbody tr th {\n",
       "        vertical-align: top;\n",
       "    }\n",
       "\n",
       "    .dataframe thead th {\n",
       "        text-align: right;\n",
       "    }\n",
       "</style>\n",
       "<table border=\"1\" class=\"dataframe\">\n",
       "  <thead>\n",
       "    <tr style=\"text-align: right;\">\n",
       "      <th></th>\n",
       "      <th>A</th>\n",
       "      <th>B</th>\n",
       "      <th>C</th>\n",
       "      <th>D</th>\n",
       "    </tr>\n",
       "  </thead>\n",
       "  <tbody>\n",
       "    <tr>\n",
       "      <th>A</th>\n",
       "      <td>1.000000</td>\n",
       "      <td>-0.524331</td>\n",
       "      <td>0.210587</td>\n",
       "      <td>0.522391</td>\n",
       "    </tr>\n",
       "    <tr>\n",
       "      <th>B</th>\n",
       "      <td>-0.524331</td>\n",
       "      <td>1.000000</td>\n",
       "      <td>0.240015</td>\n",
       "      <td>-0.474598</td>\n",
       "    </tr>\n",
       "    <tr>\n",
       "      <th>C</th>\n",
       "      <td>0.210587</td>\n",
       "      <td>0.240015</td>\n",
       "      <td>1.000000</td>\n",
       "      <td>0.154964</td>\n",
       "    </tr>\n",
       "    <tr>\n",
       "      <th>D</th>\n",
       "      <td>0.522391</td>\n",
       "      <td>-0.474598</td>\n",
       "      <td>0.154964</td>\n",
       "      <td>1.000000</td>\n",
       "    </tr>\n",
       "  </tbody>\n",
       "</table>\n",
       "</div>"
      ],
      "text/plain": [
       "          A         B         C         D\n",
       "A  1.000000 -0.524331  0.210587  0.522391\n",
       "B -0.524331  1.000000  0.240015 -0.474598\n",
       "C  0.210587  0.240015  1.000000  0.154964\n",
       "D  0.522391 -0.474598  0.154964  1.000000"
      ]
     },
     "execution_count": 5,
     "metadata": {},
     "output_type": "execute_result"
    }
   ],
   "source": [
    "df.corr()"
   ]
  },
  {
   "cell_type": "markdown",
   "metadata": {
    "editable": true,
    "slideshow": {
     "slide_type": "subslide"
    },
    "tags": []
   },
   "source": [
    "Применение функции к данным.\n",
    "Для примера посчитаем разброс значений &mdash; разница максимума и минимума."
   ]
  },
  {
   "cell_type": "code",
   "execution_count": 6,
   "metadata": {
    "editable": true,
    "slideshow": {
     "slide_type": "fragment"
    },
    "tags": []
   },
   "outputs": [
    {
     "data": {
      "text/plain": [
       "A    2.551284\n",
       "B    3.157239\n",
       "C    2.833890\n",
       "D    2.995285\n",
       "dtype: float64"
      ]
     },
     "execution_count": 6,
     "metadata": {},
     "output_type": "execute_result"
    }
   ],
   "source": [
    "df.apply(lambda x: x.max() - x.min())"
   ]
  },
  {
   "cell_type": "markdown",
   "metadata": {
    "editable": true,
    "slideshow": {
     "slide_type": "slide"
    },
    "tags": []
   },
   "source": [
    "### 2. Объединение таблиц"
   ]
  },
  {
   "cell_type": "markdown",
   "metadata": {
    "editable": true,
    "slideshow": {
     "slide_type": "subslide"
    },
    "tags": []
   },
   "source": [
    "#### 2.1 Функция `df.append`\n",
    "\n",
    "Добавление строк в виде таблицы `other` в таблицу `df`. При наличии у новых строк колонок, которых нет в таблице, они добавляются в таблицу.\n",
    "\n",
    "`df.append(other, ignore_index=False, verify_integrity=False, sort=None)`\n",
    "\n",
    "* `df` &mdash; таблица;\n",
    "* `other` &mdash; добавляемые строки в виде таблицы;\n",
    "* `ignore_index` &mdash; сохранить индексы или определить и как $0, ..., n-1$;\n",
    "* `verify_integrity` &mdash; если `True`, то создает исключение в случае повторения индексов;\n",
    "* `sort` &mdash;  сортировать ли колонки, если они (или их порядок) различаются."
   ]
  },
  {
   "cell_type": "markdown",
   "metadata": {
    "editable": true,
    "slideshow": {
     "slide_type": "subslide"
    },
    "tags": []
   },
   "source": [
    "Создадим новую таблицу из первых четырех строк таблицы `df`. В новую таблицу добавим колонку `flag`, в которую запишем условие, что число в столбце D положительно. Затем добавим строки из новой таблицы к старой. Полученная таблица содержит пропуски, которые отмечены как `NaN`."
   ]
  },
  {
   "cell_type": "code",
   "execution_count": 7,
   "metadata": {
    "editable": true,
    "slideshow": {
     "slide_type": "fragment"
    },
    "tags": []
   },
   "outputs": [
    {
     "data": {
      "text/html": [
       "<div>\n",
       "<style scoped>\n",
       "    .dataframe tbody tr th:only-of-type {\n",
       "        vertical-align: middle;\n",
       "    }\n",
       "\n",
       "    .dataframe tbody tr th {\n",
       "        vertical-align: top;\n",
       "    }\n",
       "\n",
       "    .dataframe thead th {\n",
       "        text-align: right;\n",
       "    }\n",
       "</style>\n",
       "<table border=\"1\" class=\"dataframe\">\n",
       "  <thead>\n",
       "    <tr style=\"text-align: right;\">\n",
       "      <th></th>\n",
       "      <th>A</th>\n",
       "      <th>B</th>\n",
       "      <th>C</th>\n",
       "      <th>D</th>\n",
       "      <th>flag</th>\n",
       "    </tr>\n",
       "  </thead>\n",
       "  <tbody>\n",
       "    <tr>\n",
       "      <th>0</th>\n",
       "      <td>-1.345702</td>\n",
       "      <td>1.583271</td>\n",
       "      <td>0.480914</td>\n",
       "      <td>-0.053891</td>\n",
       "      <td>NaN</td>\n",
       "    </tr>\n",
       "    <tr>\n",
       "      <th>1</th>\n",
       "      <td>-1.513222</td>\n",
       "      <td>0.389656</td>\n",
       "      <td>0.448918</td>\n",
       "      <td>-0.265700</td>\n",
       "      <td>NaN</td>\n",
       "    </tr>\n",
       "    <tr>\n",
       "      <th>2</th>\n",
       "      <td>0.817235</td>\n",
       "      <td>-1.573969</td>\n",
       "      <td>-0.080860</td>\n",
       "      <td>2.160590</td>\n",
       "      <td>NaN</td>\n",
       "    </tr>\n",
       "    <tr>\n",
       "      <th>3</th>\n",
       "      <td>-0.773110</td>\n",
       "      <td>0.569715</td>\n",
       "      <td>0.078057</td>\n",
       "      <td>-0.215249</td>\n",
       "      <td>NaN</td>\n",
       "    </tr>\n",
       "    <tr>\n",
       "      <th>4</th>\n",
       "      <td>-0.178111</td>\n",
       "      <td>0.286518</td>\n",
       "      <td>0.035825</td>\n",
       "      <td>0.805861</td>\n",
       "      <td>NaN</td>\n",
       "    </tr>\n",
       "    <tr>\n",
       "      <th>5</th>\n",
       "      <td>0.849732</td>\n",
       "      <td>-0.182298</td>\n",
       "      <td>-0.224015</td>\n",
       "      <td>0.208410</td>\n",
       "      <td>NaN</td>\n",
       "    </tr>\n",
       "    <tr>\n",
       "      <th>6</th>\n",
       "      <td>-1.701552</td>\n",
       "      <td>-0.586663</td>\n",
       "      <td>-1.313644</td>\n",
       "      <td>0.470541</td>\n",
       "      <td>NaN</td>\n",
       "    </tr>\n",
       "    <tr>\n",
       "      <th>7</th>\n",
       "      <td>-0.373508</td>\n",
       "      <td>-0.813824</td>\n",
       "      <td>-0.251265</td>\n",
       "      <td>-0.834696</td>\n",
       "      <td>NaN</td>\n",
       "    </tr>\n",
       "    <tr>\n",
       "      <th>8</th>\n",
       "      <td>-0.745802</td>\n",
       "      <td>-0.160359</td>\n",
       "      <td>-0.934386</td>\n",
       "      <td>-0.358681</td>\n",
       "      <td>NaN</td>\n",
       "    </tr>\n",
       "    <tr>\n",
       "      <th>9</th>\n",
       "      <td>-1.116177</td>\n",
       "      <td>0.229204</td>\n",
       "      <td>-2.352976</td>\n",
       "      <td>-0.348601</td>\n",
       "      <td>NaN</td>\n",
       "    </tr>\n",
       "    <tr>\n",
       "      <th>10</th>\n",
       "      <td>-1.345702</td>\n",
       "      <td>1.583271</td>\n",
       "      <td>0.480914</td>\n",
       "      <td>0.002904</td>\n",
       "      <td>False</td>\n",
       "    </tr>\n",
       "    <tr>\n",
       "      <th>11</th>\n",
       "      <td>-1.513222</td>\n",
       "      <td>0.389656</td>\n",
       "      <td>0.448918</td>\n",
       "      <td>0.070597</td>\n",
       "      <td>False</td>\n",
       "    </tr>\n",
       "    <tr>\n",
       "      <th>12</th>\n",
       "      <td>0.817235</td>\n",
       "      <td>-1.573969</td>\n",
       "      <td>-0.080860</td>\n",
       "      <td>4.668147</td>\n",
       "      <td>True</td>\n",
       "    </tr>\n",
       "    <tr>\n",
       "      <th>13</th>\n",
       "      <td>-0.773110</td>\n",
       "      <td>0.569715</td>\n",
       "      <td>0.078057</td>\n",
       "      <td>0.046332</td>\n",
       "      <td>False</td>\n",
       "    </tr>\n",
       "  </tbody>\n",
       "</table>\n",
       "</div>"
      ],
      "text/plain": [
       "           A         B         C         D   flag\n",
       "0  -1.345702  1.583271  0.480914 -0.053891    NaN\n",
       "1  -1.513222  0.389656  0.448918 -0.265700    NaN\n",
       "2   0.817235 -1.573969 -0.080860  2.160590    NaN\n",
       "3  -0.773110  0.569715  0.078057 -0.215249    NaN\n",
       "4  -0.178111  0.286518  0.035825  0.805861    NaN\n",
       "5   0.849732 -0.182298 -0.224015  0.208410    NaN\n",
       "6  -1.701552 -0.586663 -1.313644  0.470541    NaN\n",
       "7  -0.373508 -0.813824 -0.251265 -0.834696    NaN\n",
       "8  -0.745802 -0.160359 -0.934386 -0.358681    NaN\n",
       "9  -1.116177  0.229204 -2.352976 -0.348601    NaN\n",
       "10 -1.345702  1.583271  0.480914  0.002904  False\n",
       "11 -1.513222  0.389656  0.448918  0.070597  False\n",
       "12  0.817235 -1.573969 -0.080860  4.668147   True\n",
       "13 -0.773110  0.569715  0.078057  0.046332  False"
      ]
     },
     "execution_count": 7,
     "metadata": {},
     "output_type": "execute_result"
    }
   ],
   "source": [
    "other = df[:4].copy()  # Полное копирование\n",
    "other['flag'] = other['D'] > 0\n",
    "other['D'] = other['D'] ** 2\n",
    "\n",
    "df.append(other, ignore_index=True, sort=False)"
   ]
  },
  {
   "cell_type": "markdown",
   "metadata": {
    "editable": true,
    "slideshow": {
     "slide_type": "subslide"
    },
    "tags": []
   },
   "source": [
    "### 2.2 Функция `pd.concat`"
   ]
  },
  {
   "cell_type": "markdown",
   "metadata": {
    "editable": true,
    "slideshow": {
     "slide_type": "subslide"
    },
    "tags": []
   },
   "source": [
    "Соединение таблиц вдоль выбранной оси\n",
    "\n",
    "`pd.concat(objs, axis=0, join='outer', ignore_index=False, copy=True, ...)`\n",
    "\n",
    "* `objs` &mdash; объединяемые таблицы;\n",
    "* `axis` : {`0` или `'index'`, `1` или `'columns'`} &mdash; ось индексов или ось колонок, иными словами соединение по вертикали или по горизонтали;\n",
    "* `join` : {`'inner'`, `'outer'`} &mdash; тип объединения &mdash; пересечение или объединение индексов/колонок;\n",
    "* `ignore_index` &mdash; сохранить индексы или определить и как $0, ..., n-1$;\n",
    "* `copy` &mdash; копировать данные или нет."
   ]
  },
  {
   "cell_type": "markdown",
   "metadata": {
    "editable": true,
    "slideshow": {
     "slide_type": "slide"
    },
    "tags": []
   },
   "source": [
    "Простой пример"
   ]
  },
  {
   "cell_type": "code",
   "execution_count": 8,
   "metadata": {
    "editable": true,
    "slideshow": {
     "slide_type": "fragment"
    },
    "tags": []
   },
   "outputs": [
    {
     "data": {
      "text/html": [
       "<div>\n",
       "<style scoped>\n",
       "    .dataframe tbody tr th:only-of-type {\n",
       "        vertical-align: middle;\n",
       "    }\n",
       "\n",
       "    .dataframe tbody tr th {\n",
       "        vertical-align: top;\n",
       "    }\n",
       "\n",
       "    .dataframe thead th {\n",
       "        text-align: right;\n",
       "    }\n",
       "</style>\n",
       "<table border=\"1\" class=\"dataframe\">\n",
       "  <thead>\n",
       "    <tr style=\"text-align: right;\">\n",
       "      <th></th>\n",
       "      <th>A</th>\n",
       "      <th>B</th>\n",
       "      <th>C</th>\n",
       "      <th>D</th>\n",
       "    </tr>\n",
       "  </thead>\n",
       "  <tbody>\n",
       "    <tr>\n",
       "      <th>0</th>\n",
       "      <td>-1.345702</td>\n",
       "      <td>1.583271</td>\n",
       "      <td>0.480914</td>\n",
       "      <td>-0.053891</td>\n",
       "    </tr>\n",
       "    <tr>\n",
       "      <th>1</th>\n",
       "      <td>-1.513222</td>\n",
       "      <td>0.389656</td>\n",
       "      <td>0.448918</td>\n",
       "      <td>-0.265700</td>\n",
       "    </tr>\n",
       "    <tr>\n",
       "      <th>2</th>\n",
       "      <td>0.817235</td>\n",
       "      <td>-1.573969</td>\n",
       "      <td>-0.080860</td>\n",
       "      <td>2.160590</td>\n",
       "    </tr>\n",
       "    <tr>\n",
       "      <th>3</th>\n",
       "      <td>-0.773110</td>\n",
       "      <td>0.569715</td>\n",
       "      <td>0.078057</td>\n",
       "      <td>-0.215249</td>\n",
       "    </tr>\n",
       "    <tr>\n",
       "      <th>4</th>\n",
       "      <td>-0.178111</td>\n",
       "      <td>0.286518</td>\n",
       "      <td>0.035825</td>\n",
       "      <td>0.805861</td>\n",
       "    </tr>\n",
       "    <tr>\n",
       "      <th>5</th>\n",
       "      <td>0.849732</td>\n",
       "      <td>-0.182298</td>\n",
       "      <td>-0.224015</td>\n",
       "      <td>0.208410</td>\n",
       "    </tr>\n",
       "    <tr>\n",
       "      <th>6</th>\n",
       "      <td>-1.701552</td>\n",
       "      <td>-0.586663</td>\n",
       "      <td>-1.313644</td>\n",
       "      <td>0.470541</td>\n",
       "    </tr>\n",
       "    <tr>\n",
       "      <th>7</th>\n",
       "      <td>-0.373508</td>\n",
       "      <td>-0.813824</td>\n",
       "      <td>-0.251265</td>\n",
       "      <td>-0.834696</td>\n",
       "    </tr>\n",
       "    <tr>\n",
       "      <th>8</th>\n",
       "      <td>-0.745802</td>\n",
       "      <td>-0.160359</td>\n",
       "      <td>-0.934386</td>\n",
       "      <td>-0.358681</td>\n",
       "    </tr>\n",
       "    <tr>\n",
       "      <th>9</th>\n",
       "      <td>-1.116177</td>\n",
       "      <td>0.229204</td>\n",
       "      <td>-2.352976</td>\n",
       "      <td>-0.348601</td>\n",
       "    </tr>\n",
       "  </tbody>\n",
       "</table>\n",
       "</div>"
      ],
      "text/plain": [
       "          A         B         C         D\n",
       "0 -1.345702  1.583271  0.480914 -0.053891\n",
       "1 -1.513222  0.389656  0.448918 -0.265700\n",
       "2  0.817235 -1.573969 -0.080860  2.160590\n",
       "3 -0.773110  0.569715  0.078057 -0.215249\n",
       "4 -0.178111  0.286518  0.035825  0.805861\n",
       "5  0.849732 -0.182298 -0.224015  0.208410\n",
       "6 -1.701552 -0.586663 -1.313644  0.470541\n",
       "7 -0.373508 -0.813824 -0.251265 -0.834696\n",
       "8 -0.745802 -0.160359 -0.934386 -0.358681\n",
       "9 -1.116177  0.229204 -2.352976 -0.348601"
      ]
     },
     "execution_count": 8,
     "metadata": {},
     "output_type": "execute_result"
    }
   ],
   "source": [
    "pd.concat([df[:5], df[5:]])"
   ]
  },
  {
   "cell_type": "markdown",
   "metadata": {
    "editable": true,
    "slideshow": {
     "slide_type": ""
    },
    "tags": []
   },
   "source": [
    "### 2.3 Функции `pd.merge` и `df.join`"
   ]
  },
  {
   "cell_type": "markdown",
   "metadata": {
    "editable": true,
    "slideshow": {
     "slide_type": "subslide"
    },
    "tags": []
   },
   "source": [
    "Слияние таблиц по вертикали путем выполнения операций слияния баз данных в стиле SQL.\n",
    "\n",
    "`pd.merge(left, right, how='inner', on=None, left_on=None, right_on=None, left_index=False, right_index=False, suffixes=('_x', '_y'), ...)`\n",
    "\n",
    "* `left` и `right` &mdash; объединяемые таблицы.\n",
    "* `how` &mdash; тип объединения:\n",
    "    * `left` &mdash; только по ключам из левой таблицы == *SQL left outer join*;\n",
    "    * `right` &mdash; только по ключам из правой таблицы == *SQL right outer join*;\n",
    "    * `outer` &mdash; по объединению ключей == *SQL full outer join*;\n",
    "    * `inner` &mdash; по пересечению ключей == *SQL inner join*.\n",
    "* `on` &mdash; имя (или имена) колонок, по которым будет производиться объединение (т.е. ключи). Если их несколько, то нужно передать список имен. Имена колонок в таблице должны совпадать.\n",
    "* `left_on` и `right_on` &mdash; аналогично `on` для случая, когда в таблицах различаются имена колонок, соответствующие ключам.\n",
    "* `left_index` и `right_index` &mdash; использовать ли индексы в качестве ключей.\n",
    "* `suffixes` &mdash; суффиксы, которые будут добавлены к тем колонкам, имена которых повторяются.\n"
   ]
  },
  {
   "cell_type": "markdown",
   "metadata": {
    "editable": true,
    "slideshow": {
     "slide_type": "subslide"
    },
    "tags": []
   },
   "source": [
    "\n",
    "*Пример.* Опция `how=left, left_on='A', right_on='B'` соответствует взятию всех строк из таблицы `left`, а из таблицы `right` берутся те строки, в которых значения в колонке `A` таблицы `left` совпадает со значением колонки `B` таблицы `right`. Если в одной из таблиц таких значений несколько, то строки другой таблицы дублируются. Если в таблице `right` каких-то значений нет, то в результирующей таблице будут пропуски.\n"
   ]
  },
  {
   "cell_type": "markdown",
   "metadata": {
    "editable": true,
    "slideshow": {
     "slide_type": "subslide"
    },
    "tags": []
   },
   "source": [
    "\n",
    "`df.join(other, on=None, how='left', lsuffix='', rsuffix='', sort=False)`\n",
    "\n",
    "* `df` &mdash; основная таблица. В качестве ключей используется индекс.\n",
    "* `other` &mdash; другая таблица.\n",
    "* `on` &mdash; колонка(-и) в `other`, соответствующая ключам, по ним происходит объедиенение. Если `None`, то используется индекс.\n",
    "* `how` &mdash; тип объединения (см. `pd.merge`).\n",
    "* `lsuffix` и `rsuffix` &mdash; суффиксы, которые будут добавлены к тем колонкам, имена которых повторяются."
   ]
  },
  {
   "cell_type": "markdown",
   "metadata": {
    "editable": true,
    "slideshow": {
     "slide_type": "subslide"
    },
    "tags": []
   },
   "source": [
    "------------------\n",
    "\n",
    "##### Пример 1.\n",
    "\n",
    "В обеих таблицах ключи повторяются"
   ]
  },
  {
   "cell_type": "code",
   "execution_count": null,
   "metadata": {
    "editable": true,
    "slideshow": {
     "slide_type": "fragment"
    },
    "tags": []
   },
   "outputs": [],
   "source": [
    "left = pd.DataFrame({'key': ['A', 'A'],\n",
    "                     'lval': [1, 2]})\n",
    "right = pd.DataFrame({'key': ['A', 'A'],\n",
    "                      'rval': [4, 5]})"
   ]
  },
  {
   "cell_type": "code",
   "execution_count": 10,
   "metadata": {
    "editable": true,
    "slideshow": {
     "slide_type": "fragment"
    },
    "tags": []
   },
   "outputs": [
    {
     "data": {
      "text/html": [
       "<div>\n",
       "<style scoped>\n",
       "    .dataframe tbody tr th:only-of-type {\n",
       "        vertical-align: middle;\n",
       "    }\n",
       "\n",
       "    .dataframe tbody tr th {\n",
       "        vertical-align: top;\n",
       "    }\n",
       "\n",
       "    .dataframe thead th {\n",
       "        text-align: right;\n",
       "    }\n",
       "</style>\n",
       "<table border=\"1\" class=\"dataframe\">\n",
       "  <thead>\n",
       "    <tr style=\"text-align: right;\">\n",
       "      <th></th>\n",
       "      <th>key</th>\n",
       "      <th>lval</th>\n",
       "    </tr>\n",
       "  </thead>\n",
       "  <tbody>\n",
       "    <tr>\n",
       "      <th>0</th>\n",
       "      <td>A</td>\n",
       "      <td>1</td>\n",
       "    </tr>\n",
       "    <tr>\n",
       "      <th>1</th>\n",
       "      <td>A</td>\n",
       "      <td>2</td>\n",
       "    </tr>\n",
       "  </tbody>\n",
       "</table>\n",
       "</div>"
      ],
      "text/plain": [
       "  key  lval\n",
       "0   A     1\n",
       "1   A     2"
      ]
     },
     "execution_count": 10,
     "metadata": {},
     "output_type": "execute_result"
    }
   ],
   "source": [
    "left"
   ]
  },
  {
   "cell_type": "code",
   "execution_count": 11,
   "metadata": {
    "editable": true,
    "slideshow": {
     "slide_type": "fragment"
    },
    "tags": []
   },
   "outputs": [
    {
     "data": {
      "text/html": [
       "<div>\n",
       "<style scoped>\n",
       "    .dataframe tbody tr th:only-of-type {\n",
       "        vertical-align: middle;\n",
       "    }\n",
       "\n",
       "    .dataframe tbody tr th {\n",
       "        vertical-align: top;\n",
       "    }\n",
       "\n",
       "    .dataframe thead th {\n",
       "        text-align: right;\n",
       "    }\n",
       "</style>\n",
       "<table border=\"1\" class=\"dataframe\">\n",
       "  <thead>\n",
       "    <tr style=\"text-align: right;\">\n",
       "      <th></th>\n",
       "      <th>key</th>\n",
       "      <th>rval</th>\n",
       "    </tr>\n",
       "  </thead>\n",
       "  <tbody>\n",
       "    <tr>\n",
       "      <th>0</th>\n",
       "      <td>A</td>\n",
       "      <td>4</td>\n",
       "    </tr>\n",
       "    <tr>\n",
       "      <th>1</th>\n",
       "      <td>A</td>\n",
       "      <td>5</td>\n",
       "    </tr>\n",
       "  </tbody>\n",
       "</table>\n",
       "</div>"
      ],
      "text/plain": [
       "  key  rval\n",
       "0   A     4\n",
       "1   A     5"
      ]
     },
     "execution_count": 11,
     "metadata": {},
     "output_type": "execute_result"
    }
   ],
   "source": [
    "right"
   ]
  },
  {
   "cell_type": "markdown",
   "metadata": {
    "editable": true,
    "slideshow": {
     "slide_type": "subslide"
    },
    "tags": []
   },
   "source": [
    "В результате объединения получаем 4 строки &mdash; для каждой строки из левой таблице есть две строки из правой таблицы с таким же ключом."
   ]
  },
  {
   "cell_type": "code",
   "execution_count": 12,
   "metadata": {
    "editable": true,
    "slideshow": {
     "slide_type": "fragment"
    },
    "tags": []
   },
   "outputs": [
    {
     "data": {
      "text/html": [
       "<div>\n",
       "<style scoped>\n",
       "    .dataframe tbody tr th:only-of-type {\n",
       "        vertical-align: middle;\n",
       "    }\n",
       "\n",
       "    .dataframe tbody tr th {\n",
       "        vertical-align: top;\n",
       "    }\n",
       "\n",
       "    .dataframe thead th {\n",
       "        text-align: right;\n",
       "    }\n",
       "</style>\n",
       "<table border=\"1\" class=\"dataframe\">\n",
       "  <thead>\n",
       "    <tr style=\"text-align: right;\">\n",
       "      <th></th>\n",
       "      <th>key</th>\n",
       "      <th>lval</th>\n",
       "      <th>rval</th>\n",
       "    </tr>\n",
       "  </thead>\n",
       "  <tbody>\n",
       "    <tr>\n",
       "      <th>0</th>\n",
       "      <td>A</td>\n",
       "      <td>1</td>\n",
       "      <td>4</td>\n",
       "    </tr>\n",
       "    <tr>\n",
       "      <th>1</th>\n",
       "      <td>A</td>\n",
       "      <td>1</td>\n",
       "      <td>5</td>\n",
       "    </tr>\n",
       "    <tr>\n",
       "      <th>2</th>\n",
       "      <td>A</td>\n",
       "      <td>2</td>\n",
       "      <td>4</td>\n",
       "    </tr>\n",
       "    <tr>\n",
       "      <th>3</th>\n",
       "      <td>A</td>\n",
       "      <td>2</td>\n",
       "      <td>5</td>\n",
       "    </tr>\n",
       "  </tbody>\n",
       "</table>\n",
       "</div>"
      ],
      "text/plain": [
       "  key  lval  rval\n",
       "0   A     1     4\n",
       "1   A     1     5\n",
       "2   A     2     4\n",
       "3   A     2     5"
      ]
     },
     "execution_count": 12,
     "metadata": {},
     "output_type": "execute_result"
    }
   ],
   "source": [
    "pd.merge(left, right, on='key')"
   ]
  },
  {
   "cell_type": "markdown",
   "metadata": {
    "editable": true,
    "slideshow": {
     "slide_type": "subslide"
    },
    "tags": []
   },
   "source": [
    "###### Пример 2.\n",
    "\n",
    "В таблицах ключи не повторяются"
   ]
  },
  {
   "cell_type": "code",
   "execution_count": null,
   "metadata": {
    "editable": true,
    "slideshow": {
     "slide_type": "fragment"
    },
    "tags": []
   },
   "outputs": [],
   "source": [
    "left = pd.DataFrame({'key': ['A', 'B'],\n",
    "                     'lval': [1, 2]})\n",
    "right = pd.DataFrame({'key': ['A', 'B'],\n",
    "                      'rval': [4, 5]})"
   ]
  },
  {
   "cell_type": "code",
   "execution_count": 14,
   "metadata": {
    "editable": true,
    "slideshow": {
     "slide_type": "fragment"
    },
    "tags": []
   },
   "outputs": [
    {
     "data": {
      "text/html": [
       "<div>\n",
       "<style scoped>\n",
       "    .dataframe tbody tr th:only-of-type {\n",
       "        vertical-align: middle;\n",
       "    }\n",
       "\n",
       "    .dataframe tbody tr th {\n",
       "        vertical-align: top;\n",
       "    }\n",
       "\n",
       "    .dataframe thead th {\n",
       "        text-align: right;\n",
       "    }\n",
       "</style>\n",
       "<table border=\"1\" class=\"dataframe\">\n",
       "  <thead>\n",
       "    <tr style=\"text-align: right;\">\n",
       "      <th></th>\n",
       "      <th>key</th>\n",
       "      <th>lval</th>\n",
       "    </tr>\n",
       "  </thead>\n",
       "  <tbody>\n",
       "    <tr>\n",
       "      <th>0</th>\n",
       "      <td>A</td>\n",
       "      <td>1</td>\n",
       "    </tr>\n",
       "    <tr>\n",
       "      <th>1</th>\n",
       "      <td>B</td>\n",
       "      <td>2</td>\n",
       "    </tr>\n",
       "  </tbody>\n",
       "</table>\n",
       "</div>"
      ],
      "text/plain": [
       "  key  lval\n",
       "0   A     1\n",
       "1   B     2"
      ]
     },
     "execution_count": 14,
     "metadata": {},
     "output_type": "execute_result"
    }
   ],
   "source": [
    "left"
   ]
  },
  {
   "cell_type": "code",
   "execution_count": 15,
   "metadata": {
    "editable": true,
    "slideshow": {
     "slide_type": "fragment"
    },
    "tags": []
   },
   "outputs": [
    {
     "data": {
      "text/html": [
       "<div>\n",
       "<style scoped>\n",
       "    .dataframe tbody tr th:only-of-type {\n",
       "        vertical-align: middle;\n",
       "    }\n",
       "\n",
       "    .dataframe tbody tr th {\n",
       "        vertical-align: top;\n",
       "    }\n",
       "\n",
       "    .dataframe thead th {\n",
       "        text-align: right;\n",
       "    }\n",
       "</style>\n",
       "<table border=\"1\" class=\"dataframe\">\n",
       "  <thead>\n",
       "    <tr style=\"text-align: right;\">\n",
       "      <th></th>\n",
       "      <th>key</th>\n",
       "      <th>rval</th>\n",
       "    </tr>\n",
       "  </thead>\n",
       "  <tbody>\n",
       "    <tr>\n",
       "      <th>0</th>\n",
       "      <td>A</td>\n",
       "      <td>4</td>\n",
       "    </tr>\n",
       "    <tr>\n",
       "      <th>1</th>\n",
       "      <td>B</td>\n",
       "      <td>5</td>\n",
       "    </tr>\n",
       "  </tbody>\n",
       "</table>\n",
       "</div>"
      ],
      "text/plain": [
       "  key  rval\n",
       "0   A     4\n",
       "1   B     5"
      ]
     },
     "execution_count": 15,
     "metadata": {},
     "output_type": "execute_result"
    }
   ],
   "source": [
    "right"
   ]
  },
  {
   "cell_type": "markdown",
   "metadata": {
    "editable": true,
    "slideshow": {
     "slide_type": "subslide"
    },
    "tags": []
   },
   "source": [
    "В результате объединения получаем 2 строки &mdash; для каждой строки из левой таблице есть только одна строка из правой таблицы с таким же ключом."
   ]
  },
  {
   "cell_type": "code",
   "execution_count": 16,
   "metadata": {
    "editable": true,
    "slideshow": {
     "slide_type": "fragment"
    },
    "tags": []
   },
   "outputs": [
    {
     "data": {
      "text/html": [
       "<div>\n",
       "<style scoped>\n",
       "    .dataframe tbody tr th:only-of-type {\n",
       "        vertical-align: middle;\n",
       "    }\n",
       "\n",
       "    .dataframe tbody tr th {\n",
       "        vertical-align: top;\n",
       "    }\n",
       "\n",
       "    .dataframe thead th {\n",
       "        text-align: right;\n",
       "    }\n",
       "</style>\n",
       "<table border=\"1\" class=\"dataframe\">\n",
       "  <thead>\n",
       "    <tr style=\"text-align: right;\">\n",
       "      <th></th>\n",
       "      <th>key</th>\n",
       "      <th>lval</th>\n",
       "      <th>rval</th>\n",
       "    </tr>\n",
       "  </thead>\n",
       "  <tbody>\n",
       "    <tr>\n",
       "      <th>0</th>\n",
       "      <td>A</td>\n",
       "      <td>1</td>\n",
       "      <td>4</td>\n",
       "    </tr>\n",
       "    <tr>\n",
       "      <th>1</th>\n",
       "      <td>B</td>\n",
       "      <td>2</td>\n",
       "      <td>5</td>\n",
       "    </tr>\n",
       "  </tbody>\n",
       "</table>\n",
       "</div>"
      ],
      "text/plain": [
       "  key  lval  rval\n",
       "0   A     1     4\n",
       "1   B     2     5"
      ]
     },
     "execution_count": 16,
     "metadata": {},
     "output_type": "execute_result"
    }
   ],
   "source": [
    "pd.merge(left, right, on='key')"
   ]
  },
  {
   "cell_type": "markdown",
   "metadata": {
    "editable": true,
    "slideshow": {
     "slide_type": "subslide"
    },
    "tags": []
   },
   "source": [
    "###### Пример 3.\n",
    "\n",
    "Посмотрим на различные типы объединения. Сооздадим и напечатаем две таблицы."
   ]
  },
  {
   "cell_type": "code",
   "execution_count": null,
   "metadata": {
    "editable": true,
    "slideshow": {
     "slide_type": "fragment"
    },
    "tags": []
   },
   "outputs": [],
   "source": [
    "left = pd.DataFrame({'lkey': ['A', 'B', 'C', 'A'],\n",
    "                     'value': range(4)})\n",
    "right = pd.DataFrame({'rkey': ['A', 'B', 'D', 'B'],\n",
    "                      'value': range(4, 8)})"
   ]
  },
  {
   "cell_type": "code",
   "execution_count": 18,
   "metadata": {
    "editable": true,
    "slideshow": {
     "slide_type": "fragment"
    },
    "tags": []
   },
   "outputs": [
    {
     "data": {
      "text/html": [
       "<div>\n",
       "<style scoped>\n",
       "    .dataframe tbody tr th:only-of-type {\n",
       "        vertical-align: middle;\n",
       "    }\n",
       "\n",
       "    .dataframe tbody tr th {\n",
       "        vertical-align: top;\n",
       "    }\n",
       "\n",
       "    .dataframe thead th {\n",
       "        text-align: right;\n",
       "    }\n",
       "</style>\n",
       "<table border=\"1\" class=\"dataframe\">\n",
       "  <thead>\n",
       "    <tr style=\"text-align: right;\">\n",
       "      <th></th>\n",
       "      <th>lkey</th>\n",
       "      <th>value</th>\n",
       "    </tr>\n",
       "  </thead>\n",
       "  <tbody>\n",
       "    <tr>\n",
       "      <th>0</th>\n",
       "      <td>A</td>\n",
       "      <td>0</td>\n",
       "    </tr>\n",
       "    <tr>\n",
       "      <th>1</th>\n",
       "      <td>B</td>\n",
       "      <td>1</td>\n",
       "    </tr>\n",
       "    <tr>\n",
       "      <th>2</th>\n",
       "      <td>C</td>\n",
       "      <td>2</td>\n",
       "    </tr>\n",
       "    <tr>\n",
       "      <th>3</th>\n",
       "      <td>A</td>\n",
       "      <td>3</td>\n",
       "    </tr>\n",
       "  </tbody>\n",
       "</table>\n",
       "</div>"
      ],
      "text/plain": [
       "  lkey  value\n",
       "0    A      0\n",
       "1    B      1\n",
       "2    C      2\n",
       "3    A      3"
      ]
     },
     "execution_count": 18,
     "metadata": {},
     "output_type": "execute_result"
    }
   ],
   "source": [
    "left"
   ]
  },
  {
   "cell_type": "code",
   "execution_count": 19,
   "metadata": {
    "editable": true,
    "slideshow": {
     "slide_type": "fragment"
    },
    "tags": []
   },
   "outputs": [
    {
     "data": {
      "text/html": [
       "<div>\n",
       "<style scoped>\n",
       "    .dataframe tbody tr th:only-of-type {\n",
       "        vertical-align: middle;\n",
       "    }\n",
       "\n",
       "    .dataframe tbody tr th {\n",
       "        vertical-align: top;\n",
       "    }\n",
       "\n",
       "    .dataframe thead th {\n",
       "        text-align: right;\n",
       "    }\n",
       "</style>\n",
       "<table border=\"1\" class=\"dataframe\">\n",
       "  <thead>\n",
       "    <tr style=\"text-align: right;\">\n",
       "      <th></th>\n",
       "      <th>rkey</th>\n",
       "      <th>value</th>\n",
       "    </tr>\n",
       "  </thead>\n",
       "  <tbody>\n",
       "    <tr>\n",
       "      <th>0</th>\n",
       "      <td>A</td>\n",
       "      <td>4</td>\n",
       "    </tr>\n",
       "    <tr>\n",
       "      <th>1</th>\n",
       "      <td>B</td>\n",
       "      <td>5</td>\n",
       "    </tr>\n",
       "    <tr>\n",
       "      <th>2</th>\n",
       "      <td>D</td>\n",
       "      <td>6</td>\n",
       "    </tr>\n",
       "    <tr>\n",
       "      <th>3</th>\n",
       "      <td>B</td>\n",
       "      <td>7</td>\n",
       "    </tr>\n",
       "  </tbody>\n",
       "</table>\n",
       "</div>"
      ],
      "text/plain": [
       "  rkey  value\n",
       "0    A      4\n",
       "1    B      5\n",
       "2    D      6\n",
       "3    B      7"
      ]
     },
     "execution_count": 19,
     "metadata": {},
     "output_type": "execute_result"
    }
   ],
   "source": [
    "right"
   ]
  },
  {
   "cell_type": "markdown",
   "metadata": {
    "editable": true,
    "slideshow": {
     "slide_type": "subslide"
    },
    "tags": []
   },
   "source": [
    "**Внешнее слияние** &mdash; используются ключи из объединения списков ключей. Иначе говоря, используются ключи, которые есть хотя бы в одной из таблиц. Если в другой таблице таких ключей нет, то ставятся пропуски."
   ]
  },
  {
   "cell_type": "code",
   "execution_count": null,
   "metadata": {
    "editable": true,
    "slideshow": {
     "slide_type": "fragment"
    },
    "tags": []
   },
   "outputs": [
    {
     "data": {
      "text/html": [
       "<div>\n",
       "<style scoped>\n",
       "    .dataframe tbody tr th:only-of-type {\n",
       "        vertical-align: middle;\n",
       "    }\n",
       "\n",
       "    .dataframe tbody tr th {\n",
       "        vertical-align: top;\n",
       "    }\n",
       "\n",
       "    .dataframe thead th {\n",
       "        text-align: right;\n",
       "    }\n",
       "</style>\n",
       "<table border=\"1\" class=\"dataframe\">\n",
       "  <thead>\n",
       "    <tr style=\"text-align: right;\">\n",
       "      <th></th>\n",
       "      <th>lkey</th>\n",
       "      <th>value_x</th>\n",
       "      <th>rkey</th>\n",
       "      <th>value_y</th>\n",
       "    </tr>\n",
       "  </thead>\n",
       "  <tbody>\n",
       "    <tr>\n",
       "      <th>0</th>\n",
       "      <td>A</td>\n",
       "      <td>0.0</td>\n",
       "      <td>A</td>\n",
       "      <td>4.0</td>\n",
       "    </tr>\n",
       "    <tr>\n",
       "      <th>1</th>\n",
       "      <td>A</td>\n",
       "      <td>3.0</td>\n",
       "      <td>A</td>\n",
       "      <td>4.0</td>\n",
       "    </tr>\n",
       "    <tr>\n",
       "      <th>2</th>\n",
       "      <td>B</td>\n",
       "      <td>1.0</td>\n",
       "      <td>B</td>\n",
       "      <td>5.0</td>\n",
       "    </tr>\n",
       "    <tr>\n",
       "      <th>3</th>\n",
       "      <td>B</td>\n",
       "      <td>1.0</td>\n",
       "      <td>B</td>\n",
       "      <td>7.0</td>\n",
       "    </tr>\n",
       "    <tr>\n",
       "      <th>4</th>\n",
       "      <td>C</td>\n",
       "      <td>2.0</td>\n",
       "      <td>NaN</td>\n",
       "      <td>NaN</td>\n",
       "    </tr>\n",
       "    <tr>\n",
       "      <th>5</th>\n",
       "      <td>NaN</td>\n",
       "      <td>NaN</td>\n",
       "      <td>D</td>\n",
       "      <td>6.0</td>\n",
       "    </tr>\n",
       "  </tbody>\n",
       "</table>\n",
       "</div>"
      ],
      "text/plain": [
       "  lkey  value_x rkey  value_y\n",
       "0    A      0.0    A      4.0\n",
       "1    A      3.0    A      4.0\n",
       "2    B      1.0    B      5.0\n",
       "3    B      1.0    B      7.0\n",
       "4    C      2.0  NaN      NaN\n",
       "5  NaN      NaN    D      6.0"
      ]
     },
     "execution_count": 20,
     "metadata": {},
     "output_type": "execute_result"
    }
   ],
   "source": [
    "pd.merge(left, right,\n",
    "         left_on='lkey', right_on='rkey', how='outer')"
   ]
  },
  {
   "cell_type": "markdown",
   "metadata": {
    "editable": true,
    "slideshow": {
     "slide_type": "subslide"
    },
    "tags": []
   },
   "source": [
    "**Внутреннее слияние** &mdash; используются ключи из пересечения списков ключей. Иначе говоря, используются ключи, которые присутствуют в обеих таблицах."
   ]
  },
  {
   "cell_type": "code",
   "execution_count": null,
   "metadata": {
    "editable": true,
    "slideshow": {
     "slide_type": "fragment"
    },
    "tags": []
   },
   "outputs": [
    {
     "data": {
      "text/html": [
       "<div>\n",
       "<style scoped>\n",
       "    .dataframe tbody tr th:only-of-type {\n",
       "        vertical-align: middle;\n",
       "    }\n",
       "\n",
       "    .dataframe tbody tr th {\n",
       "        vertical-align: top;\n",
       "    }\n",
       "\n",
       "    .dataframe thead th {\n",
       "        text-align: right;\n",
       "    }\n",
       "</style>\n",
       "<table border=\"1\" class=\"dataframe\">\n",
       "  <thead>\n",
       "    <tr style=\"text-align: right;\">\n",
       "      <th></th>\n",
       "      <th>lkey</th>\n",
       "      <th>value_x</th>\n",
       "      <th>rkey</th>\n",
       "      <th>value_y</th>\n",
       "    </tr>\n",
       "  </thead>\n",
       "  <tbody>\n",
       "    <tr>\n",
       "      <th>0</th>\n",
       "      <td>A</td>\n",
       "      <td>0</td>\n",
       "      <td>A</td>\n",
       "      <td>4</td>\n",
       "    </tr>\n",
       "    <tr>\n",
       "      <th>1</th>\n",
       "      <td>A</td>\n",
       "      <td>3</td>\n",
       "      <td>A</td>\n",
       "      <td>4</td>\n",
       "    </tr>\n",
       "    <tr>\n",
       "      <th>2</th>\n",
       "      <td>B</td>\n",
       "      <td>1</td>\n",
       "      <td>B</td>\n",
       "      <td>5</td>\n",
       "    </tr>\n",
       "    <tr>\n",
       "      <th>3</th>\n",
       "      <td>B</td>\n",
       "      <td>1</td>\n",
       "      <td>B</td>\n",
       "      <td>7</td>\n",
       "    </tr>\n",
       "  </tbody>\n",
       "</table>\n",
       "</div>"
      ],
      "text/plain": [
       "  lkey  value_x rkey  value_y\n",
       "0    A        0    A        4\n",
       "1    A        3    A        4\n",
       "2    B        1    B        5\n",
       "3    B        1    B        7"
      ]
     },
     "execution_count": 21,
     "metadata": {},
     "output_type": "execute_result"
    }
   ],
   "source": [
    "pd.merge(left, right,\n",
    "         left_on='lkey', right_on='rkey', how='inner')"
   ]
  },
  {
   "cell_type": "markdown",
   "metadata": {
    "editable": true,
    "slideshow": {
     "slide_type": "subslide"
    },
    "tags": []
   },
   "source": [
    "**Объединение по ключам левой таблицы.** Не используются ключи, которые есть в правой таблицы, но которых нет в левой. Если в правой таблице каких-то ключей нет, то ставятся пропуски."
   ]
  },
  {
   "cell_type": "code",
   "execution_count": null,
   "metadata": {
    "editable": true,
    "slideshow": {
     "slide_type": "fragment"
    },
    "tags": []
   },
   "outputs": [
    {
     "data": {
      "text/html": [
       "<div>\n",
       "<style scoped>\n",
       "    .dataframe tbody tr th:only-of-type {\n",
       "        vertical-align: middle;\n",
       "    }\n",
       "\n",
       "    .dataframe tbody tr th {\n",
       "        vertical-align: top;\n",
       "    }\n",
       "\n",
       "    .dataframe thead th {\n",
       "        text-align: right;\n",
       "    }\n",
       "</style>\n",
       "<table border=\"1\" class=\"dataframe\">\n",
       "  <thead>\n",
       "    <tr style=\"text-align: right;\">\n",
       "      <th></th>\n",
       "      <th>lkey</th>\n",
       "      <th>value_x</th>\n",
       "      <th>rkey</th>\n",
       "      <th>value_y</th>\n",
       "    </tr>\n",
       "  </thead>\n",
       "  <tbody>\n",
       "    <tr>\n",
       "      <th>0</th>\n",
       "      <td>A</td>\n",
       "      <td>0</td>\n",
       "      <td>A</td>\n",
       "      <td>4.0</td>\n",
       "    </tr>\n",
       "    <tr>\n",
       "      <th>1</th>\n",
       "      <td>B</td>\n",
       "      <td>1</td>\n",
       "      <td>B</td>\n",
       "      <td>5.0</td>\n",
       "    </tr>\n",
       "    <tr>\n",
       "      <th>2</th>\n",
       "      <td>B</td>\n",
       "      <td>1</td>\n",
       "      <td>B</td>\n",
       "      <td>7.0</td>\n",
       "    </tr>\n",
       "    <tr>\n",
       "      <th>3</th>\n",
       "      <td>C</td>\n",
       "      <td>2</td>\n",
       "      <td>NaN</td>\n",
       "      <td>NaN</td>\n",
       "    </tr>\n",
       "    <tr>\n",
       "      <th>4</th>\n",
       "      <td>A</td>\n",
       "      <td>3</td>\n",
       "      <td>A</td>\n",
       "      <td>4.0</td>\n",
       "    </tr>\n",
       "  </tbody>\n",
       "</table>\n",
       "</div>"
      ],
      "text/plain": [
       "  lkey  value_x rkey  value_y\n",
       "0    A        0    A      4.0\n",
       "1    B        1    B      5.0\n",
       "2    B        1    B      7.0\n",
       "3    C        2  NaN      NaN\n",
       "4    A        3    A      4.0"
      ]
     },
     "execution_count": 22,
     "metadata": {},
     "output_type": "execute_result"
    }
   ],
   "source": [
    "pd.merge(left, right,\n",
    "         left_on='lkey', right_on='rkey', how='left')"
   ]
  },
  {
   "cell_type": "markdown",
   "metadata": {
    "editable": true,
    "slideshow": {
     "slide_type": "subslide"
    },
    "tags": []
   },
   "source": [
    "**Объединение по ключам правой таблицы.** Не используются ключи, которые есть в левой таблицы, но которых нет в правой. Если в левой таблице каких-то ключей нет, то ставятся пропуски."
   ]
  },
  {
   "cell_type": "code",
   "execution_count": null,
   "metadata": {
    "editable": true,
    "slideshow": {
     "slide_type": "fragment"
    },
    "tags": []
   },
   "outputs": [
    {
     "data": {
      "text/html": [
       "<div>\n",
       "<style scoped>\n",
       "    .dataframe tbody tr th:only-of-type {\n",
       "        vertical-align: middle;\n",
       "    }\n",
       "\n",
       "    .dataframe tbody tr th {\n",
       "        vertical-align: top;\n",
       "    }\n",
       "\n",
       "    .dataframe thead th {\n",
       "        text-align: right;\n",
       "    }\n",
       "</style>\n",
       "<table border=\"1\" class=\"dataframe\">\n",
       "  <thead>\n",
       "    <tr style=\"text-align: right;\">\n",
       "      <th></th>\n",
       "      <th>lkey</th>\n",
       "      <th>value_x</th>\n",
       "      <th>rkey</th>\n",
       "      <th>value_y</th>\n",
       "    </tr>\n",
       "  </thead>\n",
       "  <tbody>\n",
       "    <tr>\n",
       "      <th>0</th>\n",
       "      <td>A</td>\n",
       "      <td>0.0</td>\n",
       "      <td>A</td>\n",
       "      <td>4</td>\n",
       "    </tr>\n",
       "    <tr>\n",
       "      <th>1</th>\n",
       "      <td>A</td>\n",
       "      <td>3.0</td>\n",
       "      <td>A</td>\n",
       "      <td>4</td>\n",
       "    </tr>\n",
       "    <tr>\n",
       "      <th>2</th>\n",
       "      <td>B</td>\n",
       "      <td>1.0</td>\n",
       "      <td>B</td>\n",
       "      <td>5</td>\n",
       "    </tr>\n",
       "    <tr>\n",
       "      <th>3</th>\n",
       "      <td>B</td>\n",
       "      <td>1.0</td>\n",
       "      <td>B</td>\n",
       "      <td>7</td>\n",
       "    </tr>\n",
       "    <tr>\n",
       "      <th>4</th>\n",
       "      <td>NaN</td>\n",
       "      <td>NaN</td>\n",
       "      <td>D</td>\n",
       "      <td>6</td>\n",
       "    </tr>\n",
       "  </tbody>\n",
       "</table>\n",
       "</div>"
      ],
      "text/plain": [
       "  lkey  value_x rkey  value_y\n",
       "0    A      0.0    A        4\n",
       "1    A      3.0    A        4\n",
       "2    B      1.0    B        5\n",
       "3    B      1.0    B        7\n",
       "4  NaN      NaN    D        6"
      ]
     },
     "execution_count": 23,
     "metadata": {},
     "output_type": "execute_result"
    }
   ],
   "source": [
    "pd.merge(left, right,\n",
    "         left_on='lkey', right_on='rkey', how='right')"
   ]
  },
  {
   "cell_type": "markdown",
   "metadata": {
    "editable": true,
    "slideshow": {
     "slide_type": "subslide"
    },
    "tags": []
   },
   "source": [
    "Выполним внтуреннее объединение и установим ключ качестве индекса"
   ]
  },
  {
   "cell_type": "code",
   "execution_count": null,
   "metadata": {
    "editable": true,
    "slideshow": {
     "slide_type": "fragment"
    },
    "tags": []
   },
   "outputs": [
    {
     "data": {
      "text/html": [
       "<div>\n",
       "<style scoped>\n",
       "    .dataframe tbody tr th:only-of-type {\n",
       "        vertical-align: middle;\n",
       "    }\n",
       "\n",
       "    .dataframe tbody tr th {\n",
       "        vertical-align: top;\n",
       "    }\n",
       "\n",
       "    .dataframe thead th {\n",
       "        text-align: right;\n",
       "    }\n",
       "</style>\n",
       "<table border=\"1\" class=\"dataframe\">\n",
       "  <thead>\n",
       "    <tr style=\"text-align: right;\">\n",
       "      <th></th>\n",
       "      <th>value_x</th>\n",
       "      <th>value_y</th>\n",
       "    </tr>\n",
       "    <tr>\n",
       "      <th>lkey</th>\n",
       "      <th></th>\n",
       "      <th></th>\n",
       "    </tr>\n",
       "  </thead>\n",
       "  <tbody>\n",
       "    <tr>\n",
       "      <th>A</th>\n",
       "      <td>0</td>\n",
       "      <td>4</td>\n",
       "    </tr>\n",
       "    <tr>\n",
       "      <th>A</th>\n",
       "      <td>3</td>\n",
       "      <td>4</td>\n",
       "    </tr>\n",
       "    <tr>\n",
       "      <th>B</th>\n",
       "      <td>1</td>\n",
       "      <td>5</td>\n",
       "    </tr>\n",
       "    <tr>\n",
       "      <th>B</th>\n",
       "      <td>1</td>\n",
       "      <td>7</td>\n",
       "    </tr>\n",
       "  </tbody>\n",
       "</table>\n",
       "</div>"
      ],
      "text/plain": [
       "      value_x  value_y\n",
       "lkey                  \n",
       "A           0        4\n",
       "A           3        4\n",
       "B           1        5\n",
       "B           1        7"
      ]
     },
     "execution_count": 24,
     "metadata": {},
     "output_type": "execute_result"
    }
   ],
   "source": [
    "pd.merge(left, right,\n",
    "         left_on='lkey', right_on='rkey', how='inner') \\\n",
    "        .set_index('lkey')[['value_x', 'value_y']]"
   ]
  },
  {
   "cell_type": "markdown",
   "metadata": {
    "editable": true,
    "slideshow": {
     "slide_type": "subslide"
    },
    "tags": []
   },
   "source": [
    "Ту же операцию можно выполнить с помощью `join`"
   ]
  },
  {
   "cell_type": "code",
   "execution_count": 25,
   "metadata": {
    "editable": true,
    "scrolled": true,
    "slideshow": {
     "slide_type": "fragment"
    },
    "tags": []
   },
   "outputs": [
    {
     "data": {
      "text/html": [
       "<div>\n",
       "<style scoped>\n",
       "    .dataframe tbody tr th:only-of-type {\n",
       "        vertical-align: middle;\n",
       "    }\n",
       "\n",
       "    .dataframe tbody tr th {\n",
       "        vertical-align: top;\n",
       "    }\n",
       "\n",
       "    .dataframe thead th {\n",
       "        text-align: right;\n",
       "    }\n",
       "</style>\n",
       "<table border=\"1\" class=\"dataframe\">\n",
       "  <thead>\n",
       "    <tr style=\"text-align: right;\">\n",
       "      <th></th>\n",
       "      <th>value</th>\n",
       "      <th>value_r</th>\n",
       "    </tr>\n",
       "  </thead>\n",
       "  <tbody>\n",
       "    <tr>\n",
       "      <th>A</th>\n",
       "      <td>0</td>\n",
       "      <td>4</td>\n",
       "    </tr>\n",
       "    <tr>\n",
       "      <th>A</th>\n",
       "      <td>3</td>\n",
       "      <td>4</td>\n",
       "    </tr>\n",
       "    <tr>\n",
       "      <th>B</th>\n",
       "      <td>1</td>\n",
       "      <td>5</td>\n",
       "    </tr>\n",
       "    <tr>\n",
       "      <th>B</th>\n",
       "      <td>1</td>\n",
       "      <td>7</td>\n",
       "    </tr>\n",
       "  </tbody>\n",
       "</table>\n",
       "</div>"
      ],
      "text/plain": [
       "   value  value_r\n",
       "A      0        4\n",
       "A      3        4\n",
       "B      1        5\n",
       "B      1        7"
      ]
     },
     "execution_count": 25,
     "metadata": {},
     "output_type": "execute_result"
    }
   ],
   "source": [
    "left.set_index('lkey') \\\n",
    "    .join(right.set_index('rkey'), rsuffix='_r', how='inner')"
   ]
  },
  {
   "cell_type": "markdown",
   "metadata": {
    "editable": true,
    "slideshow": {
     "slide_type": "slide"
    },
    "tags": []
   },
   "source": [
    "### 3. Группировка\n",
    "\n",
    "---------"
   ]
  },
  {
   "cell_type": "markdown",
   "metadata": {
    "editable": true,
    "slideshow": {
     "slide_type": "subslide"
    },
    "tags": []
   },
   "source": [
    "\n",
    "Часто на практике необходимо вычислять среднее по каким-либо категориям или группам в данных. Группа может определяться, например, столбцом в таблице, у которого не так много значений. Мы хотели бы для каждого такого значения посчитать среднее значение другой колонки данных в этой группе."
   ]
  },
  {
   "cell_type": "markdown",
   "metadata": {
    "editable": true,
    "slideshow": {
     "slide_type": "fragment"
    },
    "tags": []
   },
   "source": [
    "\n",
    "Этапы группировки данных:\n",
    "\n",
    "* разбиение данных на группы по некоторым критериям;\n",
    "* применение функции отдельно к каждой группе;\n",
    "* комбинирование результата в структуру данных."
   ]
  },
  {
   "cell_type": "markdown",
   "metadata": {
    "editable": true,
    "slideshow": {
     "slide_type": "subslide"
    },
    "tags": []
   },
   "source": [
    "Группировка выполняется функцией\n",
    "\n",
    "`df.groupby(by=None, axis=0, level=None, sort=True, ...)`\n",
    "\n",
    "* `df` &mdash; таблица, данные которой должны быть сгруппированы;\n",
    "* `by` &mdash; задает принцип группировки. Чаще всего это имя столбца, по которому нужно сгруппировать. Может так же быть функцией;\n",
    "* `axis` &mdash; ось (0 = группировать строки, 1 = группировать столбцы);\n",
    "* `level` &mdash; если ось представлена мультииндексом, то указывает на уровень мультииндекса;\n",
    "* `sort` &mdash; сортировка результата по индексу.\n"
   ]
  },
  {
   "cell_type": "markdown",
   "metadata": {
    "editable": true,
    "slideshow": {
     "slide_type": "subslide"
    },
    "tags": []
   },
   "source": [
    "\n",
    "Результатом группировки является объект, состоящий из пар (имя группы, подтаблица). Имя группы соответствует значению, по которому произведена группировка. К объекту-результату группировки применимы, например, следующие операции:\n",
    "\n",
    "* `for name, group in groupped: ... ` &mdash; цикл по группам;\n",
    "* `get_group(name)` &mdash; получить таблицу, соответствующую группе с именем `name`;\n",
    "* `groups` &mdash; получить все группы в виде словаря имя-подтаблица;\n",
    "* `count()` &mdash; количество значений в группах, исключая пропуски;\n",
    "* `size()` &mdash; размер групп;\n",
    "* `sum()`, `max()`, `min()`;\n",
    "* `mean()`, `median()`, `var()`, `std()`, `corr()`, `quantile(q)`;\n",
    "* `describe()` &mdash; вывод описательных статистик;\n",
    "* `aggregate(func)` &mdash; применение функции (или списка функций) `func` к группам."
   ]
  },
  {
   "cell_type": "markdown",
   "metadata": {
    "editable": true,
    "slideshow": {
     "slide_type": "subslide"
    },
    "tags": []
   },
   "source": [
    "Создадим таблицу для примера"
   ]
  },
  {
   "cell_type": "code",
   "execution_count": 26,
   "metadata": {
    "editable": true,
    "slideshow": {
     "slide_type": "fragment"
    },
    "tags": []
   },
   "outputs": [
    {
     "data": {
      "text/html": [
       "<div>\n",
       "<style scoped>\n",
       "    .dataframe tbody tr th:only-of-type {\n",
       "        vertical-align: middle;\n",
       "    }\n",
       "\n",
       "    .dataframe tbody tr th {\n",
       "        vertical-align: top;\n",
       "    }\n",
       "\n",
       "    .dataframe thead th {\n",
       "        text-align: right;\n",
       "    }\n",
       "</style>\n",
       "<table border=\"1\" class=\"dataframe\">\n",
       "  <thead>\n",
       "    <tr style=\"text-align: right;\">\n",
       "      <th></th>\n",
       "      <th>Животное</th>\n",
       "      <th>Цвет шерсти</th>\n",
       "      <th>Рост</th>\n",
       "      <th>Длина хвостика</th>\n",
       "    </tr>\n",
       "  </thead>\n",
       "  <tbody>\n",
       "    <tr>\n",
       "      <th>0</th>\n",
       "      <td>Котик</td>\n",
       "      <td>белый</td>\n",
       "      <td>33.756262</td>\n",
       "      <td>8.498897</td>\n",
       "    </tr>\n",
       "    <tr>\n",
       "      <th>1</th>\n",
       "      <td>Песик</td>\n",
       "      <td>белый</td>\n",
       "      <td>35.634198</td>\n",
       "      <td>7.056738</td>\n",
       "    </tr>\n",
       "    <tr>\n",
       "      <th>2</th>\n",
       "      <td>Котик</td>\n",
       "      <td>коричневый</td>\n",
       "      <td>30.892027</td>\n",
       "      <td>17.375188</td>\n",
       "    </tr>\n",
       "    <tr>\n",
       "      <th>3</th>\n",
       "      <td>Песик</td>\n",
       "      <td>черный</td>\n",
       "      <td>23.272997</td>\n",
       "      <td>4.179033</td>\n",
       "    </tr>\n",
       "    <tr>\n",
       "      <th>4</th>\n",
       "      <td>Котик</td>\n",
       "      <td>коричневый</td>\n",
       "      <td>33.002035</td>\n",
       "      <td>12.200925</td>\n",
       "    </tr>\n",
       "    <tr>\n",
       "      <th>5</th>\n",
       "      <td>Песик</td>\n",
       "      <td>коричневый</td>\n",
       "      <td>41.045798</td>\n",
       "      <td>14.026990</td>\n",
       "    </tr>\n",
       "    <tr>\n",
       "      <th>6</th>\n",
       "      <td>Котик</td>\n",
       "      <td>белый</td>\n",
       "      <td>42.275420</td>\n",
       "      <td>7.053550</td>\n",
       "    </tr>\n",
       "    <tr>\n",
       "      <th>7</th>\n",
       "      <td>Песик</td>\n",
       "      <td>черный</td>\n",
       "      <td>31.761933</td>\n",
       "      <td>10.652498</td>\n",
       "    </tr>\n",
       "  </tbody>\n",
       "</table>\n",
       "</div>"
      ],
      "text/plain": [
       "  Животное Цвет шерсти       Рост  Длина хвостика\n",
       "0    Котик       белый  33.756262        8.498897\n",
       "1    Песик       белый  35.634198        7.056738\n",
       "2    Котик  коричневый  30.892027       17.375188\n",
       "3    Песик      черный  23.272997        4.179033\n",
       "4    Котик  коричневый  33.002035       12.200925\n",
       "5    Песик  коричневый  41.045798       14.026990\n",
       "6    Котик       белый  42.275420        7.053550\n",
       "7    Песик      черный  31.761933       10.652498"
      ]
     },
     "execution_count": 26,
     "metadata": {},
     "output_type": "execute_result"
    }
   ],
   "source": [
    "df = pd.DataFrame({\n",
    "    'Животное' : ['Котик', 'Песик', 'Котик', 'Песик',\n",
    "                  'Котик', 'Песик', 'Котик', 'Песик'],\n",
    "    'Цвет шерсти' : ['белый', 'белый', 'коричневый', 'черный',\n",
    "                     'коричневый', 'коричневый', 'белый', 'черный'],\n",
    "    'Рост' : sps.gamma(a=12, scale=3).rvs(size=8),\n",
    "    'Длина хвостика' : sps.gamma(a=10).rvs(size=8)\n",
    "})\n",
    "\n",
    "df"
   ]
  },
  {
   "cell_type": "markdown",
   "metadata": {
    "editable": true,
    "slideshow": {
     "slide_type": "subslide"
    },
    "tags": []
   },
   "source": [
    "##### Пример 1.\n",
    "\n",
    "Если все котики встанут друг на друга, то какой их суммарный рост? А у песиков? А какова суммарная длинна хвостиков у котиков и у песиков?\n",
    "\n",
    "Группировка по одной колонке и последующее применение операции суммирования:"
   ]
  },
  {
   "cell_type": "code",
   "execution_count": 27,
   "metadata": {
    "editable": true,
    "slideshow": {
     "slide_type": "fragment"
    },
    "tags": []
   },
   "outputs": [
    {
     "data": {
      "text/html": [
       "<div>\n",
       "<style scoped>\n",
       "    .dataframe tbody tr th:only-of-type {\n",
       "        vertical-align: middle;\n",
       "    }\n",
       "\n",
       "    .dataframe tbody tr th {\n",
       "        vertical-align: top;\n",
       "    }\n",
       "\n",
       "    .dataframe thead th {\n",
       "        text-align: right;\n",
       "    }\n",
       "</style>\n",
       "<table border=\"1\" class=\"dataframe\">\n",
       "  <thead>\n",
       "    <tr style=\"text-align: right;\">\n",
       "      <th></th>\n",
       "      <th>Рост</th>\n",
       "      <th>Длина хвостика</th>\n",
       "    </tr>\n",
       "    <tr>\n",
       "      <th>Животное</th>\n",
       "      <th></th>\n",
       "      <th></th>\n",
       "    </tr>\n",
       "  </thead>\n",
       "  <tbody>\n",
       "    <tr>\n",
       "      <th>Котик</th>\n",
       "      <td>139.925743</td>\n",
       "      <td>45.12856</td>\n",
       "    </tr>\n",
       "    <tr>\n",
       "      <th>Песик</th>\n",
       "      <td>131.714925</td>\n",
       "      <td>35.91526</td>\n",
       "    </tr>\n",
       "  </tbody>\n",
       "</table>\n",
       "</div>"
      ],
      "text/plain": [
       "                Рост  Длина хвостика\n",
       "Животное                            \n",
       "Котик     139.925743        45.12856\n",
       "Песик     131.714925        35.91526"
      ]
     },
     "execution_count": 27,
     "metadata": {},
     "output_type": "execute_result"
    }
   ],
   "source": [
    "df.groupby('Животное').sum()"
   ]
  },
  {
   "cell_type": "markdown",
   "metadata": {
    "editable": true,
    "slideshow": {
     "slide_type": "subslide"
    },
    "tags": []
   },
   "source": [
    "Посчитаем описательные статистики для каждого животного"
   ]
  },
  {
   "cell_type": "code",
   "execution_count": 28,
   "metadata": {
    "editable": true,
    "slideshow": {
     "slide_type": "fragment"
    },
    "tags": []
   },
   "outputs": [
    {
     "data": {
      "text/html": [
       "<div>\n",
       "<style scoped>\n",
       "    .dataframe tbody tr th:only-of-type {\n",
       "        vertical-align: middle;\n",
       "    }\n",
       "\n",
       "    .dataframe tbody tr th {\n",
       "        vertical-align: top;\n",
       "    }\n",
       "\n",
       "    .dataframe thead tr th {\n",
       "        text-align: left;\n",
       "    }\n",
       "\n",
       "    .dataframe thead tr:last-of-type th {\n",
       "        text-align: right;\n",
       "    }\n",
       "</style>\n",
       "<table border=\"1\" class=\"dataframe\">\n",
       "  <thead>\n",
       "    <tr>\n",
       "      <th></th>\n",
       "      <th colspan=\"8\" halign=\"left\">Рост</th>\n",
       "      <th colspan=\"8\" halign=\"left\">Длина хвостика</th>\n",
       "    </tr>\n",
       "    <tr>\n",
       "      <th></th>\n",
       "      <th>count</th>\n",
       "      <th>mean</th>\n",
       "      <th>std</th>\n",
       "      <th>min</th>\n",
       "      <th>25%</th>\n",
       "      <th>50%</th>\n",
       "      <th>75%</th>\n",
       "      <th>max</th>\n",
       "      <th>count</th>\n",
       "      <th>mean</th>\n",
       "      <th>std</th>\n",
       "      <th>min</th>\n",
       "      <th>25%</th>\n",
       "      <th>50%</th>\n",
       "      <th>75%</th>\n",
       "      <th>max</th>\n",
       "    </tr>\n",
       "    <tr>\n",
       "      <th>Животное</th>\n",
       "      <th></th>\n",
       "      <th></th>\n",
       "      <th></th>\n",
       "      <th></th>\n",
       "      <th></th>\n",
       "      <th></th>\n",
       "      <th></th>\n",
       "      <th></th>\n",
       "      <th></th>\n",
       "      <th></th>\n",
       "      <th></th>\n",
       "      <th></th>\n",
       "      <th></th>\n",
       "      <th></th>\n",
       "      <th></th>\n",
       "      <th></th>\n",
       "    </tr>\n",
       "  </thead>\n",
       "  <tbody>\n",
       "    <tr>\n",
       "      <th>Котик</th>\n",
       "      <td>4.0</td>\n",
       "      <td>34.981436</td>\n",
       "      <td>5.011472</td>\n",
       "      <td>30.892027</td>\n",
       "      <td>32.474533</td>\n",
       "      <td>33.379148</td>\n",
       "      <td>35.886051</td>\n",
       "      <td>42.275420</td>\n",
       "      <td>4.0</td>\n",
       "      <td>11.282140</td>\n",
       "      <td>4.604231</td>\n",
       "      <td>7.053550</td>\n",
       "      <td>8.137560</td>\n",
       "      <td>10.349911</td>\n",
       "      <td>13.494491</td>\n",
       "      <td>17.375188</td>\n",
       "    </tr>\n",
       "    <tr>\n",
       "      <th>Песик</th>\n",
       "      <td>4.0</td>\n",
       "      <td>32.928731</td>\n",
       "      <td>7.478880</td>\n",
       "      <td>23.272997</td>\n",
       "      <td>29.639699</td>\n",
       "      <td>33.698065</td>\n",
       "      <td>36.987098</td>\n",
       "      <td>41.045798</td>\n",
       "      <td>4.0</td>\n",
       "      <td>8.978815</td>\n",
       "      <td>4.282428</td>\n",
       "      <td>4.179033</td>\n",
       "      <td>6.337312</td>\n",
       "      <td>8.854618</td>\n",
       "      <td>11.496121</td>\n",
       "      <td>14.026990</td>\n",
       "    </tr>\n",
       "  </tbody>\n",
       "</table>\n",
       "</div>"
      ],
      "text/plain": [
       "          Рост                                                        \\\n",
       "         count       mean       std        min        25%        50%   \n",
       "Животное                                                               \n",
       "Котик      4.0  34.981436  5.011472  30.892027  32.474533  33.379148   \n",
       "Песик      4.0  32.928731  7.478880  23.272997  29.639699  33.698065   \n",
       "\n",
       "                               Длина хвостика                                 \\\n",
       "                75%        max          count       mean       std       min   \n",
       "Животное                                                                       \n",
       "Котик     35.886051  42.275420            4.0  11.282140  4.604231  7.053550   \n",
       "Песик     36.987098  41.045798            4.0   8.978815  4.282428  4.179033   \n",
       "\n",
       "                                                     \n",
       "               25%        50%        75%        max  \n",
       "Животное                                             \n",
       "Котик     8.137560  10.349911  13.494491  17.375188  \n",
       "Песик     6.337312   8.854618  11.496121  14.026990  "
      ]
     },
     "execution_count": 28,
     "metadata": {},
     "output_type": "execute_result"
    }
   ],
   "source": [
    "df.groupby('Животное').describe()"
   ]
  },
  {
   "cell_type": "markdown",
   "metadata": {
    "editable": true,
    "slideshow": {
     "slide_type": "subslide"
    },
    "tags": []
   },
   "source": [
    "##### Пример 2.\n",
    "\n",
    "Теперь предположим, что котики и песики встают только на представителей своего вида и своего цвета шерсти. Что тогда будет?\n",
    "\n",
    "Группировка по двум колонкам и последующее применение операции суммирования"
   ]
  },
  {
   "cell_type": "code",
   "execution_count": 29,
   "metadata": {
    "editable": true,
    "scrolled": true,
    "slideshow": {
     "slide_type": "fragment"
    },
    "tags": []
   },
   "outputs": [
    {
     "data": {
      "text/html": [
       "<div>\n",
       "<style scoped>\n",
       "    .dataframe tbody tr th:only-of-type {\n",
       "        vertical-align: middle;\n",
       "    }\n",
       "\n",
       "    .dataframe tbody tr th {\n",
       "        vertical-align: top;\n",
       "    }\n",
       "\n",
       "    .dataframe thead th {\n",
       "        text-align: right;\n",
       "    }\n",
       "</style>\n",
       "<table border=\"1\" class=\"dataframe\">\n",
       "  <thead>\n",
       "    <tr style=\"text-align: right;\">\n",
       "      <th></th>\n",
       "      <th></th>\n",
       "      <th>Рост</th>\n",
       "      <th>Длина хвостика</th>\n",
       "    </tr>\n",
       "    <tr>\n",
       "      <th>Животное</th>\n",
       "      <th>Цвет шерсти</th>\n",
       "      <th></th>\n",
       "      <th></th>\n",
       "    </tr>\n",
       "  </thead>\n",
       "  <tbody>\n",
       "    <tr>\n",
       "      <th rowspan=\"2\" valign=\"top\">Котик</th>\n",
       "      <th>белый</th>\n",
       "      <td>76.031682</td>\n",
       "      <td>15.552447</td>\n",
       "    </tr>\n",
       "    <tr>\n",
       "      <th>коричневый</th>\n",
       "      <td>63.894061</td>\n",
       "      <td>29.576113</td>\n",
       "    </tr>\n",
       "    <tr>\n",
       "      <th rowspan=\"3\" valign=\"top\">Песик</th>\n",
       "      <th>белый</th>\n",
       "      <td>35.634198</td>\n",
       "      <td>7.056738</td>\n",
       "    </tr>\n",
       "    <tr>\n",
       "      <th>коричневый</th>\n",
       "      <td>41.045798</td>\n",
       "      <td>14.026990</td>\n",
       "    </tr>\n",
       "    <tr>\n",
       "      <th>черный</th>\n",
       "      <td>55.034930</td>\n",
       "      <td>14.831531</td>\n",
       "    </tr>\n",
       "  </tbody>\n",
       "</table>\n",
       "</div>"
      ],
      "text/plain": [
       "                           Рост  Длина хвостика\n",
       "Животное Цвет шерсти                           \n",
       "Котик    белый        76.031682       15.552447\n",
       "         коричневый   63.894061       29.576113\n",
       "Песик    белый        35.634198        7.056738\n",
       "         коричневый   41.045798       14.026990\n",
       "         черный       55.034930       14.831531"
      ]
     },
     "execution_count": 29,
     "metadata": {},
     "output_type": "execute_result"
    }
   ],
   "source": [
    "df.groupby(['Животное', 'Цвет шерсти']).sum()"
   ]
  },
  {
   "cell_type": "markdown",
   "metadata": {
    "editable": true,
    "slideshow": {
     "slide_type": "subslide"
    },
    "tags": []
   },
   "source": [
    "Полученная таблица имеет *мультииндекс*"
   ]
  },
  {
   "cell_type": "code",
   "execution_count": 30,
   "metadata": {
    "editable": true,
    "slideshow": {
     "slide_type": "fragment"
    },
    "tags": []
   },
   "outputs": [
    {
     "data": {
      "text/plain": [
       "MultiIndex([('Котик',      'белый'),\n",
       "            ('Котик', 'коричневый'),\n",
       "            ('Песик',      'белый'),\n",
       "            ('Песик', 'коричневый'),\n",
       "            ('Песик',     'черный')],\n",
       "           names=['Животное', 'Цвет шерсти'])"
      ]
     },
     "execution_count": 30,
     "metadata": {},
     "output_type": "execute_result"
    }
   ],
   "source": [
    "df.groupby(['Животное', 'Цвет шерсти']).sum().index"
   ]
  },
  {
   "cell_type": "markdown",
   "metadata": {
    "editable": true,
    "slideshow": {
     "slide_type": "slide"
    },
    "tags": []
   },
   "source": [
    "### 4. Таблицы сопряженности (Crosstab) и сводные таблицы (Pivot table)"
   ]
  },
  {
   "cell_type": "markdown",
   "metadata": {
    "editable": true,
    "slideshow": {
     "slide_type": "subslide"
    },
    "tags": []
   },
   "source": [
    "**Задача.** В медицинской клинике информацию о приемах записывают в таблицу со следующими полями:\n",
    "* время приема,\n",
    "* врач,\n",
    "* пациент,\n",
    "* поставленный диагноз,\n",
    "* назначение,\n",
    "* другие поля.\n"
   ]
  },
  {
   "cell_type": "markdown",
   "metadata": {
    "editable": true,
    "slideshow": {
     "slide_type": "fragment"
    },
    "tags": []
   },
   "source": [
    "Требуется посчитать, сколько раз за предыдущий месяц каждый врач ставил какой-либо диагноз. Результаты представить в виде таблицы, в которой посчитать также суммы по строкам и столбцам, т.е. сколько врач сделал приемов за месяц и сколько раз конкретный диагноз поставлен всеми врачами.\n",
    "\n",
    "Как решать?"
   ]
  },
  {
   "cell_type": "markdown",
   "metadata": {
    "editable": true,
    "slideshow": {
     "slide_type": "subslide"
    },
    "tags": []
   },
   "source": [
    "\n",
    "**Способ 1** \n",
    "1. Группировка по врачам.\n",
    "2. Для каждого врача группировка по диагнозам.\n",
    "3. В каждой группе вычисление суммы.\n",
    "4. Соединение в одну таблицу.\n",
    "5. Вычисление суммы по столбцам и по строкам.\n",
    "\n",
    "Можете прикинуть количество строк кода и время работы"
   ]
  },
  {
   "cell_type": "markdown",
   "metadata": {
    "editable": true,
    "slideshow": {
     "slide_type": "subslide"
    },
    "tags": []
   },
   "source": [
    "\n",
    "**Способ 2**\n",
    "1. Создать пустую таблицу.\n",
    "2. Циклом по всем записям исходной таблицы считать суммы.\n",
    "3. Вычисление суммы по столбцам и по строкам.\n",
    "\n",
    "И снова можете прикинуть количество строк кода и время работы\n"
   ]
  },
  {
   "cell_type": "markdown",
   "metadata": {
    "editable": true,
    "slideshow": {
     "slide_type": "subslide"
    },
    "tags": []
   },
   "source": [
    "\n",
    "**Способ 3**\n",
    "\n",
    "Применить умную функцию из pandas, которая сделает все сама!\n"
   ]
  },
  {
   "cell_type": "markdown",
   "metadata": {
    "editable": true,
    "slideshow": {
     "slide_type": "subslide"
    },
    "tags": []
   },
   "source": [
    "#### 4.1 Функция `pd.crosstab`\n",
    "\n",
    "Эксель-подобные таблицы сопряженности\n",
    "\n",
    "`pd.crosstab(index, columns, values=None, rownames=None, colnames=None, aggfunc=None, margins=False, margins_name='All', dropna=True, normalize=False)`\n",
    "\n",
    "* `index` &mdash; значения для группировки по строкам;\n",
    "* `columns` &mdash; значения для группировки по столбцам;\n",
    "* `values` &mdash; аггригируемый столбец (или столбцы), его значения непосредственно определяют значения таблицы сопряженности;\n",
    "* `aggfunc` &mdash; функция, которая будет применена к каждой группе значений `values`, сгруппированным по значениям`index` и `columns`. Значения этой функции и есть значения сводной таблицы;\n",
    "* `rownames` и `colnames` &mdash; имена строк и столбцов таблицы сопряженности;\n",
    "* `margins` &mdash; добавляет результирующий столбец/строку;\n",
    "* `margins_name` &mdash; имя результирующего столбец/строку;\n",
    "* `dropna` &mdash; не включать столбцы, которые состоят только из `NaN`;\n",
    "* `normalize`: `boolean`, {`'all'`, `'index'`, `'columns'`} &mdash; нормировка всей таблицы (или только по строкам/столбцам).\n",
    "\n",
    "В примере выше:\n",
    "\n",
    "`pd.crosstab(df['Врач'], df['Диагноз'], margins=True)`\n"
   ]
  },
  {
   "cell_type": "markdown",
   "metadata": {
    "editable": true,
    "slideshow": {
     "slide_type": "subslide"
    },
    "tags": []
   },
   "source": [
    "\n",
    "#### 4.2 Функция `pd.pivot_table`\n",
    "\n",
    "Эксель-подобные сводные таблицы\n",
    "\n",
    "`pd.pivot_table(data, values=None, index=None, columns=None, aggfunc='mean', fill_value=None, margins=False, dropna=True, margins_name='All')`\n",
    "\n",
    "* `data` &mdash; исходная таблица;\n",
    "* `values` &mdash; аггригируемый столбец, его значения непосредственно определяют значения сводной таблицы;\n",
    "* `index` &mdash; ключи для группировки, относятся к индексам сводной таблицы;\n",
    "* `columns` &mdash; ключи для группировки, относятся к столбцам сводной таблицы;\n",
    "* `aggfunc` &mdash; функция, которая будет применена к каждой группе значений `values`, сгруппированным по значениям `index` и `columns`. Значения этой функции и есть значения сводной таблицы. Если передается список функций, то сводная таблица имеет иерархические имена колонок, верхние значения которых &mdash; имена функций;\n",
    "* `fill_value` &mdash; значения для замены пропусков;\n",
    "* `dropna` &mdash; не включать столбцы, которые состоят только из `NaN`;\n",
    "* `margins` &mdash; добавляет результирующий столбец/строку;\n",
    "* `margins_name` &mdash; имя результирующего столбец/строку.\n",
    "\n",
    "В примере выше:\n",
    "\n",
    "`pd.pivot_table(df, index='врач', columns='диагноз', margins=True)`"
   ]
  },
  {
   "cell_type": "markdown",
   "metadata": {
    "editable": true,
    "slideshow": {
     "slide_type": "subslide"
    },
    "tags": []
   },
   "source": [
    "-------------\n",
    "\n",
    "#### 4.3 Примеры\n",
    "\n",
    "Создадим таблицу для примера"
   ]
  },
  {
   "cell_type": "code",
   "execution_count": null,
   "metadata": {
    "editable": true,
    "slideshow": {
     "slide_type": "fragment"
    },
    "tags": []
   },
   "outputs": [
    {
     "data": {
      "text/html": [
       "<div>\n",
       "<style scoped>\n",
       "    .dataframe tbody tr th:only-of-type {\n",
       "        vertical-align: middle;\n",
       "    }\n",
       "\n",
       "    .dataframe tbody tr th {\n",
       "        vertical-align: top;\n",
       "    }\n",
       "\n",
       "    .dataframe thead th {\n",
       "        text-align: right;\n",
       "    }\n",
       "</style>\n",
       "<table border=\"1\" class=\"dataframe\">\n",
       "  <thead>\n",
       "    <tr style=\"text-align: right;\">\n",
       "      <th></th>\n",
       "      <th>Специальность</th>\n",
       "      <th>Врач</th>\n",
       "      <th>Диагноз</th>\n",
       "      <th>Доза</th>\n",
       "      <th>Продолжительность</th>\n",
       "    </tr>\n",
       "  </thead>\n",
       "  <tbody>\n",
       "    <tr>\n",
       "      <th>0</th>\n",
       "      <td>Ветеринар</td>\n",
       "      <td>Андрей</td>\n",
       "      <td>Простуда</td>\n",
       "      <td>5</td>\n",
       "      <td>1</td>\n",
       "    </tr>\n",
       "    <tr>\n",
       "      <th>1</th>\n",
       "      <td>Ветеринар</td>\n",
       "      <td>Сергей</td>\n",
       "      <td>Простуда</td>\n",
       "      <td>5</td>\n",
       "      <td>2</td>\n",
       "    </tr>\n",
       "    <tr>\n",
       "      <th>2</th>\n",
       "      <td>Психолог</td>\n",
       "      <td>Ирина</td>\n",
       "      <td>Простуда</td>\n",
       "      <td>5</td>\n",
       "      <td>5</td>\n",
       "    </tr>\n",
       "    <tr>\n",
       "      <th>3</th>\n",
       "      <td>Психолог</td>\n",
       "      <td>Андрей</td>\n",
       "      <td>Волнения</td>\n",
       "      <td>3</td>\n",
       "      <td>5</td>\n",
       "    </tr>\n",
       "    <tr>\n",
       "      <th>4</th>\n",
       "      <td>Ветеринар</td>\n",
       "      <td>Сергей</td>\n",
       "      <td>Волнения</td>\n",
       "      <td>1</td>\n",
       "      <td>4</td>\n",
       "    </tr>\n",
       "    <tr>\n",
       "      <th>5</th>\n",
       "      <td>Ветеринар</td>\n",
       "      <td>Ирина</td>\n",
       "      <td>Простуда</td>\n",
       "      <td>5</td>\n",
       "      <td>3</td>\n",
       "    </tr>\n",
       "    <tr>\n",
       "      <th>6</th>\n",
       "      <td>Психолог</td>\n",
       "      <td>Андрей</td>\n",
       "      <td>Простуда</td>\n",
       "      <td>2</td>\n",
       "      <td>2</td>\n",
       "    </tr>\n",
       "    <tr>\n",
       "      <th>7</th>\n",
       "      <td>Психолог</td>\n",
       "      <td>Сергей</td>\n",
       "      <td>Простуда</td>\n",
       "      <td>4</td>\n",
       "      <td>1</td>\n",
       "    </tr>\n",
       "    <tr>\n",
       "      <th>8</th>\n",
       "      <td>Ветеринар</td>\n",
       "      <td>Ирина</td>\n",
       "      <td>Простуда</td>\n",
       "      <td>5</td>\n",
       "      <td>5</td>\n",
       "    </tr>\n",
       "    <tr>\n",
       "      <th>9</th>\n",
       "      <td>Ветеринар</td>\n",
       "      <td>Андрей</td>\n",
       "      <td>Волнения</td>\n",
       "      <td>2</td>\n",
       "      <td>4</td>\n",
       "    </tr>\n",
       "    <tr>\n",
       "      <th>10</th>\n",
       "      <td>Психолог</td>\n",
       "      <td>Сергей</td>\n",
       "      <td>Волнения</td>\n",
       "      <td>3</td>\n",
       "      <td>4</td>\n",
       "    </tr>\n",
       "    <tr>\n",
       "      <th>11</th>\n",
       "      <td>Психолог</td>\n",
       "      <td>Ирина</td>\n",
       "      <td>Простуда</td>\n",
       "      <td>3</td>\n",
       "      <td>5</td>\n",
       "    </tr>\n",
       "    <tr>\n",
       "      <th>12</th>\n",
       "      <td>Ветеринар</td>\n",
       "      <td>Андрей</td>\n",
       "      <td>Простуда</td>\n",
       "      <td>3</td>\n",
       "      <td>5</td>\n",
       "    </tr>\n",
       "    <tr>\n",
       "      <th>13</th>\n",
       "      <td>Ветеринар</td>\n",
       "      <td>Сергей</td>\n",
       "      <td>Простуда</td>\n",
       "      <td>5</td>\n",
       "      <td>4</td>\n",
       "    </tr>\n",
       "    <tr>\n",
       "      <th>14</th>\n",
       "      <td>Психолог</td>\n",
       "      <td>Ирина</td>\n",
       "      <td>Простуда</td>\n",
       "      <td>4</td>\n",
       "      <td>2</td>\n",
       "    </tr>\n",
       "    <tr>\n",
       "      <th>15</th>\n",
       "      <td>Психолог</td>\n",
       "      <td>Андрей</td>\n",
       "      <td>Волнения</td>\n",
       "      <td>5</td>\n",
       "      <td>5</td>\n",
       "    </tr>\n",
       "    <tr>\n",
       "      <th>16</th>\n",
       "      <td>Ветеринар</td>\n",
       "      <td>Сергей</td>\n",
       "      <td>Волнения</td>\n",
       "      <td>4</td>\n",
       "      <td>4</td>\n",
       "    </tr>\n",
       "    <tr>\n",
       "      <th>17</th>\n",
       "      <td>Ветеринар</td>\n",
       "      <td>Ирина</td>\n",
       "      <td>Простуда</td>\n",
       "      <td>1</td>\n",
       "      <td>2</td>\n",
       "    </tr>\n",
       "    <tr>\n",
       "      <th>18</th>\n",
       "      <td>Психолог</td>\n",
       "      <td>Андрей</td>\n",
       "      <td>Простуда</td>\n",
       "      <td>4</td>\n",
       "      <td>1</td>\n",
       "    </tr>\n",
       "    <tr>\n",
       "      <th>19</th>\n",
       "      <td>Психолог</td>\n",
       "      <td>Сергей</td>\n",
       "      <td>Простуда</td>\n",
       "      <td>3</td>\n",
       "      <td>4</td>\n",
       "    </tr>\n",
       "    <tr>\n",
       "      <th>20</th>\n",
       "      <td>Ветеринар</td>\n",
       "      <td>Ирина</td>\n",
       "      <td>Простуда</td>\n",
       "      <td>2</td>\n",
       "      <td>5</td>\n",
       "    </tr>\n",
       "    <tr>\n",
       "      <th>21</th>\n",
       "      <td>Ветеринар</td>\n",
       "      <td>Андрей</td>\n",
       "      <td>Волнения</td>\n",
       "      <td>5</td>\n",
       "      <td>5</td>\n",
       "    </tr>\n",
       "    <tr>\n",
       "      <th>22</th>\n",
       "      <td>Психолог</td>\n",
       "      <td>Сергей</td>\n",
       "      <td>Волнения</td>\n",
       "      <td>2</td>\n",
       "      <td>1</td>\n",
       "    </tr>\n",
       "    <tr>\n",
       "      <th>23</th>\n",
       "      <td>Психолог</td>\n",
       "      <td>Ирина</td>\n",
       "      <td>Простуда</td>\n",
       "      <td>3</td>\n",
       "      <td>4</td>\n",
       "    </tr>\n",
       "  </tbody>\n",
       "</table>\n",
       "</div>"
      ],
      "text/plain": [
       "   Специальность    Врач   Диагноз  Доза  Продолжительность\n",
       "0      Ветеринар  Андрей  Простуда     5                  1\n",
       "1      Ветеринар  Сергей  Простуда     5                  2\n",
       "2       Психолог   Ирина  Простуда     5                  5\n",
       "3       Психолог  Андрей  Волнения     3                  5\n",
       "4      Ветеринар  Сергей  Волнения     1                  4\n",
       "5      Ветеринар   Ирина  Простуда     5                  3\n",
       "6       Психолог  Андрей  Простуда     2                  2\n",
       "7       Психолог  Сергей  Простуда     4                  1\n",
       "8      Ветеринар   Ирина  Простуда     5                  5\n",
       "9      Ветеринар  Андрей  Волнения     2                  4\n",
       "10      Психолог  Сергей  Волнения     3                  4\n",
       "11      Психолог   Ирина  Простуда     3                  5\n",
       "12     Ветеринар  Андрей  Простуда     3                  5\n",
       "13     Ветеринар  Сергей  Простуда     5                  4\n",
       "14      Психолог   Ирина  Простуда     4                  2\n",
       "15      Психолог  Андрей  Волнения     5                  5\n",
       "16     Ветеринар  Сергей  Волнения     4                  4\n",
       "17     Ветеринар   Ирина  Простуда     1                  2\n",
       "18      Психолог  Андрей  Простуда     4                  1\n",
       "19      Психолог  Сергей  Простуда     3                  4\n",
       "20     Ветеринар   Ирина  Простуда     2                  5\n",
       "21     Ветеринар  Андрей  Волнения     5                  5\n",
       "22      Психолог  Сергей  Волнения     2                  1\n",
       "23      Психолог   Ирина  Простуда     3                  4"
      ]
     },
     "execution_count": 31,
     "metadata": {},
     "output_type": "execute_result"
    }
   ],
   "source": [
    "df = pd.DataFrame({\n",
    "    'Специальность' : ['Ветеринар', 'Ветеринар',\n",
    "                       'Психолог', 'Психолог'] * 6,\n",
    "    'Врач' : ['Андрей', 'Сергей', 'Ирина'] * 8,\n",
    "    'Диагноз' : ['Простуда', 'Простуда', 'Простуда',\n",
    "                 'Волнения', 'Волнения', 'Простуда'] * 4,\n",
    "    'Доза' : sps.randint(low=1, high=6).rvs(size=24),\n",
    "    'Продолжительность' : sps.randint(low=1, high=6).rvs(size=24)\n",
    "})\n",
    "\n",
    "df"
   ]
  },
  {
   "cell_type": "markdown",
   "metadata": {
    "editable": true,
    "slideshow": {
     "slide_type": "subslide"
    },
    "tags": []
   },
   "source": [
    "Посчитаем, сколько раз какой врач ставил каждый из диагнозов, а также суммы по строкам и столбцам"
   ]
  },
  {
   "cell_type": "code",
   "execution_count": 32,
   "metadata": {
    "editable": true,
    "slideshow": {
     "slide_type": "fragment"
    },
    "tags": []
   },
   "outputs": [
    {
     "data": {
      "text/html": [
       "<div>\n",
       "<style scoped>\n",
       "    .dataframe tbody tr th:only-of-type {\n",
       "        vertical-align: middle;\n",
       "    }\n",
       "\n",
       "    .dataframe tbody tr th {\n",
       "        vertical-align: top;\n",
       "    }\n",
       "\n",
       "    .dataframe thead th {\n",
       "        text-align: right;\n",
       "    }\n",
       "</style>\n",
       "<table border=\"1\" class=\"dataframe\">\n",
       "  <thead>\n",
       "    <tr style=\"text-align: right;\">\n",
       "      <th>Диагноз</th>\n",
       "      <th>Волнения</th>\n",
       "      <th>Простуда</th>\n",
       "      <th>All</th>\n",
       "    </tr>\n",
       "    <tr>\n",
       "      <th>Врач</th>\n",
       "      <th></th>\n",
       "      <th></th>\n",
       "      <th></th>\n",
       "    </tr>\n",
       "  </thead>\n",
       "  <tbody>\n",
       "    <tr>\n",
       "      <th>Андрей</th>\n",
       "      <td>4</td>\n",
       "      <td>4</td>\n",
       "      <td>8</td>\n",
       "    </tr>\n",
       "    <tr>\n",
       "      <th>Ирина</th>\n",
       "      <td>0</td>\n",
       "      <td>8</td>\n",
       "      <td>8</td>\n",
       "    </tr>\n",
       "    <tr>\n",
       "      <th>Сергей</th>\n",
       "      <td>4</td>\n",
       "      <td>4</td>\n",
       "      <td>8</td>\n",
       "    </tr>\n",
       "    <tr>\n",
       "      <th>All</th>\n",
       "      <td>8</td>\n",
       "      <td>16</td>\n",
       "      <td>24</td>\n",
       "    </tr>\n",
       "  </tbody>\n",
       "</table>\n",
       "</div>"
      ],
      "text/plain": [
       "Диагноз  Волнения  Простуда  All\n",
       "Врач                            \n",
       "Андрей          4         4    8\n",
       "Ирина           0         8    8\n",
       "Сергей          4         4    8\n",
       "All             8        16   24"
      ]
     },
     "execution_count": 32,
     "metadata": {},
     "output_type": "execute_result"
    }
   ],
   "source": [
    "pd.crosstab(df['Врач'], df['Диагноз'], margins=True)"
   ]
  },
  {
   "cell_type": "markdown",
   "metadata": {
    "editable": true,
    "slideshow": {
     "slide_type": "subslide"
    },
    "tags": []
   },
   "source": [
    "Посчитаем, какую среднюю дозу какой врач назначал по каждому из диагнозов"
   ]
  },
  {
   "cell_type": "code",
   "execution_count": null,
   "metadata": {
    "editable": true,
    "slideshow": {
     "slide_type": "fragment"
    },
    "tags": []
   },
   "outputs": [
    {
     "data": {
      "text/html": [
       "<div>\n",
       "<style scoped>\n",
       "    .dataframe tbody tr th:only-of-type {\n",
       "        vertical-align: middle;\n",
       "    }\n",
       "\n",
       "    .dataframe tbody tr th {\n",
       "        vertical-align: top;\n",
       "    }\n",
       "\n",
       "    .dataframe thead th {\n",
       "        text-align: right;\n",
       "    }\n",
       "</style>\n",
       "<table border=\"1\" class=\"dataframe\">\n",
       "  <thead>\n",
       "    <tr style=\"text-align: right;\">\n",
       "      <th>Диагноз</th>\n",
       "      <th>Волнения</th>\n",
       "      <th>Простуда</th>\n",
       "    </tr>\n",
       "    <tr>\n",
       "      <th>Врач</th>\n",
       "      <th></th>\n",
       "      <th></th>\n",
       "    </tr>\n",
       "  </thead>\n",
       "  <tbody>\n",
       "    <tr>\n",
       "      <th>Андрей</th>\n",
       "      <td>3.75</td>\n",
       "      <td>3.50</td>\n",
       "    </tr>\n",
       "    <tr>\n",
       "      <th>Ирина</th>\n",
       "      <td>NaN</td>\n",
       "      <td>3.50</td>\n",
       "    </tr>\n",
       "    <tr>\n",
       "      <th>Сергей</th>\n",
       "      <td>2.50</td>\n",
       "      <td>4.25</td>\n",
       "    </tr>\n",
       "  </tbody>\n",
       "</table>\n",
       "</div>"
      ],
      "text/plain": [
       "Диагноз  Волнения  Простуда\n",
       "Врач                       \n",
       "Андрей       3.75      3.50\n",
       "Ирина         NaN      3.50\n",
       "Сергей       2.50      4.25"
      ]
     },
     "execution_count": 33,
     "metadata": {},
     "output_type": "execute_result"
    }
   ],
   "source": [
    "pd.crosstab(df['Врач'], df['Диагноз'],\n",
    "            values=df['Доза'], aggfunc=np.mean)"
   ]
  },
  {
   "cell_type": "markdown",
   "metadata": {
    "editable": true,
    "slideshow": {
     "slide_type": "subslide"
    },
    "tags": []
   },
   "source": [
    "Простейший вариант сводной таблицы &mdash; среднее в группах, определяемых столбцом. Посчитаем средние по каждому врачу"
   ]
  },
  {
   "cell_type": "code",
   "execution_count": 34,
   "metadata": {
    "editable": true,
    "slideshow": {
     "slide_type": "fragment"
    },
    "tags": []
   },
   "outputs": [
    {
     "data": {
      "text/html": [
       "<div>\n",
       "<style scoped>\n",
       "    .dataframe tbody tr th:only-of-type {\n",
       "        vertical-align: middle;\n",
       "    }\n",
       "\n",
       "    .dataframe tbody tr th {\n",
       "        vertical-align: top;\n",
       "    }\n",
       "\n",
       "    .dataframe thead th {\n",
       "        text-align: right;\n",
       "    }\n",
       "</style>\n",
       "<table border=\"1\" class=\"dataframe\">\n",
       "  <thead>\n",
       "    <tr style=\"text-align: right;\">\n",
       "      <th></th>\n",
       "      <th>Доза</th>\n",
       "      <th>Продолжительность</th>\n",
       "    </tr>\n",
       "    <tr>\n",
       "      <th>Врач</th>\n",
       "      <th></th>\n",
       "      <th></th>\n",
       "    </tr>\n",
       "  </thead>\n",
       "  <tbody>\n",
       "    <tr>\n",
       "      <th>Андрей</th>\n",
       "      <td>3.625</td>\n",
       "      <td>3.500</td>\n",
       "    </tr>\n",
       "    <tr>\n",
       "      <th>Ирина</th>\n",
       "      <td>3.500</td>\n",
       "      <td>3.875</td>\n",
       "    </tr>\n",
       "    <tr>\n",
       "      <th>Сергей</th>\n",
       "      <td>3.375</td>\n",
       "      <td>3.000</td>\n",
       "    </tr>\n",
       "  </tbody>\n",
       "</table>\n",
       "</div>"
      ],
      "text/plain": [
       "         Доза  Продолжительность\n",
       "Врач                            \n",
       "Андрей  3.625              3.500\n",
       "Ирина   3.500              3.875\n",
       "Сергей  3.375              3.000"
      ]
     },
     "execution_count": 34,
     "metadata": {},
     "output_type": "execute_result"
    }
   ],
   "source": [
    "pd.pivot_table(df, index=['Врач'])"
   ]
  },
  {
   "cell_type": "markdown",
   "metadata": {
    "editable": true,
    "slideshow": {
     "slide_type": "subslide"
    },
    "tags": []
   },
   "source": [
    "Посчитаем, сколько раз врач и в какой специальности ставил тот или иной диагноз"
   ]
  },
  {
   "cell_type": "code",
   "execution_count": null,
   "metadata": {
    "editable": true,
    "slideshow": {
     "slide_type": "fragment"
    },
    "tags": []
   },
   "outputs": [
    {
     "data": {
      "text/html": [
       "<div>\n",
       "<style scoped>\n",
       "    .dataframe tbody tr th:only-of-type {\n",
       "        vertical-align: middle;\n",
       "    }\n",
       "\n",
       "    .dataframe tbody tr th {\n",
       "        vertical-align: top;\n",
       "    }\n",
       "\n",
       "    .dataframe thead th {\n",
       "        text-align: right;\n",
       "    }\n",
       "</style>\n",
       "<table border=\"1\" class=\"dataframe\">\n",
       "  <thead>\n",
       "    <tr style=\"text-align: right;\">\n",
       "      <th></th>\n",
       "      <th>Диагноз</th>\n",
       "      <th>Волнения</th>\n",
       "      <th>Простуда</th>\n",
       "    </tr>\n",
       "    <tr>\n",
       "      <th>Специальность</th>\n",
       "      <th>Врач</th>\n",
       "      <th></th>\n",
       "      <th></th>\n",
       "    </tr>\n",
       "  </thead>\n",
       "  <tbody>\n",
       "    <tr>\n",
       "      <th rowspan=\"3\" valign=\"top\">Ветеринар</th>\n",
       "      <th>Андрей</th>\n",
       "      <td>7.0</td>\n",
       "      <td>8.0</td>\n",
       "    </tr>\n",
       "    <tr>\n",
       "      <th>Ирина</th>\n",
       "      <td>NaN</td>\n",
       "      <td>13.0</td>\n",
       "    </tr>\n",
       "    <tr>\n",
       "      <th>Сергей</th>\n",
       "      <td>5.0</td>\n",
       "      <td>10.0</td>\n",
       "    </tr>\n",
       "    <tr>\n",
       "      <th rowspan=\"3\" valign=\"top\">Психолог</th>\n",
       "      <th>Андрей</th>\n",
       "      <td>8.0</td>\n",
       "      <td>6.0</td>\n",
       "    </tr>\n",
       "    <tr>\n",
       "      <th>Ирина</th>\n",
       "      <td>NaN</td>\n",
       "      <td>15.0</td>\n",
       "    </tr>\n",
       "    <tr>\n",
       "      <th>Сергей</th>\n",
       "      <td>5.0</td>\n",
       "      <td>7.0</td>\n",
       "    </tr>\n",
       "  </tbody>\n",
       "</table>\n",
       "</div>"
      ],
      "text/plain": [
       "Диагноз               Волнения  Простуда\n",
       "Специальность Врач                      \n",
       "Ветеринар     Андрей       7.0       8.0\n",
       "              Ирина        NaN      13.0\n",
       "              Сергей       5.0      10.0\n",
       "Психолог      Андрей       8.0       6.0\n",
       "              Ирина        NaN      15.0\n",
       "              Сергей       5.0       7.0"
      ]
     },
     "execution_count": 35,
     "metadata": {},
     "output_type": "execute_result"
    }
   ],
   "source": [
    "pd.pivot_table(df,\n",
    "               values='Доза',\n",
    "               index=['Специальность', 'Врач'],\n",
    "               columns=['Диагноз'],\n",
    "               aggfunc=np.sum)"
   ]
  },
  {
   "cell_type": "markdown",
   "metadata": {
    "editable": true,
    "slideshow": {
     "slide_type": "subslide"
    },
    "tags": []
   },
   "source": [
    "Добавим строчку, являющейся суммой столбцов, и столбец, являющийся суммой строк"
   ]
  },
  {
   "cell_type": "code",
   "execution_count": null,
   "metadata": {
    "editable": true,
    "slideshow": {
     "slide_type": "fragment"
    },
    "tags": []
   },
   "outputs": [
    {
     "data": {
      "text/html": [
       "<div>\n",
       "<style scoped>\n",
       "    .dataframe tbody tr th:only-of-type {\n",
       "        vertical-align: middle;\n",
       "    }\n",
       "\n",
       "    .dataframe tbody tr th {\n",
       "        vertical-align: top;\n",
       "    }\n",
       "\n",
       "    .dataframe thead th {\n",
       "        text-align: right;\n",
       "    }\n",
       "</style>\n",
       "<table border=\"1\" class=\"dataframe\">\n",
       "  <thead>\n",
       "    <tr style=\"text-align: right;\">\n",
       "      <th></th>\n",
       "      <th>Диагноз</th>\n",
       "      <th>Волнения</th>\n",
       "      <th>Простуда</th>\n",
       "      <th>All</th>\n",
       "    </tr>\n",
       "    <tr>\n",
       "      <th>Специальность</th>\n",
       "      <th>Врач</th>\n",
       "      <th></th>\n",
       "      <th></th>\n",
       "      <th></th>\n",
       "    </tr>\n",
       "  </thead>\n",
       "  <tbody>\n",
       "    <tr>\n",
       "      <th rowspan=\"3\" valign=\"top\">Ветеринар</th>\n",
       "      <th>Андрей</th>\n",
       "      <td>7.0</td>\n",
       "      <td>8.0</td>\n",
       "      <td>15</td>\n",
       "    </tr>\n",
       "    <tr>\n",
       "      <th>Ирина</th>\n",
       "      <td>NaN</td>\n",
       "      <td>13.0</td>\n",
       "      <td>13</td>\n",
       "    </tr>\n",
       "    <tr>\n",
       "      <th>Сергей</th>\n",
       "      <td>5.0</td>\n",
       "      <td>10.0</td>\n",
       "      <td>15</td>\n",
       "    </tr>\n",
       "    <tr>\n",
       "      <th rowspan=\"3\" valign=\"top\">Психолог</th>\n",
       "      <th>Андрей</th>\n",
       "      <td>8.0</td>\n",
       "      <td>6.0</td>\n",
       "      <td>14</td>\n",
       "    </tr>\n",
       "    <tr>\n",
       "      <th>Ирина</th>\n",
       "      <td>NaN</td>\n",
       "      <td>15.0</td>\n",
       "      <td>15</td>\n",
       "    </tr>\n",
       "    <tr>\n",
       "      <th>Сергей</th>\n",
       "      <td>5.0</td>\n",
       "      <td>7.0</td>\n",
       "      <td>12</td>\n",
       "    </tr>\n",
       "    <tr>\n",
       "      <th>All</th>\n",
       "      <th></th>\n",
       "      <td>25.0</td>\n",
       "      <td>59.0</td>\n",
       "      <td>84</td>\n",
       "    </tr>\n",
       "  </tbody>\n",
       "</table>\n",
       "</div>"
      ],
      "text/plain": [
       "Диагноз               Волнения  Простуда  All\n",
       "Специальность Врач                           \n",
       "Ветеринар     Андрей       7.0       8.0   15\n",
       "              Ирина        NaN      13.0   13\n",
       "              Сергей       5.0      10.0   15\n",
       "Психолог      Андрей       8.0       6.0   14\n",
       "              Ирина        NaN      15.0   15\n",
       "              Сергей       5.0       7.0   12\n",
       "All                       25.0      59.0   84"
      ]
     },
     "execution_count": 36,
     "metadata": {},
     "output_type": "execute_result"
    }
   ],
   "source": [
    "pd.pivot_table(df,\n",
    "               values='Доза',\n",
    "               index=['Специальность', 'Врач'],\n",
    "               columns=['Диагноз'],\n",
    "               aggfunc=np.sum,\n",
    "               margins=True)"
   ]
  },
  {
   "cell_type": "markdown",
   "metadata": {
    "editable": true,
    "slideshow": {
     "slide_type": "subslide"
    },
    "tags": []
   },
   "source": [
    "Применим несколько функций и несколько столбцов со значениями"
   ]
  },
  {
   "cell_type": "code",
   "execution_count": null,
   "metadata": {
    "editable": true,
    "slideshow": {
     "slide_type": "fragment"
    },
    "tags": []
   },
   "outputs": [
    {
     "data": {
      "text/html": [
       "<div>\n",
       "<style scoped>\n",
       "    .dataframe tbody tr th:only-of-type {\n",
       "        vertical-align: middle;\n",
       "    }\n",
       "\n",
       "    .dataframe tbody tr th {\n",
       "        vertical-align: top;\n",
       "    }\n",
       "\n",
       "    .dataframe thead tr th {\n",
       "        text-align: left;\n",
       "    }\n",
       "\n",
       "    .dataframe thead tr:last-of-type th {\n",
       "        text-align: right;\n",
       "    }\n",
       "</style>\n",
       "<table border=\"1\" class=\"dataframe\">\n",
       "  <thead>\n",
       "    <tr>\n",
       "      <th></th>\n",
       "      <th></th>\n",
       "      <th colspan=\"6\" halign=\"left\">amin</th>\n",
       "      <th colspan=\"6\" halign=\"left\">mean</th>\n",
       "      <th colspan=\"6\" halign=\"left\">amax</th>\n",
       "    </tr>\n",
       "    <tr>\n",
       "      <th></th>\n",
       "      <th></th>\n",
       "      <th colspan=\"3\" halign=\"left\">Доза</th>\n",
       "      <th colspan=\"3\" halign=\"left\">Продолжительность</th>\n",
       "      <th colspan=\"3\" halign=\"left\">Доза</th>\n",
       "      <th colspan=\"3\" halign=\"left\">Продолжительность</th>\n",
       "      <th colspan=\"3\" halign=\"left\">Доза</th>\n",
       "      <th colspan=\"3\" halign=\"left\">Продолжительность</th>\n",
       "    </tr>\n",
       "    <tr>\n",
       "      <th></th>\n",
       "      <th>Диагноз</th>\n",
       "      <th>Волнения</th>\n",
       "      <th>Простуда</th>\n",
       "      <th>All</th>\n",
       "      <th>Волнения</th>\n",
       "      <th>Простуда</th>\n",
       "      <th>All</th>\n",
       "      <th>Волнения</th>\n",
       "      <th>Простуда</th>\n",
       "      <th>All</th>\n",
       "      <th>Волнения</th>\n",
       "      <th>Простуда</th>\n",
       "      <th>All</th>\n",
       "      <th>Волнения</th>\n",
       "      <th>Простуда</th>\n",
       "      <th>All</th>\n",
       "      <th>Волнения</th>\n",
       "      <th>Простуда</th>\n",
       "      <th>All</th>\n",
       "    </tr>\n",
       "    <tr>\n",
       "      <th>Специальность</th>\n",
       "      <th>Врач</th>\n",
       "      <th></th>\n",
       "      <th></th>\n",
       "      <th></th>\n",
       "      <th></th>\n",
       "      <th></th>\n",
       "      <th></th>\n",
       "      <th></th>\n",
       "      <th></th>\n",
       "      <th></th>\n",
       "      <th></th>\n",
       "      <th></th>\n",
       "      <th></th>\n",
       "      <th></th>\n",
       "      <th></th>\n",
       "      <th></th>\n",
       "      <th></th>\n",
       "      <th></th>\n",
       "      <th></th>\n",
       "    </tr>\n",
       "  </thead>\n",
       "  <tbody>\n",
       "    <tr>\n",
       "      <th rowspan=\"3\" valign=\"top\">Ветеринар</th>\n",
       "      <th>Андрей</th>\n",
       "      <td>2.0</td>\n",
       "      <td>3.0</td>\n",
       "      <td>2</td>\n",
       "      <td>4.0</td>\n",
       "      <td>1.0</td>\n",
       "      <td>1</td>\n",
       "      <td>3.500</td>\n",
       "      <td>4.0000</td>\n",
       "      <td>3.75</td>\n",
       "      <td>4.5</td>\n",
       "      <td>3.0000</td>\n",
       "      <td>3.750000</td>\n",
       "      <td>5.0</td>\n",
       "      <td>5.0</td>\n",
       "      <td>5</td>\n",
       "      <td>5.0</td>\n",
       "      <td>5.0</td>\n",
       "      <td>5</td>\n",
       "    </tr>\n",
       "    <tr>\n",
       "      <th>Ирина</th>\n",
       "      <td>NaN</td>\n",
       "      <td>1.0</td>\n",
       "      <td>1</td>\n",
       "      <td>NaN</td>\n",
       "      <td>2.0</td>\n",
       "      <td>2</td>\n",
       "      <td>NaN</td>\n",
       "      <td>3.2500</td>\n",
       "      <td>3.25</td>\n",
       "      <td>NaN</td>\n",
       "      <td>3.7500</td>\n",
       "      <td>3.750000</td>\n",
       "      <td>NaN</td>\n",
       "      <td>5.0</td>\n",
       "      <td>5</td>\n",
       "      <td>NaN</td>\n",
       "      <td>5.0</td>\n",
       "      <td>5</td>\n",
       "    </tr>\n",
       "    <tr>\n",
       "      <th>Сергей</th>\n",
       "      <td>1.0</td>\n",
       "      <td>5.0</td>\n",
       "      <td>1</td>\n",
       "      <td>4.0</td>\n",
       "      <td>2.0</td>\n",
       "      <td>2</td>\n",
       "      <td>2.500</td>\n",
       "      <td>5.0000</td>\n",
       "      <td>3.75</td>\n",
       "      <td>4.0</td>\n",
       "      <td>3.0000</td>\n",
       "      <td>3.500000</td>\n",
       "      <td>4.0</td>\n",
       "      <td>5.0</td>\n",
       "      <td>5</td>\n",
       "      <td>4.0</td>\n",
       "      <td>4.0</td>\n",
       "      <td>4</td>\n",
       "    </tr>\n",
       "    <tr>\n",
       "      <th rowspan=\"3\" valign=\"top\">Психолог</th>\n",
       "      <th>Андрей</th>\n",
       "      <td>3.0</td>\n",
       "      <td>2.0</td>\n",
       "      <td>2</td>\n",
       "      <td>5.0</td>\n",
       "      <td>1.0</td>\n",
       "      <td>1</td>\n",
       "      <td>4.000</td>\n",
       "      <td>3.0000</td>\n",
       "      <td>3.50</td>\n",
       "      <td>5.0</td>\n",
       "      <td>1.5000</td>\n",
       "      <td>3.250000</td>\n",
       "      <td>5.0</td>\n",
       "      <td>4.0</td>\n",
       "      <td>5</td>\n",
       "      <td>5.0</td>\n",
       "      <td>2.0</td>\n",
       "      <td>5</td>\n",
       "    </tr>\n",
       "    <tr>\n",
       "      <th>Ирина</th>\n",
       "      <td>NaN</td>\n",
       "      <td>3.0</td>\n",
       "      <td>3</td>\n",
       "      <td>NaN</td>\n",
       "      <td>2.0</td>\n",
       "      <td>2</td>\n",
       "      <td>NaN</td>\n",
       "      <td>3.7500</td>\n",
       "      <td>3.75</td>\n",
       "      <td>NaN</td>\n",
       "      <td>4.0000</td>\n",
       "      <td>4.000000</td>\n",
       "      <td>NaN</td>\n",
       "      <td>5.0</td>\n",
       "      <td>5</td>\n",
       "      <td>NaN</td>\n",
       "      <td>5.0</td>\n",
       "      <td>5</td>\n",
       "    </tr>\n",
       "    <tr>\n",
       "      <th>Сергей</th>\n",
       "      <td>2.0</td>\n",
       "      <td>3.0</td>\n",
       "      <td>2</td>\n",
       "      <td>1.0</td>\n",
       "      <td>1.0</td>\n",
       "      <td>1</td>\n",
       "      <td>2.500</td>\n",
       "      <td>3.5000</td>\n",
       "      <td>3.00</td>\n",
       "      <td>2.5</td>\n",
       "      <td>2.5000</td>\n",
       "      <td>2.500000</td>\n",
       "      <td>3.0</td>\n",
       "      <td>4.0</td>\n",
       "      <td>4</td>\n",
       "      <td>4.0</td>\n",
       "      <td>4.0</td>\n",
       "      <td>4</td>\n",
       "    </tr>\n",
       "    <tr>\n",
       "      <th>All</th>\n",
       "      <th></th>\n",
       "      <td>1.0</td>\n",
       "      <td>1.0</td>\n",
       "      <td>1</td>\n",
       "      <td>1.0</td>\n",
       "      <td>1.0</td>\n",
       "      <td>1</td>\n",
       "      <td>3.125</td>\n",
       "      <td>3.6875</td>\n",
       "      <td>3.50</td>\n",
       "      <td>4.0</td>\n",
       "      <td>3.1875</td>\n",
       "      <td>3.458333</td>\n",
       "      <td>5.0</td>\n",
       "      <td>5.0</td>\n",
       "      <td>5</td>\n",
       "      <td>5.0</td>\n",
       "      <td>5.0</td>\n",
       "      <td>5</td>\n",
       "    </tr>\n",
       "  </tbody>\n",
       "</table>\n",
       "</div>"
      ],
      "text/plain": [
       "                         amin                                              \\\n",
       "                         Доза              Продолжительность                \n",
       "Диагноз              Волнения Простуда All          Волнения Простуда All   \n",
       "Специальность Врач                                                          \n",
       "Ветеринар     Андрей      2.0      3.0   2               4.0      1.0   1   \n",
       "              Ирина       NaN      1.0   1               NaN      2.0   2   \n",
       "              Сергей      1.0      5.0   1               4.0      2.0   2   \n",
       "Психолог      Андрей      3.0      2.0   2               5.0      1.0   1   \n",
       "              Ирина       NaN      3.0   3               NaN      2.0   2   \n",
       "              Сергей      2.0      3.0   2               1.0      1.0   1   \n",
       "All                       1.0      1.0   1               1.0      1.0   1   \n",
       "\n",
       "                         mean                                            \\\n",
       "                         Доза                Продолжительность            \n",
       "Диагноз              Волнения Простуда   All          Волнения Простуда   \n",
       "Специальность Врач                                                        \n",
       "Ветеринар     Андрей    3.500   4.0000  3.75               4.5   3.0000   \n",
       "              Ирина       NaN   3.2500  3.25               NaN   3.7500   \n",
       "              Сергей    2.500   5.0000  3.75               4.0   3.0000   \n",
       "Психолог      Андрей    4.000   3.0000  3.50               5.0   1.5000   \n",
       "              Ирина       NaN   3.7500  3.75               NaN   4.0000   \n",
       "              Сергей    2.500   3.5000  3.00               2.5   2.5000   \n",
       "All                     3.125   3.6875  3.50               4.0   3.1875   \n",
       "\n",
       "                                   amax                                 \\\n",
       "                                   Доза              Продолжительность   \n",
       "Диагноз                    All Волнения Простуда All          Волнения   \n",
       "Специальность Врач                                                       \n",
       "Ветеринар     Андрей  3.750000      5.0      5.0   5               5.0   \n",
       "              Ирина   3.750000      NaN      5.0   5               NaN   \n",
       "              Сергей  3.500000      4.0      5.0   5               4.0   \n",
       "Психолог      Андрей  3.250000      5.0      4.0   5               5.0   \n",
       "              Ирина   4.000000      NaN      5.0   5               NaN   \n",
       "              Сергей  2.500000      3.0      4.0   4               4.0   \n",
       "All                   3.458333      5.0      5.0   5               5.0   \n",
       "\n",
       "                                   \n",
       "                                   \n",
       "Диагноз              Простуда All  \n",
       "Специальность Врач                 \n",
       "Ветеринар     Андрей      5.0   5  \n",
       "              Ирина       5.0   5  \n",
       "              Сергей      4.0   4  \n",
       "Психолог      Андрей      2.0   5  \n",
       "              Ирина       5.0   5  \n",
       "              Сергей      4.0   4  \n",
       "All                       5.0   5  "
      ]
     },
     "execution_count": 37,
     "metadata": {},
     "output_type": "execute_result"
    }
   ],
   "source": [
    "pd.pivot_table(df,\n",
    "               values=['Доза', 'Продолжительность'],\n",
    "               index=['Специальность', 'Врач'],\n",
    "               columns=['Диагноз'],\n",
    "               aggfunc=[np.min, np.mean, np.max],\n",
    "               margins=True)"
   ]
  }
 ],
 "metadata": {
  "kernelspec": {
   "display_name": "Python 3 (ipykernel)",
   "language": "python",
   "name": "python3"
  },
  "language_info": {
   "codemirror_mode": {
    "name": "ipython",
    "version": 3
   },
   "file_extension": ".py",
   "mimetype": "text/x-python",
   "name": "python",
   "nbconvert_exporter": "python",
   "pygments_lexer": "ipython3",
   "version": "3.8.10"
  },
  "vscode": {
   "interpreter": {
    "hash": "33e61429d47ea5072c304948017faf4b8066559ab931d76623e2d35f352f9359"
   }
  }
 },
 "nbformat": 4,
 "nbformat_minor": 4
}
