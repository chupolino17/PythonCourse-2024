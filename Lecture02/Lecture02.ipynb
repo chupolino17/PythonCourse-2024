{
 "cells": [
  {
   "cell_type": "code",
   "execution_count": 1,
   "metadata": {
    "slideshow": {
     "slide_type": "skip"
    }
   },
   "outputs": [],
   "source": [
    "from IPython.core.interactiveshell import InteractiveShell\n",
    "InteractiveShell.ast_node_interactivity = \"all\""
   ]
  },
  {
   "cell_type": "markdown",
   "metadata": {
    "slideshow": {
     "slide_type": "slide"
    }
   },
   "source": [
    "# PYTHON 3\n",
    "## Lecture 2 \n",
    "### Loops, Containers, String, Dicts, Sets, Collections.\n",
    "\n",
    "<img src=\"https://encrypted-tbn0.gstatic.com/images?q=tbn:ANd9GcR1z0LC70CF3lPE1Xe-Uka4Y5sSlLzrAVHCQg&s\" align=\"right\" style=\"height: 200px;\"/>\n",
    "\n",
    "### Chupov Dmitrii\n",
    "\n",
    "\n",
    "MIPT 2024"
   ]
  },
  {
   "cell_type": "markdown",
   "metadata": {
    "slideshow": {
     "slide_type": "slide"
    }
   },
   "source": [
    "# Условия, циклы, контейнеры"
   ]
  },
  {
   "cell_type": "markdown",
   "metadata": {
    "slideshow": {
     "slide_type": "slide"
    }
   },
   "source": [
    "# Содержание \n",
    "\n",
    "1. Tuple/list и основные операции с ними\n",
    "2. range\n",
    "3. list comprehensions\n",
    "4. generator expressions\n",
    "5. Модуль itertools\n",
    "6. Словари\n",
    "7. Множества\n",
    "8. Collections"
   ]
  },
  {
   "cell_type": "markdown",
   "metadata": {
    "slideshow": {
     "slide_type": "slide"
    }
   },
   "source": [
    "# 1. Tuple/list и основные операции с ними\n"
   ]
  },
  {
   "cell_type": "code",
   "execution_count": 37,
   "metadata": {},
   "outputs": [
    {
     "data": {
      "text/plain": [
       "list"
      ]
     },
     "execution_count": 37,
     "metadata": {},
     "output_type": "execute_result"
    },
    {
     "data": {
      "text/plain": [
       "['i', 'can', 'be', 'modified']"
      ]
     },
     "execution_count": 37,
     "metadata": {},
     "output_type": "execute_result"
    },
    {
     "data": {
      "text/plain": [
       "tuple"
      ]
     },
     "execution_count": 37,
     "metadata": {},
     "output_type": "execute_result"
    },
    {
     "ename": "TypeError",
     "evalue": "'tuple' object does not support item assignment",
     "output_type": "error",
     "traceback": [
      "\u001b[0;31m---------------------------------------------------------------------------\u001b[0m",
      "\u001b[0;31mTypeError\u001b[0m                                 Traceback (most recent call last)",
      "\u001b[0;32m<ipython-input-37-53ad9c23e4c9>\u001b[0m in \u001b[0;36m<module>\u001b[0;34m\u001b[0m\n\u001b[1;32m      6\u001b[0m \u001b[0mt\u001b[0m \u001b[0;34m=\u001b[0m \u001b[0;34m(\u001b[0m\u001b[0;34m'i'\u001b[0m\u001b[0;34m,\u001b[0m \u001b[0;34m'cannot'\u001b[0m\u001b[0;34m,\u001b[0m \u001b[0;34m'be'\u001b[0m\u001b[0;34m,\u001b[0m \u001b[0;34m'modified'\u001b[0m\u001b[0;34m)\u001b[0m\u001b[0;34m\u001b[0m\u001b[0;34m\u001b[0m\u001b[0m\n\u001b[1;32m      7\u001b[0m \u001b[0mtype\u001b[0m\u001b[0;34m(\u001b[0m\u001b[0mt\u001b[0m\u001b[0;34m)\u001b[0m\u001b[0;34m\u001b[0m\u001b[0;34m\u001b[0m\u001b[0m\n\u001b[0;32m----> 8\u001b[0;31m \u001b[0mt\u001b[0m\u001b[0;34m[\u001b[0m\u001b[0;36m1\u001b[0m\u001b[0;34m]\u001b[0m \u001b[0;34m=\u001b[0m \u001b[0;34m'can'\u001b[0m\u001b[0;34m\u001b[0m\u001b[0;34m\u001b[0m\u001b[0m\n\u001b[0m\u001b[1;32m      9\u001b[0m \u001b[0mt\u001b[0m\u001b[0;34m\u001b[0m\u001b[0;34m\u001b[0m\u001b[0m\n",
      "\u001b[0;31mTypeError\u001b[0m: 'tuple' object does not support item assignment"
     ]
    }
   ],
   "source": [
    "t = ['i', 'cannot', 'be', 'modified']\n",
    "type(t)\n",
    "t[1] = 'can'\n",
    "t\n",
    "\n",
    "t = ('i', 'cannot', 'be', 'modified')\n",
    "type(t)\n",
    "t[1] = 'can'\n",
    "t"
   ]
  },
  {
   "cell_type": "code",
   "execution_count": 4,
   "metadata": {
    "slideshow": {
     "slide_type": "subslide"
    }
   },
   "outputs": [
    {
     "data": {
      "text/plain": [
       "[[1, 1, 1], [1, 1, 1], [1, 1, 1]]"
      ]
     },
     "execution_count": 4,
     "metadata": {},
     "output_type": "execute_result"
    },
    {
     "data": {
      "text/plain": [
       "[[0, 1, 1], [0, 1, 1], [0, 1, 1]]"
      ]
     },
     "execution_count": 4,
     "metadata": {},
     "output_type": "execute_result"
    },
    {
     "data": {
      "text/plain": [
       "[[2, 1, 1], [2, 1, 1], [2, 1, 1]]"
      ]
     },
     "execution_count": 4,
     "metadata": {},
     "output_type": "execute_result"
    },
    {
     "data": {
      "text/plain": [
       "[2, 1, 1]"
      ]
     },
     "execution_count": 4,
     "metadata": {},
     "output_type": "execute_result"
    }
   ],
   "source": [
    "# Оператор связывания не создаёт копии контейнеров!\n",
    "\n",
    "c = [1, 1, 1]\n",
    "\n",
    "a = [c] * 3\n",
    "\n",
    "a\n",
    "\n",
    "c[0] = 0\n",
    "\n",
    "a\n",
    "\n",
    "a[0][0] = 2\n",
    "\n",
    "a\n",
    "\n",
    "c"
   ]
  },
  {
   "cell_type": "code",
   "execution_count": 2,
   "metadata": {
    "slideshow": {
     "slide_type": "subslide"
    }
   },
   "outputs": [
    {
     "ename": "IndexError",
     "evalue": "tuple index out of range",
     "output_type": "error",
     "traceback": [
      "\u001b[0;31m---------------------------------------------------------------------------\u001b[0m",
      "\u001b[0;31mIndexError\u001b[0m                                Traceback (most recent call last)",
      "Cell \u001b[0;32mIn [2], line 13\u001b[0m\n\u001b[1;32m     11\u001b[0m tea_party[\u001b[38;5;241m0\u001b[39m:\u001b[38;5;241m5\u001b[39m:\u001b[38;5;241m2\u001b[39m] \u001b[38;5;66;03m# а ещё можно задать шаг прохода s - в данном случае элементы выводятся \"через один\"\u001b[39;00m\n\u001b[1;32m     12\u001b[0m tea_party[::\u001b[38;5;241m-\u001b[39m\u001b[38;5;241m1\u001b[39m] \u001b[38;5;66;03m# а если задать шаг равным -1, список можно развернуть!\u001b[39;00m\n\u001b[0;32m---> 13\u001b[0m \u001b[43mtea_party\u001b[49m\u001b[43m[\u001b[49m\u001b[38;5;241;43m4\u001b[39;49m\u001b[43m]\u001b[49m \u001b[38;5;66;03m# вылезли за пределы\u001b[39;00m\n",
      "\u001b[0;31mIndexError\u001b[0m: tuple index out of range"
     ]
    }
   ],
   "source": [
    "#срезы (slices)\n",
    "tea_party = ('Rabbit', 'Bear', 'Fox', 'Turtle')\n",
    "\n",
    "#tea_party[a:b:s]\n",
    "tea_party[:] # Если нет ни a, ни b - выводится список целиком\n",
    "tea_party[1:3] # а включительно, b НЕ включительно\n",
    "tea_party[:2]\n",
    "tea_party[3:]\n",
    "tea_party[-1] # Последний элемент списка\n",
    "tea_party[:-1] # Все элементы списка, кроме последнего\n",
    "tea_party[0:5:2] # а ещё можно задать шаг прохода s - в данном случае элементы выводятся \"через один\"\n",
    "tea_party[::-1] # а если задать шаг равным -1, список можно развернуть!\n",
    "tea_party[4] # вылезли за пределы"
   ]
  },
  {
   "cell_type": "code",
   "execution_count": 5,
   "metadata": {
    "slideshow": {
     "slide_type": "subslide"
    }
   },
   "outputs": [
    {
     "name": "stdout",
     "output_type": "stream",
     "text": [
      "140518043403664\n",
      "['Rabbit', 'Bear', 'Fox', 'Turtle']\n",
      "140518043630720\n",
      "['Rabbit', 'Cat', 'Whale', 'Turtle']\n",
      "140518043630720\n"
     ]
    }
   ],
   "source": [
    "# Изменения по срезам\n",
    "print(id(tea_party))\n",
    "tea_party_list = list(tea_party)\n",
    "\n",
    "print(tea_party_list)\n",
    "print(id(tea_party_list))\n",
    "\n",
    "tea_party_list[1:3] = ['Cat','Whale']\n",
    "\n",
    "print(tea_party_list)\n",
    "print(id(tea_party_list))"
   ]
  },
  {
   "cell_type": "code",
   "execution_count": 23,
   "metadata": {
    "slideshow": {
     "slide_type": "subslide"
    }
   },
   "outputs": [
    {
     "data": {
      "text/plain": [
       "True"
      ]
     },
     "execution_count": 23,
     "metadata": {},
     "output_type": "execute_result"
    },
    {
     "data": {
      "text/plain": [
       "False"
      ]
     },
     "execution_count": 23,
     "metadata": {},
     "output_type": "execute_result"
    }
   ],
   "source": [
    "#Копирование через срезы\n",
    "\n",
    "tea_party_not_so_copy = tea_party_list\n",
    "\n",
    "tea_party_not_so_copy is tea_party_list\n",
    "\n",
    "tea_party_copy = tea_party_list[:]\n",
    "\n",
    "tea_party_copy is tea_party_list\n"
   ]
  },
  {
   "cell_type": "code",
   "execution_count": 7,
   "metadata": {
    "slideshow": {
     "slide_type": "subslide"
    }
   },
   "outputs": [
    {
     "name": "stdout",
     "output_type": "stream",
     "text": [
      "[1, 3, 5, 7, 7, 7, 5, 3, 1, 8]\n",
      "[1, 2, 3, 5, 7, 7, 7, 5, 3, 1, 8]\n",
      "[1, 2, 5, 7, 7, 7, 5, 3, 1, 8]\n",
      "[1, 2, 5, 7, 7, 5, 3, 1, 8]\n",
      "2\n",
      "[1, 1, 2, 3, 5, 5, 7, 7, 8]\n",
      "8\n",
      "[1, 1, 2, 3, 5, 5, 7, 7]\n"
     ]
    }
   ],
   "source": [
    "#методы\n",
    "spisok = [1, 3, 5, 7, 7, 7, 5, 3, 1]\n",
    "\n",
    "spisok.append(8) # Метод append(v) добавляет в конец нашего списка новый элемент, здесь - число 8\n",
    "print(spisok)\n",
    "\n",
    "spisok.insert(1,2) # Метод insert(a,b) вставляет элемент b в позицию с индексом a в наш список\n",
    "print(spisok)\n",
    "\n",
    "spisok.remove(3) # Метод remove(v) удаляет из списка элемент со значением v (если v несколько - первое слева)\n",
    "print(spisok)\n",
    "\n",
    "i = 4\n",
    "del spisok[i] # А вот так можно удалить элемент по индексу i, а не по значению v\n",
    "print(spisok)\n",
    "\n",
    "sevens = spisok.count(7) # Метод count(v) возвращает число равных v элементов в списке\n",
    "print(sevens)\n",
    "\n",
    "spisok.sort() #Сортируем список\n",
    "print(spisok)\n",
    "\n",
    "d = spisok.pop() # Получаем последний элемент, удаляя его из списка\n",
    "print(d)\n",
    "print(spisok)"
   ]
  },
  {
   "cell_type": "code",
   "execution_count": 45,
   "metadata": {
    "slideshow": {
     "slide_type": "subslide"
    }
   },
   "outputs": [
    {
     "data": {
      "text/plain": [
       "9"
      ]
     },
     "execution_count": 45,
     "metadata": {},
     "output_type": "execute_result"
    },
    {
     "data": {
      "text/plain": [
       "39"
      ]
     },
     "execution_count": 45,
     "metadata": {},
     "output_type": "execute_result"
    },
    {
     "data": {
      "text/plain": [
       "7"
      ]
     },
     "execution_count": 45,
     "metadata": {},
     "output_type": "execute_result"
    },
    {
     "data": {
      "text/plain": [
       "1"
      ]
     },
     "execution_count": 45,
     "metadata": {},
     "output_type": "execute_result"
    },
    {
     "data": {
      "text/plain": [
       "[1, 3, 5, 7, 7, 7, 5, 3, 1]"
      ]
     },
     "execution_count": 45,
     "metadata": {},
     "output_type": "execute_result"
    },
    {
     "data": {
      "text/plain": [
       "[1, 1, 3, 3, 5, 5, 7, 7, 7]"
      ]
     },
     "execution_count": 45,
     "metadata": {},
     "output_type": "execute_result"
    }
   ],
   "source": [
    "#функции\n",
    "\n",
    "spisok = [1, 3, 5, 7, 7, 7, 5, 3, 1]\n",
    "\n",
    "len(spisok)\n",
    "sum(spisok)\n",
    "max(spisok)\n",
    "min(spisok)\n",
    "\n",
    "sorted_spisok = sorted(spisok) # В отличие от list.sort(), sorted() не меняет исходный список, а создаёт копию\n",
    "spisok\n",
    "sorted_spisok"
   ]
  },
  {
   "cell_type": "code",
   "execution_count": 6,
   "metadata": {
    "slideshow": {
     "slide_type": "subslide"
    }
   },
   "outputs": [
    {
     "data": {
      "text/plain": [
       "[(0, 'a', 1), (1, 'b', 2)]"
      ]
     },
     "execution_count": 6,
     "metadata": {},
     "output_type": "execute_result"
    }
   ],
   "source": [
    "#Функция zip - создание поэлементных кортежей (завершается по минимальному размеру из аргументов)\n",
    "\n",
    "[pair for pair in zip(range(10), 'abc', [1, 2])]"
   ]
  },
  {
   "cell_type": "code",
   "execution_count": 6,
   "metadata": {
    "slideshow": {
     "slide_type": "subslide"
    }
   },
   "outputs": [
    {
     "name": "stdout",
     "output_type": "stream",
     "text": [
      "[1, 2, 3, 4, 5]\n",
      "1 2 3 4 5\n"
     ]
    }
   ],
   "source": [
    "# Оператор распаковки\n",
    "\n",
    "spisok = [1, 2, 3, 4, 5]\n",
    "\n",
    "print(spisok) # печатаем список\n",
    "print(*spisok) # печатаем элементы списка, эквивалент - print(spisok[0],spisok[1],...)"
   ]
  },
  {
   "cell_type": "code",
   "execution_count": 9,
   "metadata": {
    "slideshow": {
     "slide_type": "subslide"
    }
   },
   "outputs": [
    {
     "name": "stdout",
     "output_type": "stream",
     "text": [
      "['Привет,', 'я', 'обычное', 'предложение,', 'во', 'мне', 'есть', 'слова', 'и', 'пробелы']\n",
      "Привет,___я___обычное___предложение,___во___мне___есть___слова___и___пробелы\n",
      "['Прив', 'т,___я___обычно', '___пр', 'длож', 'ни', ',___во___мн', '___', 'сть___слова___и___проб', 'лы']\n",
      "Привэт,___я___обычноэ___прэдложэниэ,___во___мнэ___эсть___слова___и___пробэлы\n"
     ]
    }
   ],
   "source": [
    "# Полезные функции split(str) и str.join(list):\n",
    "\n",
    "A = 'Привет, я обычное предложение, во мне есть слова и пробелы'.split()\n",
    "print(A)\n",
    "\n",
    "B = '___'.join(A)\n",
    "print(B)\n",
    "\n",
    "C = B.split('е')\n",
    "print(C)\n",
    "\n",
    "D = 'э'.join(C)\n",
    "print(D)"
   ]
  },
  {
   "cell_type": "markdown",
   "metadata": {
    "slideshow": {
     "slide_type": "slide"
    }
   },
   "source": [
    "# 2. range\n"
   ]
  },
  {
   "cell_type": "markdown",
   "metadata": {},
   "source": [
    "Часто используются списки, элементами которых являются числа, идущие с определенным шагом. Для создания таких списков можно использовать специальную функцию **range(start, end, step)**:"
   ]
  },
  {
   "cell_type": "code",
   "execution_count": 54,
   "metadata": {},
   "outputs": [
    {
     "data": {
      "text/plain": [
       "range(0, 10)"
      ]
     },
     "execution_count": 54,
     "metadata": {},
     "output_type": "execute_result"
    },
    {
     "data": {
      "text/plain": [
       "range"
      ]
     },
     "execution_count": 54,
     "metadata": {},
     "output_type": "execute_result"
    },
    {
     "data": {
      "text/plain": [
       "[0, 1, 2, 3, 4, 5, 6, 7, 8, 9]"
      ]
     },
     "execution_count": 54,
     "metadata": {},
     "output_type": "execute_result"
    },
    {
     "data": {
      "text/plain": [
       "[1, 2, 3, 4, 5, 6, 7, 8, 9]"
      ]
     },
     "execution_count": 54,
     "metadata": {},
     "output_type": "execute_result"
    },
    {
     "data": {
      "text/plain": [
       "[0, 3, 6, 9, 12, 15, 18]"
      ]
     },
     "execution_count": 54,
     "metadata": {},
     "output_type": "execute_result"
    }
   ],
   "source": [
    "# Вызов функции range(N) создает список с элементами от 0 до N-1.\n",
    "range(10)\n",
    "# Если честно - функция range(N) является генератором и создаёт объект типа \"итератор\"\n",
    "type(range(10))\n",
    "\n",
    "# Для наглядности будем преобразовывать range в список функцией list()\n",
    "list(range(10)) # если параметр только один, то это параметр end, а start==0 и step==1\n",
    "list(range(1, 10)) # если параметра два, то это (start, end), а step==1\n",
    "list(range(0, 20, 3))\n",
    "\n",
    "# end НЕ включительно!"
   ]
  },
  {
   "cell_type": "code",
   "execution_count": 55,
   "metadata": {
    "slideshow": {
     "slide_type": "subslide"
    }
   },
   "outputs": [
    {
     "data": {
      "text/plain": [
       "[100, 98, 96, 94, 92, 90, 88, 86, 84, 82, 80, 78, 76]"
      ]
     },
     "execution_count": 55,
     "metadata": {},
     "output_type": "execute_result"
    },
    {
     "ename": "TypeError",
     "evalue": "'float' object cannot be interpreted as an integer",
     "output_type": "error",
     "traceback": [
      "\u001b[0;31m---------------------------------------------------------------------------\u001b[0m",
      "\u001b[0;31mTypeError\u001b[0m                                 Traceback (most recent call last)",
      "\u001b[0;32m<ipython-input-55-a8b1645d27f5>\u001b[0m in \u001b[0;36m<module>\u001b[0;34m\u001b[0m\n\u001b[1;32m      1\u001b[0m \u001b[0mlist\u001b[0m\u001b[0;34m(\u001b[0m\u001b[0mrange\u001b[0m\u001b[0;34m(\u001b[0m\u001b[0;36m100\u001b[0m\u001b[0;34m,\u001b[0m \u001b[0;36m75\u001b[0m\u001b[0;34m,\u001b[0m \u001b[0;34m-\u001b[0m\u001b[0;36m2\u001b[0m\u001b[0;34m)\u001b[0m\u001b[0;34m)\u001b[0m \u001b[0;31m# Шаг может быть и отрицательным\u001b[0m\u001b[0;34m\u001b[0m\u001b[0;34m\u001b[0m\u001b[0m\n\u001b[1;32m      2\u001b[0m \u001b[0;34m\u001b[0m\u001b[0m\n\u001b[0;32m----> 3\u001b[0;31m \u001b[0mlist\u001b[0m\u001b[0;34m(\u001b[0m\u001b[0mrange\u001b[0m\u001b[0;34m(\u001b[0m\u001b[0;36m1\u001b[0m\u001b[0;34m,\u001b[0m\u001b[0;36m10\u001b[0m\u001b[0;34m,\u001b[0m\u001b[0;36m0.5\u001b[0m\u001b[0;34m)\u001b[0m\u001b[0;34m)\u001b[0m \u001b[0;31m# А вот нецелым числом шаг быть не может!\u001b[0m\u001b[0;34m\u001b[0m\u001b[0;34m\u001b[0m\u001b[0m\n\u001b[0m",
      "\u001b[0;31mTypeError\u001b[0m: 'float' object cannot be interpreted as an integer"
     ]
    }
   ],
   "source": [
    "list(range(100, 75, -2)) # Шаг может быть и отрицательным\n",
    "\n",
    "list(range(1, 10, 0.5)) # А вот нецелым числом шаг быть не может!"
   ]
  },
  {
   "cell_type": "markdown",
   "metadata": {
    "slideshow": {
     "slide_type": "slide"
    }
   },
   "source": [
    "# 3. list comprehensions\n"
   ]
  },
  {
   "cell_type": "markdown",
   "metadata": {},
   "source": [
    "### В питоне есть очень удобная штука под названием list comprehension, выглядит она вот так:"
   ]
  },
  {
   "cell_type": "code",
   "execution_count": 56,
   "metadata": {},
   "outputs": [
    {
     "data": {
      "text/plain": [
       "[0, 4, 16, 36, 64]"
      ]
     },
     "execution_count": 56,
     "metadata": {},
     "output_type": "execute_result"
    }
   ],
   "source": [
    "#Общий вид такой: [выражение по всем x из список/итератор при условии что x ...]\n",
    "\n",
    "[x**2 for x in range(10) if x%2 == 0] # вот так можно создать список квадратов чётных чисел меньше 10\n"
   ]
  },
  {
   "cell_type": "code",
   "execution_count": 62,
   "metadata": {
    "slideshow": {
     "slide_type": "subslide"
    }
   },
   "outputs": [
    {
     "data": {
      "text/plain": [
       "[(4, 2), (6, 2), (6, 3), (8, 2), (8, 4), (9, 3)]"
      ]
     },
     "execution_count": 62,
     "metadata": {},
     "output_type": "execute_result"
    }
   ],
   "source": [
    "# List comprehension умеет и в двойной цикл\n",
    "\n",
    "sorted([(y, x) for x in range(2, 10) for y in range(x+1, 10) if y%x == 0])"
   ]
  },
  {
   "cell_type": "code",
   "execution_count": 63,
   "metadata": {
    "slideshow": {
     "slide_type": "subslide"
    }
   },
   "outputs": [
    {
     "data": {
      "text/plain": [
       "[[0, 0, 0], [0, 0, 0], [0, 0, 0]]"
      ]
     },
     "execution_count": 63,
     "metadata": {},
     "output_type": "execute_result"
    },
    {
     "data": {
      "text/plain": [
       "[[0, 0, 0], [0, 0, 0], [0, 0, 0]]"
      ]
     },
     "execution_count": 63,
     "metadata": {},
     "output_type": "execute_result"
    }
   ],
   "source": [
    "# По оговоренным ранее (каким?) причинам, вместо:\n",
    "[[0]*3]*3\n",
    "\n",
    "# Лучше использовать:\n",
    "[[0]*3 for i in range(3)]"
   ]
  },
  {
   "cell_type": "markdown",
   "metadata": {
    "slideshow": {
     "slide_type": "slide"
    }
   },
   "source": [
    "# 4. generator expressions\n"
   ]
  },
  {
   "cell_type": "code",
   "execution_count": 68,
   "metadata": {},
   "outputs": [
    {
     "data": {
      "text/plain": [
       "285"
      ]
     },
     "execution_count": 68,
     "metadata": {},
     "output_type": "execute_result"
    },
    {
     "data": {
      "text/plain": [
       "285"
      ]
     },
     "execution_count": 68,
     "metadata": {},
     "output_type": "execute_result"
    },
    {
     "data": {
      "text/plain": [
       "list"
      ]
     },
     "execution_count": 68,
     "metadata": {},
     "output_type": "execute_result"
    },
    {
     "data": {
      "text/plain": [
       "generator"
      ]
     },
     "execution_count": 68,
     "metadata": {},
     "output_type": "execute_result"
    }
   ],
   "source": [
    "# Иногда удобно создать генератор вместо списка,\n",
    "# чтобы не хранить в памяти весь список сразу,\n",
    "# а перебирать по одному\n",
    "\n",
    "sum([x*x for x in range(10)]) # list comprehension\n",
    "sum(x*x for x in range(10))   # generator expression\n",
    "\n",
    "# А в чём разница?\n",
    "\n",
    "type([x*x for x in range(10)])\n",
    "type(x*x for x in range(10))"
   ]
  },
  {
   "cell_type": "markdown",
   "metadata": {
    "slideshow": {
     "slide_type": "slide"
    }
   },
   "source": [
    "# 5. itertools\n",
    "\n",
    "https://docs.python.org/3/library/itertools.html"
   ]
  },
  {
   "cell_type": "code",
   "execution_count": 8,
   "metadata": {},
   "outputs": [
    {
     "name": "stdout",
     "output_type": "stream",
     "text": [
      "0 a\n",
      "0 b\n",
      "0 c\n",
      "1 a\n",
      "1 b\n",
      "1 c\n",
      "\n",
      "0 a\n",
      "0 b\n",
      "0 c\n",
      "1 a\n",
      "1 b\n",
      "1 c\n"
     ]
    }
   ],
   "source": [
    "import itertools\n",
    "\n",
    "#Product: можно \"разворачивать\" циклы\n",
    "\n",
    "for i in range(2):\n",
    "    for j in \"abc\":\n",
    "        print(i, j)\n",
    "\n",
    "print()\n",
    "\n",
    "#Эквивалентно:\n",
    "for i, j in itertools.product(range(2), \"abc\"):\n",
    "    print(i, j)"
   ]
  },
  {
   "cell_type": "markdown",
   "metadata": {
    "slideshow": {
     "slide_type": "subslide"
    }
   },
   "source": [
    "Прочая комбинаторика: перестановки, комбинации, комбинации с повторениями"
   ]
  },
  {
   "cell_type": "code",
   "execution_count": 9,
   "metadata": {},
   "outputs": [
    {
     "data": {
      "text/plain": [
       "[(1, 2, 3), (1, 3, 2), (2, 1, 3), (2, 3, 1), (3, 1, 2), (3, 2, 1)]"
      ]
     },
     "execution_count": 9,
     "metadata": {},
     "output_type": "execute_result"
    }
   ],
   "source": [
    "list(itertools.permutations([1,2,3]))"
   ]
  },
  {
   "cell_type": "code",
   "execution_count": 10,
   "metadata": {},
   "outputs": [
    {
     "data": {
      "text/plain": [
       "[(1, 2), (1, 3), (2, 3)]"
      ]
     },
     "execution_count": 10,
     "metadata": {},
     "output_type": "execute_result"
    }
   ],
   "source": [
    "list(itertools.combinations([1,2,3], 2))"
   ]
  },
  {
   "cell_type": "code",
   "execution_count": 11,
   "metadata": {},
   "outputs": [
    {
     "data": {
      "text/plain": [
       "[(1, 1), (1, 2), (1, 3), (2, 2), (2, 3), (3, 3)]"
      ]
     },
     "execution_count": 11,
     "metadata": {},
     "output_type": "execute_result"
    }
   ],
   "source": [
    "list(itertools.combinations_with_replacement([1,2,3], 2))"
   ]
  },
  {
   "cell_type": "markdown",
   "metadata": {
    "slideshow": {
     "slide_type": "subslide"
    }
   },
   "source": [
    "Бесконечные генераторы: count, cycle, repeat"
   ]
  },
  {
   "cell_type": "code",
   "execution_count": 12,
   "metadata": {},
   "outputs": [
    {
     "name": "stdout",
     "output_type": "stream",
     "text": [
      "(0, 1, 'oak', 0)\n",
      "(1, 2, 'oak', 1)\n",
      "(2, 3, 'oak', 2)\n",
      "(3, 1, 'oak', 3)\n",
      "(4, 2, 'oak', 4)\n",
      "(5, 3, 'oak', 5)\n",
      "(6, 1, 'oak', 6)\n"
     ]
    }
   ],
   "source": [
    "for elems in zip(itertools.count(), itertools.cycle([1,2,3]), itertools.repeat(\"oak\"), range(7)):\n",
    "    print(elems)"
   ]
  },
  {
   "cell_type": "markdown",
   "metadata": {
    "slideshow": {
     "slide_type": "subslide"
    }
   },
   "source": [
    "первые N элементов"
   ]
  },
  {
   "cell_type": "code",
   "execution_count": 13,
   "metadata": {},
   "outputs": [
    {
     "data": {
      "text/plain": [
       "[0, 1, 2, 3, 4]"
      ]
     },
     "execution_count": 13,
     "metadata": {},
     "output_type": "execute_result"
    }
   ],
   "source": [
    "list(itertools.islice(itertools.count(), 5))"
   ]
  },
  {
   "cell_type": "markdown",
   "metadata": {
    "slideshow": {
     "slide_type": "slide"
    }
   },
   "source": [
    "### Создание и удаление\n",
    "\n",
    "\n",
    "- Note: При создании двух mutable-объектов отдельно - они будут гарантированно разными. Для immutable объектов это верно не всегда.\n",
    "- Об удалении объектов заботиться не нужно, за вас всё сделает интерпретатор"
   ]
  },
  {
   "cell_type": "markdown",
   "metadata": {
    "slideshow": {
     "slide_type": "slide"
    }
   },
   "source": [
    "## 6. Словари\n",
    "\n",
    "Универсальное средство для выражения связей между объектами, подсчёта, группировки.\n",
    "Их иногда ещё называют **ассоциативными массивами или хеш-таблицами**."
   ]
  },
  {
   "cell_type": "code",
   "execution_count": 1,
   "metadata": {},
   "outputs": [
    {
     "data": {
      "text/plain": [
       "{'Key1': 'Value1', 'Key2': 'Value2'}"
      ]
     },
     "execution_count": 1,
     "metadata": {},
     "output_type": "execute_result"
    }
   ],
   "source": [
    "a = {'Key1' : 'Value1', 'Key2' : 'Value2'}\n",
    "a"
   ]
  },
  {
   "cell_type": "code",
   "execution_count": 2,
   "metadata": {
    "slideshow": {
     "slide_type": "subslide"
    }
   },
   "outputs": [
    {
     "data": {
      "text/plain": [
       "{1: 1, 2: 4, 3: 9}"
      ]
     },
     "execution_count": 2,
     "metadata": {},
     "output_type": "execute_result"
    }
   ],
   "source": [
    "b = dict([(1, 1), (2, 4), (3, 9)])\n",
    "b"
   ]
  },
  {
   "cell_type": "markdown",
   "metadata": {},
   "source": [
    "Ключом словаря может быть любой hashable-объект. (mutable == not hashable)\n",
    "\n",
    "Определение hashable из документации Python: https://docs.python.org/3/glossary.html#term-hashable \n",
    "\n",
    "Если коротко, то у объекта должен быть правильно определен метод `__hash__()`"
   ]
  },
  {
   "cell_type": "markdown",
   "metadata": {
    "slideshow": {
     "slide_type": "subslide"
    }
   },
   "source": [
    "Хэш от инта - само значение инта\n",
    "\n",
    "All of Python’s immutable built-in objects are hashable; mutable containers (such as lists or dictionaries) are not. Objects which are instances of user-defined classes are hashable by default. They all compare unequal (except with themselves), and their hash value is derived from their id()."
   ]
  },
  {
   "cell_type": "code",
   "execution_count": 10,
   "metadata": {},
   "outputs": [
    {
     "name": "stdout",
     "output_type": "stream",
     "text": [
      "343\n",
      "1\n"
     ]
    },
    {
     "data": {
      "text/plain": [
       "-4283234814681434623"
      ]
     },
     "execution_count": 10,
     "metadata": {},
     "output_type": "execute_result"
    }
   ],
   "source": [
    "print(hash(343))\n",
    "print(hash(True))\n",
    "hash('hello')"
   ]
  },
  {
   "cell_type": "code",
   "execution_count": 4,
   "metadata": {},
   "outputs": [
    {
     "data": {
      "text/plain": [
       "1152921504606846982"
      ]
     },
     "execution_count": 4,
     "metadata": {},
     "output_type": "execute_result"
    }
   ],
   "source": [
    "hash(6.5) # есть тонкости, связанные с точностью представления чисел с плавающей запятой\n",
    "          # месседж: нужно быть очень аккуратным с хэшированием float и лучше их вообще не хэшировать\n",
    "hash(round(6.50443,2)) # или хэшировать вот так"
   ]
  },
  {
   "cell_type": "code",
   "execution_count": 5,
   "metadata": {
    "slideshow": {
     "slide_type": "subslide"
    }
   },
   "outputs": [
    {
     "name": "stdout",
     "output_type": "stream",
     "text": [
      "-5604296508917805270\n",
      "-8333015767918374177\n"
     ]
    }
   ],
   "source": [
    "print(hash('aaa'))\n",
    "print(hash('aab'))"
   ]
  },
  {
   "cell_type": "markdown",
   "metadata": {},
   "source": [
    "#### Note: после перезапуска интерпретатора у сложных объектов (например, строк) будет уже другое значение хэш-функции"
   ]
  },
  {
   "cell_type": "markdown",
   "metadata": {
    "slideshow": {
     "slide_type": "subslide"
    }
   },
   "source": [
    "list в Python не является хэшируемым объектом"
   ]
  },
  {
   "cell_type": "code",
   "execution_count": 6,
   "metadata": {},
   "outputs": [
    {
     "data": {
      "text/plain": [
       "True"
      ]
     },
     "execution_count": 6,
     "metadata": {},
     "output_type": "execute_result"
    }
   ],
   "source": [
    "[1].__hash__ is None  # метод __hash__ не определен для списка"
   ]
  },
  {
   "cell_type": "markdown",
   "metadata": {
    "slideshow": {
     "slide_type": "subslide"
    }
   },
   "source": [
    "Можно ли использовать словарь в качестве ключа словаря?"
   ]
  },
  {
   "cell_type": "code",
   "execution_count": 7,
   "metadata": {},
   "outputs": [
    {
     "ename": "TypeError",
     "evalue": "unhashable type: 'dict'",
     "output_type": "error",
     "traceback": [
      "\u001b[0;31m---------------------------------------------------------------------------\u001b[0m",
      "\u001b[0;31mTypeError\u001b[0m                                 Traceback (most recent call last)",
      "Cell \u001b[0;32mIn [7], line 2\u001b[0m\n\u001b[1;32m      1\u001b[0m d1 \u001b[38;5;241m=\u001b[39m {\u001b[38;5;241m1\u001b[39m: \u001b[38;5;124m'\u001b[39m\u001b[38;5;124mb\u001b[39m\u001b[38;5;124m'\u001b[39m}\n\u001b[0;32m----> 2\u001b[0m d2 \u001b[38;5;241m=\u001b[39m {d1: \u001b[38;5;124m'\u001b[39m\u001b[38;5;124mabc\u001b[39m\u001b[38;5;124m'\u001b[39m}\n",
      "\u001b[0;31mTypeError\u001b[0m: unhashable type: 'dict'"
     ]
    }
   ],
   "source": [
    "d1 = {1: 'b'}\n",
    "d2 = {d1: 'abc'}"
   ]
  },
  {
   "cell_type": "code",
   "execution_count": 8,
   "metadata": {
    "slideshow": {
     "slide_type": "subslide"
    }
   },
   "outputs": [
    {
     "data": {
      "text/plain": [
       "True"
      ]
     },
     "execution_count": 8,
     "metadata": {},
     "output_type": "execute_result"
    }
   ],
   "source": [
    "{1: 'b'}.__hash__ is None  # dict тоже не является хэшируемым"
   ]
  },
  {
   "cell_type": "markdown",
   "metadata": {
    "slideshow": {
     "slide_type": "subslide"
    }
   },
   "source": [
    "По словарю можно итерироваться, причем как по ключам, так и по значениям"
   ]
  },
  {
   "cell_type": "code",
   "execution_count": 9,
   "metadata": {},
   "outputs": [
    {
     "name": "stdout",
     "output_type": "stream",
     "text": [
      "a\n",
      "b\n",
      "c\n",
      "\n",
      "a\n",
      "b\n",
      "c\n"
     ]
    }
   ],
   "source": [
    "# итерация по словарю\n",
    "dictionary = {'a': 1, 'b': 2, 'c': 3}\n",
    "\n",
    "for k in dictionary.keys():\n",
    "    print(k)\n",
    "\n",
    "print()\n",
    "\n",
    "for k in dictionary:  # такая же итерация по ключам, но Python Zen говорит нам, что явное лучше, чем неявное\n",
    "    print(k)          # поэтому лучше явно прописать .keys(), чтобы улучшить читабельность кода\n",
    "                      # слишком читабельный код еще никогда никому не мешал"
   ]
  },
  {
   "cell_type": "code",
   "execution_count": 10,
   "metadata": {
    "slideshow": {
     "slide_type": "subslide"
    }
   },
   "outputs": [
    {
     "name": "stdout",
     "output_type": "stream",
     "text": [
      "1\n",
      "2\n",
      "3\n"
     ]
    }
   ],
   "source": [
    "for v in dictionary.values(): # итерация по значениям\n",
    "    print(v)"
   ]
  },
  {
   "cell_type": "code",
   "execution_count": 11,
   "metadata": {},
   "outputs": [
    {
     "name": "stdout",
     "output_type": "stream",
     "text": [
      "('a', 1)\n",
      "('b', 2)\n",
      "('c', 3)\n",
      "a 1\n",
      "b 2\n",
      "c 3\n"
     ]
    }
   ],
   "source": [
    "for pair in dictionary.items(): # итерируемся сразу по парам (ключ: значение)\n",
    "    print(pair)\n",
    "\n",
    "\n",
    "for key, value in dictionary.items(): # итерируемся сразу по парам (ключ: значение)\n",
    "    print(key, value)"
   ]
  },
  {
   "cell_type": "code",
   "execution_count": 12,
   "metadata": {
    "slideshow": {
     "slide_type": "subslide"
    }
   },
   "outputs": [
    {
     "name": "stdout",
     "output_type": "stream",
     "text": [
      "{'a': 1, 'b': 2, 'c': 3}\n"
     ]
    },
    {
     "data": {
      "text/plain": [
       "{'Petya': 20, 'Vasya': 21, 'Masha': 22, 'a': 4}"
      ]
     },
     "execution_count": 12,
     "metadata": {},
     "output_type": "execute_result"
    }
   ],
   "source": [
    "# конструкторы:\n",
    "a = dict(a=1, b=2, c=3)\n",
    "a\n",
    "print(a)\n",
    "keys = [\"Petya\", \"Vasya\", \"Masha\", \"a\"]\n",
    "values = [20, 21, 22, 4]\n",
    "\n",
    "dictionary = dict(zip(keys, values)) # один из самых удобных способов создания словаря из двух списков\n",
    "\n",
    "dictionary"
   ]
  },
  {
   "cell_type": "code",
   "execution_count": 13,
   "metadata": {
    "slideshow": {
     "slide_type": "subslide"
    }
   },
   "outputs": [
    {
     "name": "stdout",
     "output_type": "stream",
     "text": [
      "['a', 'b', 'c']\n",
      "[1, 2, 3]\n",
      "[('a', 1), ('b', 2), ('c', 3)]\n"
     ]
    }
   ],
   "source": [
    "print(list(a.keys()))\n",
    "print(list(a.values()))\n",
    "print(list(a.items()))"
   ]
  },
  {
   "cell_type": "code",
   "execution_count": 14,
   "metadata": {},
   "outputs": [
    {
     "data": {
      "text/plain": [
       "{'Petya': 20, 'Masha': 22}"
      ]
     },
     "execution_count": 14,
     "metadata": {},
     "output_type": "execute_result"
    }
   ],
   "source": [
    "del dictionary['Vasya']\n",
    "dictionary"
   ]
  },
  {
   "cell_type": "code",
   "execution_count": 13,
   "metadata": {
    "slideshow": {
     "slide_type": "-"
    }
   },
   "outputs": [
    {
     "data": {
      "text/plain": [
       "{'a': 4, 'b': 2, 'c': 3, 'Petya': 20, 'Vasya': 21, 'Masha': 22}"
      ]
     },
     "execution_count": 13,
     "metadata": {},
     "output_type": "execute_result"
    }
   ],
   "source": [
    "a.update(dictionary)  # объединение двух словарей\n",
    "a"
   ]
  },
  {
   "cell_type": "code",
   "execution_count": 16,
   "metadata": {
    "slideshow": {
     "slide_type": "subslide"
    }
   },
   "outputs": [
    {
     "data": {
      "text/plain": [
       "{'a': 1,\n",
       " 'b': 2,\n",
       " 'c': 3,\n",
       " 'Petya': 20,\n",
       " 'Masha': 22,\n",
       " ('Composite', 'Key'): [1, 2, 3]}"
      ]
     },
     "execution_count": 16,
     "metadata": {},
     "output_type": "execute_result"
    }
   ],
   "source": [
    "a[('Composite', 'Key')] = [1, 2, 3]   # only immutable objects could be keys in dicts\n",
    "a"
   ]
  },
  {
   "cell_type": "markdown",
   "metadata": {
    "slideshow": {
     "slide_type": "slide"
    }
   },
   "source": [
    "### Помните генераторы списков (list comprehensions)? Cуществуют и генераторы словарей!"
   ]
  },
  {
   "cell_type": "code",
   "execution_count": 17,
   "metadata": {},
   "outputs": [
    {
     "data": {
      "text/plain": [
       "{0: 0, 1: 1, 2: 8, 3: 27, 4: 64}"
      ]
     },
     "execution_count": 17,
     "metadata": {},
     "output_type": "execute_result"
    }
   ],
   "source": [
    "dct = {i : i ** 3 for i in range(5)}\n",
    "dct"
   ]
  },
  {
   "cell_type": "code",
   "execution_count": 15,
   "metadata": {
    "slideshow": {
     "slide_type": "subslide"
    }
   },
   "outputs": [
    {
     "name": "stdout",
     "output_type": "stream",
     "text": [
      "{1: 2, 3: 4, 5: 'default'}\n",
      "not found default\n",
      "6 6\n"
     ]
    }
   ],
   "source": [
    "# Аккуратная обработка неизвестности\n",
    "\n",
    "dct = {1:2,3:4}\n",
    "\n",
    "key = 5\n",
    "\n",
    "res1 = dct.get(key,'not found')\n",
    "res2 = dct.setdefault(key, 'default')\n",
    "\n",
    "print(dct)\n",
    "print(res1, res2)\n",
    "\n",
    "dct = {1:2,3:4,5:6}\n",
    "\n",
    "res1 = dct.get(key,'not found')\n",
    "res2 = dct.setdefault(key, 'default')\n",
    "\n",
    "print(res1, res2)"
   ]
  },
  {
   "cell_type": "markdown",
   "metadata": {
    "slideshow": {
     "slide_type": "slide"
    }
   },
   "source": [
    "### 7. Множества (set)\n",
    "В основе set тоже лежит хэш-таблица"
   ]
  },
  {
   "cell_type": "code",
   "execution_count": 17,
   "metadata": {},
   "outputs": [
    {
     "data": {
      "text/plain": [
       "({1, 2, 3, 5}, {2, 3, 4, 5, 6})"
      ]
     },
     "execution_count": 17,
     "metadata": {},
     "output_type": "execute_result"
    }
   ],
   "source": [
    "a = {1, 2, 3}\n",
    "b = set([2, 3, 4])\n",
    "\n",
    "a.add(5)\n",
    "b.update({5, 6}) # объединить множество с другим множеством\n",
    "a, b"
   ]
  },
  {
   "cell_type": "code",
   "execution_count": 18,
   "metadata": {
    "slideshow": {
     "slide_type": "subslide"
    }
   },
   "outputs": [
    {
     "name": "stdout",
     "output_type": "stream",
     "text": [
      "True\n",
      "False\n",
      "False\n",
      "False\n",
      "False\n"
     ]
    }
   ],
   "source": [
    "print(3 in b)\n",
    "print(5 not in b)\n",
    "print(b.issubset(a))   # equivalent to b <= a\n",
    "print(a.issuperset(b)) # equivalent to a >= b\n",
    "print(a.isdisjoint(b)) # True если пустое пересечение; equivalent to \"not a & b\""
   ]
  },
  {
   "cell_type": "code",
   "execution_count": 21,
   "metadata": {
    "slideshow": {
     "slide_type": "subslide"
    }
   },
   "outputs": [
    {
     "name": "stdout",
     "output_type": "stream",
     "text": [
      "{1}\n",
      "{4, 6}\n",
      "{1, 2, 3, 4, 5, 6}\n",
      "{2, 3, 5}\n",
      "{1, 4, 6}\n"
     ]
    }
   ],
   "source": [
    "print (a - b)\n",
    "print (b - a)\n",
    "print (a | b) # объединение\n",
    "print (a & b) # пересечение\n",
    "print (a ^ b) # ~ XOR"
   ]
  },
  {
   "cell_type": "code",
   "execution_count": 22,
   "metadata": {},
   "outputs": [],
   "source": [
    "a.difference(b)             # a - b\n",
    "a.union(b)                  # a | b\n",
    "a.intersection(b)           # a & b\n",
    "a.symmetric_difference(b)   # a ^ b\n",
    "\n",
    "a.difference_update(b)            # a -= b\n",
    "a.update(b)                       # a |= b\n",
    "a.intersection_update(b)          # a &= b\n",
    "a.symmetric_difference_update(b)  # a ^= b"
   ]
  },
  {
   "cell_type": "code",
   "execution_count": 23,
   "metadata": {
    "slideshow": {
     "slide_type": "subslide"
    }
   },
   "outputs": [
    {
     "ename": "KeyError",
     "evalue": "3",
     "output_type": "error",
     "traceback": [
      "\u001b[0;31m---------------------------------------------------------------------------\u001b[0m",
      "\u001b[0;31mKeyError\u001b[0m                                  Traceback (most recent call last)",
      "Cell \u001b[0;32mIn [23], line 3\u001b[0m\n\u001b[1;32m      1\u001b[0m a \u001b[38;5;241m=\u001b[39m {\u001b[38;5;241m1\u001b[39m,\u001b[38;5;241m2\u001b[39m,\u001b[38;5;241m3\u001b[39m}\n\u001b[1;32m      2\u001b[0m a\u001b[38;5;241m.\u001b[39mremove(\u001b[38;5;241m3\u001b[39m)\n\u001b[0;32m----> 3\u001b[0m \u001b[43ma\u001b[49m\u001b[38;5;241;43m.\u001b[39;49m\u001b[43mremove\u001b[49m\u001b[43m(\u001b[49m\u001b[38;5;241;43m3\u001b[39;49m\u001b[43m)\u001b[49m\n",
      "\u001b[0;31mKeyError\u001b[0m: 3"
     ]
    }
   ],
   "source": [
    "a = {1,2,3}\n",
    "a.remove(3)\n",
    "a.remove(3)"
   ]
  },
  {
   "cell_type": "code",
   "execution_count": 24,
   "metadata": {},
   "outputs": [
    {
     "data": {
      "text/plain": [
       "{1, 2}"
      ]
     },
     "execution_count": 24,
     "metadata": {},
     "output_type": "execute_result"
    }
   ],
   "source": [
    "a = {1,2,3}\n",
    "a.discard(3)\n",
    "a.discard(3)\n",
    "a"
   ]
  },
  {
   "cell_type": "markdown",
   "metadata": {
    "slideshow": {
     "slide_type": "slide"
    }
   },
   "source": [
    "Существуют и генераторы множеств"
   ]
  },
  {
   "cell_type": "code",
   "execution_count": 25,
   "metadata": {},
   "outputs": [
    {
     "data": {
      "text/plain": [
       "{0, 3, 6, 9}"
      ]
     },
     "execution_count": 25,
     "metadata": {},
     "output_type": "execute_result"
    }
   ],
   "source": [
    "st = {i for i in range(10) if not i % 3}\n",
    "st"
   ]
  },
  {
   "cell_type": "code",
   "execution_count": 26,
   "metadata": {
    "slideshow": {
     "slide_type": "subslide"
    }
   },
   "outputs": [
    {
     "ename": "TypeError",
     "evalue": "unhashable type: 'set'",
     "output_type": "error",
     "traceback": [
      "\u001b[0;31m---------------------------------------------------------------------------\u001b[0m",
      "\u001b[0;31mTypeError\u001b[0m                                 Traceback (most recent call last)",
      "Cell \u001b[0;32mIn [26], line 1\u001b[0m\n\u001b[0;32m----> 1\u001b[0m d \u001b[38;5;241m=\u001b[39m {st: \u001b[38;5;241m1\u001b[39m} \u001b[38;5;66;03m# set тоже не является хэшируемым\u001b[39;00m\n",
      "\u001b[0;31mTypeError\u001b[0m: unhashable type: 'set'"
     ]
    }
   ],
   "source": [
    "d = {st: 1} # set тоже не является хэшируемым"
   ]
  },
  {
   "cell_type": "code",
   "execution_count": 27,
   "metadata": {},
   "outputs": [
    {
     "data": {
      "text/plain": [
       "{frozenset({0, 3, 6, 9}): 6}"
      ]
     },
     "execution_count": 27,
     "metadata": {},
     "output_type": "execute_result"
    }
   ],
   "source": [
    "d = {frozenset(st): 6}  # а вот frozenset уже можно хэшировать, так как он является неизменяемым объектом\n",
    "d"
   ]
  },
  {
   "cell_type": "markdown",
   "metadata": {
    "slideshow": {
     "slide_type": "slide"
    }
   },
   "source": [
    "# Для чего удобно использовать dict и set?\n",
    "\n",
    "### Установление однозначного соответствия каждому объекту из множества ключей какого-то другого объекта (условно можно удобно реализовать словарь для перевода с одного языка на другой)\n",
    "\n",
    "### Для подсчета уникальных элементов в списке/уникальных слов в тексте\n",
    "\n",
    "### Для быстрой проверки элемента на вхождение: поиск по ключу в dict и set выполняется за O(1) (в среднем): от объекта вычисляется хэш и проверяется, есть ли такой хэш в контейнере"
   ]
  },
  {
   "cell_type": "code",
   "execution_count": 28,
   "metadata": {
    "slideshow": {
     "slide_type": "subslide"
    }
   },
   "outputs": [
    {
     "data": {
      "text/plain": [
       "True"
      ]
     },
     "execution_count": 28,
     "metadata": {},
     "output_type": "execute_result"
    }
   ],
   "source": [
    "2 in a     # O(1)"
   ]
  },
  {
   "cell_type": "markdown",
   "metadata": {
    "slideshow": {
     "slide_type": "slide"
    }
   },
   "source": [
    "### 8. collections\n",
    "Объекты в collections - модифицированные для разных нужд словари и еще несколько удобных структур данных.\n",
    "\n",
    "Хороший краткий обзор модуля collections можно почитать [здесь](https://pythonworld.ru/moduli/modul-collections.html) "
   ]
  },
  {
   "cell_type": "code",
   "execution_count": 29,
   "metadata": {},
   "outputs": [
    {
     "name": "stdout",
     "output_type": "stream",
     "text": [
      "0.0\n",
      "defaultdict(<class 'float'>, {2: 0.0})\n"
     ]
    }
   ],
   "source": [
    "from collections import defaultdict\n",
    "dct = defaultdict(float)\n",
    "\n",
    "print(dct[2]) # если ключа нет, то устанавливает дефолтное значение\n",
    "print(dct)"
   ]
  },
  {
   "cell_type": "code",
   "execution_count": 30,
   "metadata": {
    "slideshow": {
     "slide_type": "subslide"
    }
   },
   "outputs": [
    {
     "name": "stdout",
     "output_type": "stream",
     "text": [
      "9 deque([0, 1, 2, 3, 4, 5, 6, 7, 8])\n",
      "8 deque([0, 1, 2, 3, 4, 5, 6, 7])\n",
      "7 deque([0, 1, 2, 3, 4, 5, 6])\n",
      "6 deque([0, 1, 2, 3, 4, 5])\n",
      "5 deque([0, 1, 2, 3, 4])\n",
      "\n",
      "0 deque([1, 2, 3, 4])\n",
      "1 deque([2, 3, 4])\n",
      "2 deque([3, 4])\n",
      "3 deque([4])\n",
      "4 deque([])\n"
     ]
    }
   ],
   "source": [
    "from collections import deque\n",
    "q = deque()\n",
    "\n",
    "for i in range(10):\n",
    "    q.append(i)\n",
    "\n",
    "while len(q) > 5:\n",
    "    print(q.pop(), q) # O(1)\n",
    "\n",
    "print()\n",
    "\n",
    "while len(q):  # пока дек не пуст\n",
    "    print(q.popleft(), q) # O(1)"
   ]
  },
  {
   "cell_type": "code",
   "execution_count": 31,
   "metadata": {
    "slideshow": {
     "slide_type": "subslide"
    }
   },
   "outputs": [
    {
     "name": "stdout",
     "output_type": "stream",
     "text": [
      "{1: 'a', 3: 'c', 2: 'b'}\n",
      "OrderedDict([(1, 'a'), (3, 'c'), (2, 'b')])\n"
     ]
    }
   ],
   "source": [
    "from collections import OrderedDict # помнит порядок, в котором ему были даны ключи\n",
    "\n",
    "# C 3.7 версии сохранение порядка гарантируется и для dict, но:\n",
    "# Операция сравнения для обычных диктов всё ещё не учитывает порядок в отличие от OrderedDict\n",
    "# А ещё у OrderedDict есть метод move_to_end (подвинуть существующий элемент в конец), которого нет в дикте\n",
    "\n",
    "data = [(1, 'a'), (3, 'c'), (2, 'b')]\n",
    "\n",
    "print(dict(data))\n",
    "print(OrderedDict(data))"
   ]
  },
  {
   "cell_type": "code",
   "execution_count": 33,
   "metadata": {},
   "outputs": [
    {
     "ename": "ImportError",
     "evalue": "cannot import name 'OrderedSet' from 'collections' (/usr/lib/python3.9/collections/__init__.py)",
     "output_type": "error",
     "traceback": [
      "\u001b[0;31m---------------------------------------------------------------------------\u001b[0m",
      "\u001b[0;31mImportError\u001b[0m                               Traceback (most recent call last)",
      "Cell \u001b[0;32mIn [33], line 1\u001b[0m\n\u001b[0;32m----> 1\u001b[0m \u001b[38;5;28;01mfrom\u001b[39;00m \u001b[38;5;21;01mcollections\u001b[39;00m \u001b[38;5;28;01mimport\u001b[39;00m OrderedSet\n",
      "\u001b[0;31mImportError\u001b[0m: cannot import name 'OrderedSet' from 'collections' (/usr/lib/python3.9/collections/__init__.py)"
     ]
    }
   ],
   "source": [
    "from collections import OrderedSet"
   ]
  },
  {
   "cell_type": "code",
   "execution_count": 35,
   "metadata": {
    "slideshow": {
     "slide_type": "slide"
    }
   },
   "outputs": [
    {
     "data": {
      "text/plain": [
       "{1, 4, 5}"
      ]
     },
     "execution_count": 35,
     "metadata": {},
     "output_type": "execute_result"
    }
   ],
   "source": [
    "{1, 5, 4} #set"
   ]
  },
  {
   "cell_type": "code",
   "execution_count": 37,
   "metadata": {
    "slideshow": {
     "slide_type": "fragment"
    }
   },
   "outputs": [
    {
     "data": {
      "text/plain": [
       "{1: 1, 5: 5, 4: 4}"
      ]
     },
     "execution_count": 37,
     "metadata": {},
     "output_type": "execute_result"
    }
   ],
   "source": [
    "{1: 1, 5: 5, 4: 4} #dict"
   ]
  },
  {
   "cell_type": "code",
   "execution_count": 12,
   "metadata": {
    "slideshow": {
     "slide_type": "slide"
    }
   },
   "outputs": [
    {
     "name": "stdout",
     "output_type": "stream",
     "text": [
      "Counter({'counter': 3, 'spam': 2, 'egg': 1})\n",
      "3\n",
      "0\n"
     ]
    }
   ],
   "source": [
    "from collections import Counter\n",
    "\n",
    "word_counter = Counter()\n",
    "\n",
    "for word in ['spam', 'egg', 'spam', 'counter', 'counter', 'counter']:\n",
    "    word_counter[word] += 1\n",
    "\n",
    "print(word_counter)\n",
    "print(word_counter['counter'])\n",
    "print(word_counter['collections'])\n"
   ]
  },
  {
   "cell_type": "code",
   "execution_count": 5,
   "metadata": {
    "slideshow": {
     "slide_type": "subslide"
    }
   },
   "outputs": [
    {
     "data": {
      "text/plain": [
       "['a', 'a', 'a', 'a', 'b', 'b']"
      ]
     },
     "execution_count": 5,
     "metadata": {},
     "output_type": "execute_result"
    }
   ],
   "source": [
    "c = Counter(a=4, b=2, c=0, d=-2)\n",
    "\n",
    "list(c.elements())"
   ]
  },
  {
   "cell_type": "code",
   "execution_count": 6,
   "metadata": {
    "slideshow": {
     "slide_type": "subslide"
    }
   },
   "outputs": [
    {
     "data": {
      "text/plain": [
       "[('a', 5), ('b', 2), ('r', 2)]"
      ]
     },
     "execution_count": 6,
     "metadata": {},
     "output_type": "execute_result"
    }
   ],
   "source": [
    "Counter('abracadabra').most_common(3)"
   ]
  },
  {
   "cell_type": "code",
   "execution_count": 10,
   "metadata": {
    "slideshow": {
     "slide_type": "subslide"
    }
   },
   "outputs": [
    {
     "name": "stdout",
     "output_type": "stream",
     "text": [
      "Counter({'a': 4, 'b': 2, 'c': 0, 'd': -2}) Counter({'d': 4, 'c': 3, 'b': 2, 'a': 1})\n",
      "Counter({'a': 3, 'b': 0, 'c': -3, 'd': -6}) Counter({'d': 4, 'c': 3, 'b': 2, 'a': 1})\n"
     ]
    }
   ],
   "source": [
    "c = Counter(a=4, b=2, c=0, d=-2)\n",
    "d = Counter(a=1, b=2, c=3, d=4)\n",
    "\n",
    "print(c, d)\n",
    "\n",
    "c.subtract(d)\n",
    "\n",
    "print(c, d)"
   ]
  },
  {
   "cell_type": "code",
   "execution_count": 28,
   "metadata": {
    "slideshow": {
     "slide_type": "subslide"
    }
   },
   "outputs": [
    {
     "name": "stdout",
     "output_type": "stream",
     "text": [
      "Counter({'k': 7, 'a': 4, 'b': 2, 'c': 0, 'd': -2, 'f': -2})\n",
      "Counter({'e': 8, 'd': 4, 'c': 3, 'b': 2, 'a': 1, 'f': -4})\n",
      "\n",
      "Counter({'e': 8, 'k': 7, 'a': 5, 'b': 4, 'c': 3, 'd': 2})\n",
      "Counter({'k': 7, 'a': 3, 'f': 2})\n",
      "Counter({'e': 8, 'k': 7, 'a': 4, 'd': 4, 'c': 3, 'b': 2})\n",
      "Counter({'b': 2, 'a': 1})\n",
      "Counter({'e': 8, 'k': 7, 'a': 5, 'b': 4, 'c': 3, 'd': 2, 'f': -6})\n"
     ]
    }
   ],
   "source": [
    "a = Counter(a=4, b=2, c=0, d=-2, k=7, f=-2)\n",
    "b = Counter(a=1, b=2, c=3, d=4, e=8, f=-4)\n",
    "\n",
    "print(a)\n",
    "print(b)\n",
    "\n",
    "print()\n",
    "\n",
    "print(a + b)\n",
    "print(a - b)\n",
    "print(a | b)\n",
    "print(a & b)\n",
    "\n",
    "a.update(b)\n",
    "print(a)"
   ]
  },
  {
   "cell_type": "code",
   "execution_count": 32,
   "metadata": {
    "slideshow": {
     "slide_type": "slide"
    }
   },
   "outputs": [
    {
     "name": "stdout",
     "output_type": "stream",
     "text": [
      "Point(x=1, y=3)\n",
      "1 3\n"
     ]
    }
   ],
   "source": [
    "from collections import namedtuple\n",
    "\n",
    "Point = namedtuple('Point', ['x', 'y'])\n",
    "\n",
    "point = Point(x = 1, y = 3)\n",
    "\n",
    "print(point)\n",
    "print(point.x, point.y)"
   ]
  },
  {
   "cell_type": "code",
   "execution_count": null,
   "metadata": {},
   "outputs": [],
   "source": []
  }
 ],
 "metadata": {
  "celltoolbar": "Slideshow",
  "kernelspec": {
   "display_name": "Python 3 (ipykernel)",
   "language": "python",
   "name": "python3"
  },
  "language_info": {
   "codemirror_mode": {
    "name": "ipython",
    "version": 3
   },
   "file_extension": ".py",
   "mimetype": "text/x-python",
   "name": "python",
   "nbconvert_exporter": "python",
   "pygments_lexer": "ipython3",
   "version": "3.9.2"
  }
 },
 "nbformat": 4,
 "nbformat_minor": 2
}
