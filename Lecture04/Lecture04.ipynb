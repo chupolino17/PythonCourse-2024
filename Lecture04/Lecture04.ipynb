{
 "cells": [
  {
   "cell_type": "markdown",
   "id": "59244e60",
   "metadata": {
    "slideshow": {
     "slide_type": "slide"
    }
   },
   "source": [
    "# PYTHON 3\n",
    "\n",
    "## Lecture 04\n",
    "### ООП\n",
    "\n",
    "<img src=\"https://www.eirlab.net/wp-content/uploads/2022/03/python-logo-2.png\" align=\"right\" style=\"height: 200px;\"/>\n",
    "\n",
    "### Chupov Dmitrii\n",
    "\n",
    "\n",
    "MIPT 2024"
   ]
  },
  {
   "cell_type": "markdown",
   "id": "b4572bcf",
   "metadata": {
    "slideshow": {
     "slide_type": "slide"
    }
   },
   "source": [
    "## Атрибуты и методы"
   ]
  },
  {
   "cell_type": "code",
   "execution_count": 1,
   "id": "4c637dec",
   "metadata": {
    "slideshow": {
     "slide_type": "subslide"
    }
   },
   "outputs": [],
   "source": [
    "class MyLittleClass:\n",
    "    color = \"blue\"\n",
    "\n",
    "    def set_color(self, color_):\n",
    "        color = color_\n",
    "        print('set color to {}'.format(color))\n"
   ]
  },
  {
   "cell_type": "code",
   "execution_count": 2,
   "id": "a39f60e6",
   "metadata": {
    "slideshow": {
     "slide_type": "fragment"
    }
   },
   "outputs": [
    {
     "name": "stdout",
     "output_type": "stream",
     "text": [
      "blue\n",
      "set color to red\n",
      "blue\n"
     ]
    }
   ],
   "source": [
    "obj = MyLittleClass()\n",
    "print(obj.color)\n",
    "\n",
    "obj.set_color('red')\n",
    "print(obj.color)"
   ]
  },
  {
   "cell_type": "markdown",
   "id": "b20e9d80",
   "metadata": {
    "slideshow": {
     "slide_type": "fragment"
    }
   },
   "source": [
    "__АаАААааа!!! Почему так произошло?!!!__\n",
    "\n",
    "Потому что обращение к атрибутам класса должно иметь форму `self.attribute_name`, а `color` в методе `set_color` -- просто локальная переменная :)"
   ]
  },
  {
   "cell_type": "code",
   "execution_count": 3,
   "id": "40b68eba",
   "metadata": {
    "slideshow": {
     "slide_type": "subslide"
    }
   },
   "outputs": [],
   "source": [
    "class MyLittleClass2:\n",
    "    color = \"blue\"\n",
    "\n",
    "    def set_color(self, color_):\n",
    "        self.color = color_  # найдите десять отличий :)\n",
    "        print('set color to {}'.format(self.color))"
   ]
  },
  {
   "cell_type": "code",
   "execution_count": 4,
   "id": "10e56fb6",
   "metadata": {
    "slideshow": {
     "slide_type": "fragment"
    }
   },
   "outputs": [
    {
     "name": "stdout",
     "output_type": "stream",
     "text": [
      "blue\n",
      "set color to red\n",
      "red\n"
     ]
    }
   ],
   "source": [
    "obj = MyLittleClass2()\n",
    "print(obj.color)\n",
    "\n",
    "obj.set_color('red')\n",
    "print(obj.color)"
   ]
  },
  {
   "cell_type": "code",
   "execution_count": 5,
   "id": "ed88745e",
   "metadata": {
    "slideshow": {
     "slide_type": "fragment"
    }
   },
   "outputs": [
    {
     "name": "stdout",
     "output_type": "stream",
     "text": [
      "green\n"
     ]
    }
   ],
   "source": [
    "obj.color = 'green'\n",
    "print(obj.color)"
   ]
  },
  {
   "cell_type": "markdown",
   "id": "d78bdfc5",
   "metadata": {},
   "source": [
    "Вообще-то, так тоже можно было, но хорошие программисты пишут методы-геттеры и методы-сеттеры"
   ]
  },
  {
   "cell_type": "markdown",
   "id": "3f59bc66",
   "metadata": {
    "slideshow": {
     "slide_type": "subslide"
    }
   },
   "source": [
    "__Q:__ Динамически определить атрибуты, которых вообще не было в определении класса?\n",
    "\n",
    "__A:__ Легко!"
   ]
  },
  {
   "cell_type": "code",
   "execution_count": 6,
   "id": "fc9a2ac3",
   "metadata": {
    "slideshow": {
     "slide_type": "fragment"
    }
   },
   "outputs": [
    {
     "name": "stdout",
     "output_type": "stream",
     "text": [
      "42\n"
     ]
    }
   ],
   "source": [
    "obj.some_attribute = 42\n",
    "print(obj.some_attribute)"
   ]
  },
  {
   "cell_type": "markdown",
   "id": "df52c826",
   "metadata": {
    "slideshow": {
     "slide_type": "subslide"
    }
   },
   "source": [
    "__Q:__ А а что значит self в определении метода?\n",
    "\n",
    "__A:__ Когда мы вызываем метод как obj.methodname(), первым аргументом передается ссылка на obj (в качестве self)"
   ]
  },
  {
   "cell_type": "code",
   "execution_count": 7,
   "id": "a5aa2efc",
   "metadata": {
    "slideshow": {
     "slide_type": "fragment"
    }
   },
   "outputs": [],
   "source": [
    "class MyLittleClass3:\n",
    "    def method_without_self(arg):\n",
    "        print(arg)\n",
    "\n",
    "    def method_with_self(self, arg):\n",
    "        print(arg)"
   ]
  },
  {
   "cell_type": "code",
   "execution_count": 8,
   "id": "6d8527a0",
   "metadata": {
    "slideshow": {
     "slide_type": "subslide"
    }
   },
   "outputs": [
    {
     "name": "stdout",
     "output_type": "stream",
     "text": [
      "i am an argument\n"
     ]
    },
    {
     "ename": "TypeError",
     "evalue": "method_without_self() takes 1 positional argument but 2 were given",
     "output_type": "error",
     "traceback": [
      "\u001b[0;31m---------------------------------------------------------------------------\u001b[0m",
      "\u001b[0;31mTypeError\u001b[0m                                 Traceback (most recent call last)",
      "Cell \u001b[0;32mIn[8], line 3\u001b[0m\n\u001b[1;32m      1\u001b[0m obj \u001b[38;5;241m=\u001b[39m MyLittleClass3()\n\u001b[1;32m      2\u001b[0m obj\u001b[38;5;241m.\u001b[39mmethod_with_self(\u001b[38;5;124m'\u001b[39m\u001b[38;5;124mi am an argument\u001b[39m\u001b[38;5;124m'\u001b[39m)\n\u001b[0;32m----> 3\u001b[0m \u001b[43mobj\u001b[49m\u001b[38;5;241;43m.\u001b[39;49m\u001b[43mmethod_without_self\u001b[49m\u001b[43m(\u001b[49m\u001b[38;5;124;43m'\u001b[39;49m\u001b[38;5;124;43mi am another argument\u001b[39;49m\u001b[38;5;124;43m'\u001b[39;49m\u001b[43m)\u001b[49m\n\u001b[1;32m      4\u001b[0m \u001b[38;5;66;03m# здесь мы на самом деле передаем по два аргумента, self и arg\u001b[39;00m\n",
      "\u001b[0;31mTypeError\u001b[0m: method_without_self() takes 1 positional argument but 2 were given"
     ]
    }
   ],
   "source": [
    "obj = MyLittleClass3()\n",
    "obj.method_with_self('i am an argument')\n",
    "obj.method_without_self('i am another argument')\n",
    "# здесь мы на самом деле передаем по два аргумента, self и arg"
   ]
  },
  {
   "cell_type": "markdown",
   "id": "9b79c83b",
   "metadata": {
    "slideshow": {
     "slide_type": "subslide"
    }
   },
   "source": [
    "__Q:__ А как же тогда их вызывать?!\n",
    "\n",
    "__A:__ Они не привязаны к инстансу (потому что не имеют доступа к его локальным данным), зато привязаны к классу"
   ]
  },
  {
   "cell_type": "code",
   "execution_count": 10,
   "id": "bd9ba47f",
   "metadata": {
    "slideshow": {
     "slide_type": "fragment"
    }
   },
   "outputs": [
    {
     "name": "stdout",
     "output_type": "stream",
     "text": [
      "i am another argument\n"
     ]
    }
   ],
   "source": [
    "MyLittleClass3.method_without_self('i am another argument') # а здесь мы передаем только один аргумент"
   ]
  },
  {
   "cell_type": "markdown",
   "id": "4127d0ac",
   "metadata": {
    "slideshow": {
     "slide_type": "subslide"
    }
   },
   "source": [
    "__Q:__ Можно ли \"оторвать\" метод от инстанса?\n",
    "\n",
    "__A:__ Ну, попробуем"
   ]
  },
  {
   "cell_type": "code",
   "execution_count": 9,
   "id": "2e973904",
   "metadata": {
    "slideshow": {
     "slide_type": "fragment"
    }
   },
   "outputs": [
    {
     "name": "stdout",
     "output_type": "stream",
     "text": [
      "hello\n"
     ]
    }
   ],
   "source": [
    "func = MyLittleClass3.method_without_self\n",
    "func(\"hello\")"
   ]
  },
  {
   "cell_type": "code",
   "execution_count": 10,
   "id": "2708b27f",
   "metadata": {
    "slideshow": {
     "slide_type": "subslide"
    }
   },
   "outputs": [
    {
     "ename": "TypeError",
     "evalue": "method_with_self() missing 1 required positional argument: 'arg'",
     "output_type": "error",
     "traceback": [
      "\u001b[0;31m---------------------------------------------------------------------------\u001b[0m",
      "\u001b[0;31mTypeError\u001b[0m                                 Traceback (most recent call last)",
      "Cell \u001b[0;32mIn[10], line 2\u001b[0m\n\u001b[1;32m      1\u001b[0m func2 \u001b[38;5;241m=\u001b[39m MyLittleClass3\u001b[38;5;241m.\u001b[39mmethod_with_self\n\u001b[0;32m----> 2\u001b[0m \u001b[43mfunc2\u001b[49m\u001b[43m(\u001b[49m\u001b[38;5;124;43m\"\u001b[39;49m\u001b[38;5;124;43mhello\u001b[39;49m\u001b[38;5;124;43m\"\u001b[39;49m\u001b[43m)\u001b[49m \u001b[38;5;66;03m# передаем один аргумент\u001b[39;00m\n",
      "\u001b[0;31mTypeError\u001b[0m: method_with_self() missing 1 required positional argument: 'arg'"
     ]
    }
   ],
   "source": [
    "func2 = MyLittleClass3.method_with_self\n",
    "func2(\"hello\") # передаем один аргумент"
   ]
  },
  {
   "cell_type": "code",
   "execution_count": 11,
   "id": "e585499e",
   "metadata": {
    "slideshow": {
     "slide_type": "fragment"
    }
   },
   "outputs": [
    {
     "name": "stdout",
     "output_type": "stream",
     "text": [
      "hello\n"
     ]
    }
   ],
   "source": [
    "obj = MyLittleClass3()\n",
    "func2(obj, \"hello\") # ой, нам же ещё нужен объект для self!"
   ]
  },
  {
   "cell_type": "markdown",
   "id": "9a5d01c6",
   "metadata": {
    "slideshow": {
     "slide_type": "subslide"
    }
   },
   "source": [
    "__Q:__ А наоборот?\n",
    "\n",
    "__A:__ Да это же питон. Конечно, можно!"
   ]
  },
  {
   "cell_type": "code",
   "execution_count": 12,
   "id": "abed7652",
   "metadata": {
    "slideshow": {
     "slide_type": "fragment"
    }
   },
   "outputs": [
    {
     "ename": "AttributeError",
     "evalue": "'MyLittleClass3' object has no attribute 'get_color'",
     "output_type": "error",
     "traceback": [
      "\u001b[0;31m---------------------------------------------------------------------------\u001b[0m",
      "\u001b[0;31mAttributeError\u001b[0m                            Traceback (most recent call last)",
      "Cell \u001b[0;32mIn[12], line 1\u001b[0m\n\u001b[0;32m----> 1\u001b[0m \u001b[43mobj\u001b[49m\u001b[38;5;241;43m.\u001b[39;49m\u001b[43mget_color\u001b[49m()\n",
      "\u001b[0;31mAttributeError\u001b[0m: 'MyLittleClass3' object has no attribute 'get_color'"
     ]
    }
   ],
   "source": [
    "obj.get_color()"
   ]
  },
  {
   "cell_type": "code",
   "execution_count": 13,
   "id": "2f1ede39",
   "metadata": {
    "slideshow": {
     "slide_type": "subslide"
    }
   },
   "outputs": [
    {
     "ename": "AttributeError",
     "evalue": "'MyLittleClass3' object has no attribute 'color'",
     "output_type": "error",
     "traceback": [
      "\u001b[0;31m---------------------------------------------------------------------------\u001b[0m",
      "\u001b[0;31mAttributeError\u001b[0m                            Traceback (most recent call last)",
      "Cell \u001b[0;32mIn[13], line 6\u001b[0m\n\u001b[1;32m      4\u001b[0m MyLittleClass3\u001b[38;5;241m.\u001b[39mget_color \u001b[38;5;241m=\u001b[39m get_color_function\n\u001b[1;32m      5\u001b[0m obj \u001b[38;5;241m=\u001b[39m MyLittleClass3()\n\u001b[0;32m----> 6\u001b[0m \u001b[43mobj\u001b[49m\u001b[38;5;241;43m.\u001b[39;49m\u001b[43mget_color\u001b[49m\u001b[43m(\u001b[49m\u001b[43m)\u001b[49m\n",
      "Cell \u001b[0;32mIn[13], line 2\u001b[0m, in \u001b[0;36mget_color_function\u001b[0;34m(self)\u001b[0m\n\u001b[1;32m      1\u001b[0m \u001b[38;5;28;01mdef\u001b[39;00m \u001b[38;5;21mget_color_function\u001b[39m(\u001b[38;5;28mself\u001b[39m):\n\u001b[0;32m----> 2\u001b[0m     \u001b[38;5;28;01mreturn\u001b[39;00m \u001b[38;5;28;43mself\u001b[39;49m\u001b[38;5;241;43m.\u001b[39;49m\u001b[43mcolor\u001b[49m\n",
      "\u001b[0;31mAttributeError\u001b[0m: 'MyLittleClass3' object has no attribute 'color'"
     ]
    }
   ],
   "source": [
    "def get_color_function(self):\n",
    "    return self.color\n",
    "\n",
    "MyLittleClass3.get_color = get_color_function\n",
    "obj = MyLittleClass3()\n",
    "obj.get_color()"
   ]
  },
  {
   "cell_type": "markdown",
   "id": "c5b2bcda",
   "metadata": {
    "slideshow": {
     "slide_type": "subslide"
    }
   },
   "source": [
    "Ах да, цвета-то у нас нет. Но не беда, это же питон!"
   ]
  },
  {
   "cell_type": "code",
   "execution_count": 14,
   "id": "bd07eda3",
   "metadata": {
    "slideshow": {
     "slide_type": "fragment"
    }
   },
   "outputs": [
    {
     "data": {
      "text/plain": [
       "'pink'"
      ]
     },
     "execution_count": 14,
     "metadata": {},
     "output_type": "execute_result"
    }
   ],
   "source": [
    "obj.color = 'pink'\n",
    "obj.get_color()"
   ]
  },
  {
   "cell_type": "markdown",
   "id": "b97008a7",
   "metadata": {
    "slideshow": {
     "slide_type": "subslide"
    }
   },
   "source": [
    "__Q:__ А как же узнать, что мы уже определили, а что нет?\n",
    "\n",
    "__A:__ Легко!"
   ]
  },
  {
   "cell_type": "code",
   "execution_count": 15,
   "id": "99988fea",
   "metadata": {
    "slideshow": {
     "slide_type": "fragment"
    }
   },
   "outputs": [
    {
     "name": "stdout",
     "output_type": "stream",
     "text": [
      "['__class__', '__delattr__', '__dict__', '__dir__', '__doc__', '__eq__', '__format__', '__ge__', '__getattribute__', '__gt__', '__hash__', '__init__', '__init_subclass__', '__le__', '__lt__', '__module__', '__ne__', '__new__', '__reduce__', '__reduce_ex__', '__repr__', '__setattr__', '__sizeof__', '__str__', '__subclasshook__', '__weakref__', 'color', 'get_color', 'method_with_self', 'method_without_self']\n"
     ]
    }
   ],
   "source": [
    "print(dir(obj))"
   ]
  },
  {
   "cell_type": "code",
   "execution_count": 16,
   "id": "d0279be3",
   "metadata": {
    "slideshow": {
     "slide_type": "fragment"
    }
   },
   "outputs": [
    {
     "name": "stdout",
     "output_type": "stream",
     "text": [
      "['__class__', '__delattr__', '__dir__', '__eq__', '__format__', '__ge__', '__getattribute__', '__gt__', '__hash__', '__init__', '__init_subclass__', '__le__', '__lt__', '__ne__', '__new__', '__reduce__', '__reduce_ex__', '__repr__', '__setattr__', '__sizeof__', '__str__', '__subclasshook__', 'get_color', 'method_with_self', 'method_without_self']\n"
     ]
    }
   ],
   "source": [
    "# оставим только методы\n",
    "print([name for name in dir(obj) if callable(getattr(obj, name))])"
   ]
  },
  {
   "cell_type": "code",
   "execution_count": 17,
   "id": "cac2f294",
   "metadata": {
    "slideshow": {
     "slide_type": "subslide"
    }
   },
   "outputs": [
    {
     "name": "stdout",
     "output_type": "stream",
     "text": [
      "[]\n",
      "[]\n",
      "['obj']\n",
      "['ClassWithNothing', 'In', 'MyLittleClass', 'MyLittleClass2', 'MyLittleClass3', 'Out', '_', '_14', '__', '___', '__builtin__', '__builtins__', '__doc__', '__loader__', '__name__', '__package__', '__spec__', '__vsc_ipynb_file__', '_dh', '_i', '_i1', '_i10', '_i11', '_i12', '_i13', '_i14', '_i15', '_i16', '_i17', '_i2', '_i3', '_i4', '_i5', '_i6', '_i7', '_i8', '_i9', '_ih', '_ii', '_iii', '_oh', 'exit', 'func', 'func2', 'get_color_function', 'get_ipython', 'nobject', 'obj', 'open', 'print_custom_attrs', 'quit']\n"
     ]
    }
   ],
   "source": [
    "class ClassWithNothing:\n",
    "    pass\n",
    "\n",
    "nobject = ClassWithNothing()\n",
    "\n",
    "def print_custom_attrs(obj=None):\n",
    "    if obj is None:\n",
    "        # в локальной области видимости!\n",
    "        attrs = dir()\n",
    "    else:\n",
    "        attrs = dir(obj)\n",
    "    print([name for name in attrs if not name.startswith('__')])\n",
    "\n",
    "print_custom_attrs(nobject)\n",
    "print_custom_attrs(ClassWithNothing)\n",
    "print_custom_attrs()\n",
    "print(dir())"
   ]
  },
  {
   "cell_type": "code",
   "execution_count": 18,
   "id": "ae584c71",
   "metadata": {
    "slideshow": {
     "slide_type": "subslide"
    }
   },
   "outputs": [
    {
     "name": "stdout",
     "output_type": "stream",
     "text": [
      "Help on built-in function dir in module builtins:\n",
      "\n",
      "dir(...)\n",
      "    dir([object]) -> list of strings\n",
      "    \n",
      "    If called without an argument, return the names in the current scope.\n",
      "    Else, return an alphabetized list of names comprising (some of) the attributes\n",
      "    of the given object, and of attributes reachable from it.\n",
      "    If the object supplies a method named __dir__, it will be used; otherwise\n",
      "    the default dir() logic is used and returns:\n",
      "      for a module object: the module's attributes.\n",
      "      for a class object:  its attributes, and recursively the attributes\n",
      "        of its bases.\n",
      "      for any other object: its attributes, its class's attributes, and\n",
      "        recursively the attributes of its class's base classes.\n",
      "\n"
     ]
    }
   ],
   "source": [
    "help(dir)\n"
   ]
  },
  {
   "cell_type": "code",
   "execution_count": 19,
   "id": "8317482a",
   "metadata": {
    "slideshow": {
     "slide_type": "subslide"
    }
   },
   "outputs": [
    {
     "name": "stdout",
     "output_type": "stream",
     "text": [
      "['my_attribute', 'my_instance_attribute']\n",
      "['my_attribute']\n"
     ]
    }
   ],
   "source": [
    "ClassWithNothing.my_attribute = 'my value'\n",
    "nobject.my_instance_attribute = \"my value 2\"\n",
    "\n",
    "print_custom_attrs(nobject)\n",
    "print_custom_attrs(ClassWithNothing)"
   ]
  },
  {
   "cell_type": "markdown",
   "id": "610ff758",
   "metadata": {
    "slideshow": {
     "slide_type": "slide"
    }
   },
   "source": [
    "## Наследование"
   ]
  },
  {
   "cell_type": "code",
   "execution_count": 20,
   "id": "e131f009",
   "metadata": {},
   "outputs": [],
   "source": [
    "class Animal:\n",
    "    some_value = \"animal\"\n",
    "    def __init__(self):\n",
    "        print(\"i am an animal\")\n",
    "\n",
    "    def speak(self):\n",
    "        raise NotImplementedError('i don\\'t know how to speak')\n",
    "\n",
    "\n",
    "class Cat(Animal):\n",
    "    some_value = \"cat\"\n",
    "    def __init__(self):\n",
    "        super().__init__()\n",
    "        print(\"i am a cat\")\n",
    "\n",
    "    def speak(self):\n",
    "        print('meoooow')\n",
    "\n",
    "\n",
    "class Hedgehog(Animal):\n",
    "    def __init__(self):\n",
    "        super().__init__()\n",
    "        print(\"i am a hedgehog\")\n",
    "\n",
    "\n",
    "class Dog(Animal):\n",
    "    some_value = \"dog\"\n",
    "    def __init__(self):\n",
    "        super().__init__()\n",
    "        print(\"i am a dog\")\n",
    "\n",
    "\n",
    "class CatDog(Cat, Dog):  # ромбовидное наследование возможно\n",
    "    def __init__(self):\n",
    "        super().__init__()\n",
    "        print(\"i am a CatDog!\")"
   ]
  },
  {
   "cell_type": "code",
   "execution_count": 21,
   "id": "e5510cf7",
   "metadata": {
    "slideshow": {
     "slide_type": "subslide"
    }
   },
   "outputs": [
    {
     "name": "stdout",
     "output_type": "stream",
     "text": [
      "i am an animal\n"
     ]
    },
    {
     "data": {
      "text/plain": [
       "'animal'"
      ]
     },
     "execution_count": 21,
     "metadata": {},
     "output_type": "execute_result"
    }
   ],
   "source": [
    "animal = Animal()\n",
    "animal.some_value"
   ]
  },
  {
   "cell_type": "code",
   "execution_count": 22,
   "id": "eca90c71",
   "metadata": {},
   "outputs": [
    {
     "name": "stdout",
     "output_type": "stream",
     "text": [
      "i am an animal\n",
      "i am a cat\n"
     ]
    },
    {
     "data": {
      "text/plain": [
       "'cat'"
      ]
     },
     "execution_count": 22,
     "metadata": {},
     "output_type": "execute_result"
    }
   ],
   "source": [
    "cat = Cat()\n",
    "cat.some_value # переопределено"
   ]
  },
  {
   "cell_type": "code",
   "execution_count": 23,
   "id": "4bda4e09",
   "metadata": {
    "slideshow": {
     "slide_type": "subslide"
    }
   },
   "outputs": [
    {
     "name": "stdout",
     "output_type": "stream",
     "text": [
      "i am an animal\n",
      "i am a hedgehog\n"
     ]
    },
    {
     "data": {
      "text/plain": [
       "'animal'"
      ]
     },
     "execution_count": 23,
     "metadata": {},
     "output_type": "execute_result"
    }
   ],
   "source": [
    "hedgehog = Hedgehog()\n",
    "hedgehog.some_value # не переопределено"
   ]
  },
  {
   "cell_type": "code",
   "execution_count": 24,
   "id": "37ccc3e2",
   "metadata": {},
   "outputs": [
    {
     "name": "stdout",
     "output_type": "stream",
     "text": [
      "i am an animal\n",
      "i am a dog\n"
     ]
    },
    {
     "data": {
      "text/plain": [
       "'dog'"
      ]
     },
     "execution_count": 24,
     "metadata": {},
     "output_type": "execute_result"
    }
   ],
   "source": [
    "dog = Dog()\n",
    "dog.some_value # переопределено"
   ]
  },
  {
   "cell_type": "code",
   "execution_count": 25,
   "id": "3213f89f",
   "metadata": {
    "slideshow": {
     "slide_type": "subslide"
    }
   },
   "outputs": [
    {
     "name": "stdout",
     "output_type": "stream",
     "text": [
      "i am an animal\n",
      "i am a dog\n",
      "i am a cat\n",
      "i am a CatDog!\n"
     ]
    },
    {
     "data": {
      "text/plain": [
       "'cat'"
      ]
     },
     "execution_count": 25,
     "metadata": {},
     "output_type": "execute_result"
    }
   ],
   "source": [
    "catdog = CatDog()\n",
    "catdog.some_value"
   ]
  },
  {
   "cell_type": "markdown",
   "id": "ea966c28",
   "metadata": {
    "slideshow": {
     "slide_type": "subslide"
    }
   },
   "source": [
    "__Q:__ А как определяется порядок?\n",
    "    \n",
    "__A:__ Порядок перечисления родителей важен!"
   ]
  },
  {
   "cell_type": "code",
   "execution_count": 26,
   "id": "8302f601",
   "metadata": {
    "slideshow": {
     "slide_type": "fragment"
    }
   },
   "outputs": [
    {
     "name": "stdout",
     "output_type": "stream",
     "text": [
      "i am an animal\n",
      "i am a cat\n",
      "i am a dog\n",
      "i am a CatDog!\n"
     ]
    },
    {
     "data": {
      "text/plain": [
       "'dog'"
      ]
     },
     "execution_count": 26,
     "metadata": {},
     "output_type": "execute_result"
    }
   ],
   "source": [
    "class CatDog(Dog, Cat):  # теперь наоборот, найдите два отличия!\n",
    "    def __init__(self):\n",
    "        super().__init__()\n",
    "        print(\"i am a CatDog!\")\n",
    "\n",
    "catdog = CatDog()\n",
    "catdog.some_value"
   ]
  },
  {
   "cell_type": "markdown",
   "id": "9e9751a9",
   "metadata": {
    "slideshow": {
     "slide_type": "subslide"
    }
   },
   "source": [
    "__Q:__ А что с методами?\n",
    "    \n",
    "__A:__ Всё то же, что и с атрибутами!"
   ]
  },
  {
   "cell_type": "code",
   "execution_count": 27,
   "id": "cfcd6c2a",
   "metadata": {
    "slideshow": {
     "slide_type": "fragment"
    }
   },
   "outputs": [
    {
     "name": "stdout",
     "output_type": "stream",
     "text": [
      "meoooow\n"
     ]
    },
    {
     "ename": "NotImplementedError",
     "evalue": "i don't know how to speak",
     "output_type": "error",
     "traceback": [
      "\u001b[0;31m---------------------------------------------------------------------------\u001b[0m",
      "\u001b[0;31mNotImplementedError\u001b[0m                       Traceback (most recent call last)",
      "Cell \u001b[0;32mIn[27], line 2\u001b[0m\n\u001b[1;32m      1\u001b[0m cat\u001b[38;5;241m.\u001b[39mspeak() \u001b[38;5;66;03m# переопределено\u001b[39;00m\n\u001b[0;32m----> 2\u001b[0m \u001b[43mdog\u001b[49m\u001b[38;5;241;43m.\u001b[39;49m\u001b[43mspeak\u001b[49m\u001b[43m(\u001b[49m\u001b[43m)\u001b[49m \u001b[38;5;66;03m# не переопределено\u001b[39;00m\n",
      "Cell \u001b[0;32mIn[20], line 7\u001b[0m, in \u001b[0;36mAnimal.speak\u001b[0;34m(self)\u001b[0m\n\u001b[1;32m      6\u001b[0m \u001b[38;5;28;01mdef\u001b[39;00m \u001b[38;5;21mspeak\u001b[39m(\u001b[38;5;28mself\u001b[39m):\n\u001b[0;32m----> 7\u001b[0m     \u001b[38;5;28;01mraise\u001b[39;00m \u001b[38;5;167;01mNotImplementedError\u001b[39;00m(\u001b[38;5;124m'\u001b[39m\u001b[38;5;124mi don\u001b[39m\u001b[38;5;130;01m\\'\u001b[39;00m\u001b[38;5;124mt know how to speak\u001b[39m\u001b[38;5;124m'\u001b[39m)\n",
      "\u001b[0;31mNotImplementedError\u001b[0m: i don't know how to speak"
     ]
    }
   ],
   "source": [
    "cat.speak() # переопределено\n",
    "dog.speak() # не переопределено"
   ]
  },
  {
   "cell_type": "markdown",
   "id": "16ad6f9c",
   "metadata": {
    "slideshow": {
     "slide_type": "slide"
    }
   },
   "source": [
    "## Приватность?"
   ]
  },
  {
   "cell_type": "code",
   "execution_count": 28,
   "id": "0a052107",
   "metadata": {
    "slideshow": {
     "slide_type": "fragment"
    }
   },
   "outputs": [],
   "source": [
    "class VeryPrivateDataHolder:\n",
    "    _secret = 1\n",
    "    __very_secret = 2"
   ]
  },
  {
   "cell_type": "code",
   "execution_count": 29,
   "id": "02ffb5ac",
   "metadata": {
    "slideshow": {
     "slide_type": "fragment"
    }
   },
   "outputs": [
    {
     "name": "stdout",
     "output_type": "stream",
     "text": [
      "1\n"
     ]
    },
    {
     "ename": "AttributeError",
     "evalue": "'VeryPrivateDataHolder' object has no attribute '__very_secret'",
     "output_type": "error",
     "traceback": [
      "\u001b[0;31m---------------------------------------------------------------------------\u001b[0m",
      "\u001b[0;31mAttributeError\u001b[0m                            Traceback (most recent call last)",
      "Cell \u001b[0;32mIn[29], line 3\u001b[0m\n\u001b[1;32m      1\u001b[0m obj \u001b[38;5;241m=\u001b[39m VeryPrivateDataHolder()\n\u001b[1;32m      2\u001b[0m \u001b[38;5;28mprint\u001b[39m(obj\u001b[38;5;241m.\u001b[39m_secret)\n\u001b[0;32m----> 3\u001b[0m \u001b[38;5;28mprint\u001b[39m(\u001b[43mobj\u001b[49m\u001b[38;5;241;43m.\u001b[39;49m\u001b[43m__very_secret\u001b[49m)\n",
      "\u001b[0;31mAttributeError\u001b[0m: 'VeryPrivateDataHolder' object has no attribute '__very_secret'"
     ]
    }
   ],
   "source": [
    "obj = VeryPrivateDataHolder()\n",
    "print(obj._secret)\n",
    "print(obj.__very_secret)"
   ]
  },
  {
   "cell_type": "markdown",
   "id": "b97d1fdd",
   "metadata": {
    "slideshow": {
     "slide_type": "subslide"
    }
   },
   "source": [
    "__Q:__ То есть, в питоне всё-таки есть приватность?\n",
    "\n",
    "__A:__ Ну..."
   ]
  },
  {
   "cell_type": "code",
   "execution_count": 30,
   "id": "df4d5945",
   "metadata": {
    "slideshow": {
     "slide_type": "fragment"
    }
   },
   "outputs": [
    {
     "data": {
      "text/plain": [
       "2"
      ]
     },
     "execution_count": 30,
     "metadata": {},
     "output_type": "execute_result"
    }
   ],
   "source": [
    "obj._VeryPrivateDataHolder__very_secret  # так вообще никогда не делайте, особенно с чужими классами"
   ]
  },
  {
   "cell_type": "code",
   "execution_count": 31,
   "id": "0490cbce",
   "metadata": {
    "slideshow": {
     "slide_type": "fragment"
    }
   },
   "outputs": [
    {
     "data": {
      "text/plain": [
       "'new secret'"
      ]
     },
     "execution_count": 31,
     "metadata": {},
     "output_type": "execute_result"
    }
   ],
   "source": [
    "obj._VeryPrivateDataHolder__very_secret = 'new secret'\n",
    "obj._VeryPrivateDataHolder__very_secret"
   ]
  },
  {
   "cell_type": "markdown",
   "id": "5e807a23",
   "metadata": {
    "slideshow": {
     "slide_type": "slide"
    }
   },
   "source": [
    "# Генераторы и итераторы: повторение с новой точки зрения"
   ]
  },
  {
   "cell_type": "markdown",
   "id": "3c21a471",
   "metadata": {},
   "source": [
    "В теории всё выглядит как-то так:\n",
    "\n",
    "1. Итератор -- это объект, у которого есть методы `__iter__` и `__next__`.\n",
    "\n",
    "2. Генератор -- это результат работы функции, которая... генерирует. Например, с помощью `yield`. Это упрощает создание итераторов.\n",
    "\n",
    "3. Каждый генератор является итератором (неявно реализует интерфейс итератора). Обратное, конечно, неверно. "
   ]
  },
  {
   "cell_type": "markdown",
   "id": "420c4277",
   "metadata": {
    "slideshow": {
     "slide_type": "subslide"
    }
   },
   "source": [
    "На практике всё, к счастью, выглядит несколько понятнее. Ниже -- типичный итератор, вид \"из-под капота\":"
   ]
  },
  {
   "cell_type": "code",
   "execution_count": 32,
   "id": "9357270e",
   "metadata": {},
   "outputs": [],
   "source": [
    "class my_range_iterator:\n",
    "    def __init__(self, n_max):\n",
    "        self.i = 0\n",
    "        self.n_max = n_max\n",
    "\n",
    "    def __iter__(self):\n",
    "        return self\n",
    "\n",
    "    def __next__(self):\n",
    "        if self.i < self.n_max:\n",
    "            i = self.i\n",
    "            self.i += 1\n",
    "            return i\n",
    "        else:\n",
    "            # специальное исключение, которое означает \"элементы кончились!\"\n",
    "            # впрочем, может никогда и не бросаться\n",
    "            raise StopIteration()"
   ]
  },
  {
   "cell_type": "code",
   "execution_count": 33,
   "id": "cb44a25f",
   "metadata": {
    "slideshow": {
     "slide_type": "subslide"
    }
   },
   "outputs": [
    {
     "name": "stdout",
     "output_type": "stream",
     "text": [
      "0\n",
      "1\n",
      "2\n"
     ]
    },
    {
     "ename": "StopIteration",
     "evalue": "",
     "output_type": "error",
     "traceback": [
      "\u001b[0;31m---------------------------------------------------------------------------\u001b[0m",
      "\u001b[0;31mStopIteration\u001b[0m                             Traceback (most recent call last)",
      "Cell \u001b[0;32mIn[33], line 5\u001b[0m\n\u001b[1;32m      3\u001b[0m \u001b[38;5;28mprint\u001b[39m(iterator_obj\u001b[38;5;241m.\u001b[39m\u001b[38;5;21m__next__\u001b[39m())\n\u001b[1;32m      4\u001b[0m \u001b[38;5;28mprint\u001b[39m(iterator_obj\u001b[38;5;241m.\u001b[39m\u001b[38;5;21m__next__\u001b[39m())\n\u001b[0;32m----> 5\u001b[0m \u001b[38;5;28mprint\u001b[39m(\u001b[43miterator_obj\u001b[49m\u001b[38;5;241;43m.\u001b[39;49m\u001b[38;5;21;43m__next__\u001b[39;49m\u001b[43m(\u001b[49m\u001b[43m)\u001b[49m)\n\u001b[1;32m      6\u001b[0m \u001b[38;5;28mprint\u001b[39m(iterator_obj\u001b[38;5;241m.\u001b[39m\u001b[38;5;21m__next__\u001b[39m())\n",
      "Cell \u001b[0;32mIn[32], line 17\u001b[0m, in \u001b[0;36mmy_range_iterator.__next__\u001b[0;34m(self)\u001b[0m\n\u001b[1;32m     13\u001b[0m     \u001b[38;5;28;01mreturn\u001b[39;00m i\n\u001b[1;32m     14\u001b[0m \u001b[38;5;28;01melse\u001b[39;00m:\n\u001b[1;32m     15\u001b[0m     \u001b[38;5;66;03m# специальное исключение, которое означает \"элементы кончились!\"\u001b[39;00m\n\u001b[1;32m     16\u001b[0m     \u001b[38;5;66;03m# впрочем, может никогда и не бросаться\u001b[39;00m\n\u001b[0;32m---> 17\u001b[0m     \u001b[38;5;28;01mraise\u001b[39;00m \u001b[38;5;167;01mStopIteration\u001b[39;00m()\n",
      "\u001b[0;31mStopIteration\u001b[0m: "
     ]
    }
   ],
   "source": [
    "iterator_obj = my_range_iterator(3)\n",
    "print(iterator_obj.__next__())\n",
    "print(iterator_obj.__next__())\n",
    "print(iterator_obj.__next__())\n",
    "print(iterator_obj.__next__())\n",
    "print(iterator_obj.__next__())"
   ]
  },
  {
   "cell_type": "markdown",
   "id": "f004cb12",
   "metadata": {
    "slideshow": {
     "slide_type": "subslide"
    }
   },
   "source": [
    "__Q:__ И что, чтобы им пользоваться, надо ловить исключения?\n",
    "\n",
    "__A:__ Конечно, нет! Это non-pythonic way"
   ]
  },
  {
   "cell_type": "code",
   "execution_count": 34,
   "id": "00f0258f",
   "metadata": {
    "slideshow": {
     "slide_type": "fragment"
    }
   },
   "outputs": [
    {
     "name": "stdout",
     "output_type": "stream",
     "text": [
      "<class '__main__.my_range_iterator'>\n",
      "0\n",
      "1\n",
      "2\n"
     ]
    }
   ],
   "source": [
    "iterator_obj = my_range_iterator(3)\n",
    "print(type(iterator_obj))\n",
    "for x in iterator_obj:\n",
    "    print(x)"
   ]
  },
  {
   "cell_type": "code",
   "execution_count": 35,
   "id": "bc4aa886",
   "metadata": {
    "slideshow": {
     "slide_type": "subslide"
    }
   },
   "outputs": [],
   "source": [
    "for x in iterator_obj:\n",
    "    print(x)"
   ]
  },
  {
   "cell_type": "markdown",
   "id": "78562901",
   "metadata": {
    "slideshow": {
     "slide_type": "fragment"
    }
   },
   "source": [
    "__Q:__ Повторно использовать нельзя?!\n",
    "\n",
    "__A:__ Объект итератора, как можно понять из кода, хранит своё состояние. Он уже выдал нам всё, что должен был"
   ]
  },
  {
   "cell_type": "code",
   "execution_count": 36,
   "id": "ccaec91d",
   "metadata": {
    "slideshow": {
     "slide_type": "subslide"
    }
   },
   "outputs": [],
   "source": [
    "def my_range_generator(n_max):\n",
    "    i = 0\n",
    "    while i < n_max:\n",
    "        yield i\n",
    "        i += 1"
   ]
  },
  {
   "cell_type": "code",
   "execution_count": 37,
   "id": "135ba162",
   "metadata": {
    "slideshow": {
     "slide_type": "fragment"
    }
   },
   "outputs": [
    {
     "name": "stdout",
     "output_type": "stream",
     "text": [
      "<class 'generator'>\n",
      "<method-wrapper '__iter__' of generator object at 0x7f00b6ec1dd0>\n",
      "<generator object my_range_generator at 0x7f00b6ec1dd0>\n",
      "<method-wrapper '__next__' of generator object at 0x7f00b6ec1dd0>\n"
     ]
    }
   ],
   "source": [
    "generator_obj = my_range_generator(3)\n",
    "print(type(generator_obj))\n",
    "# мы не определяли магических функций итератора, но...\n",
    "print(generator_obj.__iter__)\n",
    "print(generator_obj.__iter__())\n",
    "print(generator_obj.__next__)"
   ]
  },
  {
   "cell_type": "code",
   "execution_count": 38,
   "id": "567c44bd",
   "metadata": {
    "slideshow": {
     "slide_type": "subslide"
    }
   },
   "outputs": [
    {
     "name": "stdout",
     "output_type": "stream",
     "text": [
      "0\n",
      "1\n",
      "2\n"
     ]
    }
   ],
   "source": [
    "for x in generator_obj:\n",
    "    print(x)"
   ]
  },
  {
   "cell_type": "code",
   "execution_count": 39,
   "id": "5944f73f",
   "metadata": {
    "slideshow": {
     "slide_type": "subslide"
    }
   },
   "outputs": [],
   "source": [
    "for x in generator_obj:\n",
    "    print(x)"
   ]
  },
  {
   "cell_type": "markdown",
   "id": "8e1846ec",
   "metadata": {
    "slideshow": {
     "slide_type": "fragment"
    }
   },
   "source": [
    "__Q:__ А чем отличается практическое использование?\n",
    "\n",
    "__A:__ Как правило, почти ничем"
   ]
  },
  {
   "cell_type": "code",
   "execution_count": 40,
   "id": "915288d8",
   "metadata": {
    "slideshow": {
     "slide_type": "fragment"
    }
   },
   "outputs": [
    {
     "name": "stdout",
     "output_type": "stream",
     "text": [
      "10\n",
      "10\n"
     ]
    }
   ],
   "source": [
    "print(sum(my_range_generator(5)))\n",
    "print(sum(my_range_iterator(5)))"
   ]
  },
  {
   "cell_type": "markdown",
   "id": "4733c96c",
   "metadata": {
    "slideshow": {
     "slide_type": "slide"
    }
   },
   "source": [
    "## Сахар"
   ]
  },
  {
   "cell_type": "code",
   "execution_count": 41,
   "id": "1e33c892",
   "metadata": {},
   "outputs": [],
   "source": [
    "class MyClass:\n",
    "\n",
    "    clsval = 0\n",
    "\n",
    "    def __init__(self, val):\n",
    "        self.objval = val\n",
    "\n",
    "    def Set(self, val):\n",
    "        type(self).clsval = val  # атрибут класса\n",
    "        self.objval = val        # атрибут объекта\n",
    "\n",
    "    @staticmethod #можно вызывать и как obj.Set(val) и как MyClass.Set(val)!\n",
    "    def statSet(val):\n",
    "        MyClass.clsval = val\n",
    "\n",
    "    @classmethod # передаёт класс первым аргументом\n",
    "    def clsSet(cls, val):\n",
    "        cls.clsval = val\n",
    "\n"
   ]
  },
  {
   "cell_type": "code",
   "execution_count": 42,
   "id": "31b46956",
   "metadata": {
    "slideshow": {
     "slide_type": "subslide"
    }
   },
   "outputs": [
    {
     "name": "stdout",
     "output_type": "stream",
     "text": [
      "clsval 0 objval 5\n",
      "clsval 9 objval 9\n",
      "clsval 4 objval 9\n",
      "clsval 3 objval 9\n",
      "clsval 7 objval 9\n"
     ]
    }
   ],
   "source": [
    "obj = MyClass(5)\n",
    "print('clsval',obj.clsval,'objval',obj.objval)\n",
    "\n",
    "obj.Set(9)\n",
    "print('clsval',obj.clsval,'objval',obj.objval)\n",
    "\n",
    "obj.statSet(4)\n",
    "print('clsval',obj.clsval,'objval',obj.objval)\n",
    "\n",
    "MyClass.statSet(3)\n",
    "print('clsval',obj.clsval,'objval',obj.objval)\n",
    "\n",
    "MyClass.clsSet(7)\n",
    "print('clsval',obj.clsval,'objval',obj.objval)"
   ]
  },
  {
   "cell_type": "markdown",
   "id": "ed50290f",
   "metadata": {
    "slideshow": {
     "slide_type": "slide"
    }
   },
   "source": [
    "## Callable-объекты"
   ]
  },
  {
   "cell_type": "code",
   "execution_count": 43,
   "id": "df7381a1",
   "metadata": {},
   "outputs": [
    {
     "data": {
      "text/plain": [
       "24"
      ]
     },
     "execution_count": 43,
     "metadata": {},
     "output_type": "execute_result"
    }
   ],
   "source": [
    "class Adder:\n",
    "    def __init__(self, x):\n",
    "        self.x = x\n",
    "    def __call__(self, y):\n",
    "        return self.x + y\n",
    "\n",
    "adder = Adder(10)\n",
    "\n",
    "adder(14)"
   ]
  },
  {
   "cell_type": "markdown",
   "id": "11bdd6b2",
   "metadata": {
    "slideshow": {
     "slide_type": "slide"
    }
   },
   "source": [
    "## Импорты"
   ]
  },
  {
   "cell_type": "code",
   "execution_count": 44,
   "id": "558a8163",
   "metadata": {
    "slideshow": {
     "slide_type": "fragment"
    }
   },
   "outputs": [
    {
     "name": "stdout",
     "output_type": "stream",
     "text": [
      "3.141592653589793\n"
     ]
    }
   ],
   "source": [
    "import math\n",
    "\n",
    "print(math.pi)"
   ]
  },
  {
   "cell_type": "code",
   "execution_count": 45,
   "id": "6d345473",
   "metadata": {
    "slideshow": {
     "slide_type": "fragment"
    }
   },
   "outputs": [
    {
     "name": "stdout",
     "output_type": "stream",
     "text": [
      "3.141592653589793\n"
     ]
    }
   ],
   "source": [
    "import math as m\n",
    "\n",
    "print(m.pi)"
   ]
  },
  {
   "cell_type": "code",
   "execution_count": 46,
   "id": "ea175b37",
   "metadata": {
    "slideshow": {
     "slide_type": "subslide"
    }
   },
   "outputs": [
    {
     "name": "stdout",
     "output_type": "stream",
     "text": [
      "3.141592653589793\n"
     ]
    }
   ],
   "source": [
    "from math import pi\n",
    "\n",
    "print(pi)"
   ]
  },
  {
   "cell_type": "code",
   "execution_count": 47,
   "id": "389c1df2",
   "metadata": {
    "slideshow": {
     "slide_type": "fragment"
    }
   },
   "outputs": [
    {
     "name": "stdout",
     "output_type": "stream",
     "text": [
      "3.141592653589793\n"
     ]
    }
   ],
   "source": [
    "from math import * # импортирует всё в global пространство имён - НЕ ДЕЛАТЬ ТАК!\n",
    "\n",
    "print(pi)"
   ]
  },
  {
   "cell_type": "markdown",
   "id": "43099fc2",
   "metadata": {
    "slideshow": {
     "slide_type": "slide"
    }
   },
   "source": [
    "# Специальные методы классов"
   ]
  },
  {
   "cell_type": "code",
   "execution_count": 48,
   "id": "3a188426",
   "metadata": {},
   "outputs": [],
   "source": [
    "import random\n",
    "\n",
    "class Vector:\n",
    "    def __init__(self, x=0, y=0, color=None):\n",
    "        print(\"initializing a vector\")\n",
    "        if type(x) != int or type(y) != int:\n",
    "            raise AttributeError('x and y should be int')\n",
    "\n",
    "        self._x = x\n",
    "        self._y = y\n",
    "        self._color = color\n",
    "\n",
    "    def get_x(self):\n",
    "        return self._x\n",
    "\n",
    "    def get_y(self):\n",
    "        return self._y"
   ]
  },
  {
   "cell_type": "markdown",
   "id": "358d9592",
   "metadata": {
    "slideshow": {
     "slide_type": "subslide"
    }
   },
   "source": [
    "Методы с двойным подчеркиванием в начале и конце имени имеют особое значение. \n",
    "\n",
    "Мы уже знакомы с `__next__` и `__iter__`, пора узнать и об остальных"
   ]
  },
  {
   "cell_type": "code",
   "execution_count": 49,
   "id": "2b181266",
   "metadata": {
    "slideshow": {
     "slide_type": "fragment"
    }
   },
   "outputs": [
    {
     "name": "stdout",
     "output_type": "stream",
     "text": [
      "initializing a vector\n"
     ]
    },
    {
     "data": {
      "text/plain": [
       "'<__main__.Vector object at 0x7f00cc5fd550>'"
      ]
     },
     "execution_count": 49,
     "metadata": {},
     "output_type": "execute_result"
    }
   ],
   "source": [
    "vector = Vector(1, 2, 'red')\n",
    "str(vector)"
   ]
  },
  {
   "cell_type": "code",
   "execution_count": 50,
   "id": "7b870b8b",
   "metadata": {
    "slideshow": {
     "slide_type": "subslide"
    }
   },
   "outputs": [],
   "source": [
    "class VectorWithStr(Vector):\n",
    "    def __str__(self):\n",
    "        return 'vector ({}, {}) of color {}'.format(self._x, self._y, self._color)"
   ]
  },
  {
   "cell_type": "code",
   "execution_count": 51,
   "id": "6206688d",
   "metadata": {
    "slideshow": {
     "slide_type": "fragment"
    }
   },
   "outputs": [
    {
     "name": "stdout",
     "output_type": "stream",
     "text": [
      "initializing a vector\n"
     ]
    },
    {
     "data": {
      "text/plain": [
       "'vector (1, 2) of color red'"
      ]
     },
     "execution_count": 51,
     "metadata": {},
     "output_type": "execute_result"
    }
   ],
   "source": [
    "vector = VectorWithStr(1, 2, 'red')\n",
    "str(vector)"
   ]
  },
  {
   "cell_type": "markdown",
   "id": "7a6e19f1",
   "metadata": {
    "slideshow": {
     "slide_type": "subslide"
    }
   },
   "source": [
    "__Q:__ Преобразование в строку? Это всё?\n",
    "\n",
    "__A:__ Конечно, нет. Неявные преобразования иногда происходят там, где мы их не ожидаем"
   ]
  },
  {
   "cell_type": "code",
   "execution_count": 52,
   "id": "3a084d32",
   "metadata": {
    "slideshow": {
     "slide_type": "fragment"
    }
   },
   "outputs": [
    {
     "name": "stdout",
     "output_type": "stream",
     "text": [
      "vector (1, 2) of color red\n"
     ]
    }
   ],
   "source": [
    "print(vector)"
   ]
  },
  {
   "cell_type": "code",
   "execution_count": 53,
   "id": "7d761468",
   "metadata": {
    "slideshow": {
     "slide_type": "fragment"
    }
   },
   "outputs": [
    {
     "ename": "KeyError",
     "evalue": "<__main__.VectorWithStr object at 0x7f00cc5fdd60>",
     "output_type": "error",
     "traceback": [
      "\u001b[0;31m---------------------------------------------------------------------------\u001b[0m",
      "\u001b[0;31mKeyError\u001b[0m                                  Traceback (most recent call last)",
      "Cell \u001b[0;32mIn[53], line 2\u001b[0m\n\u001b[1;32m      1\u001b[0m mydict \u001b[38;5;241m=\u001b[39m {}\n\u001b[0;32m----> 2\u001b[0m \u001b[43mmydict\u001b[49m\u001b[43m[\u001b[49m\u001b[43mvector\u001b[49m\u001b[43m]\u001b[49m\n",
      "\u001b[0;31mKeyError\u001b[0m: <__main__.VectorWithStr object at 0x7f00cc5fdd60>"
     ]
    }
   ],
   "source": [
    "mydict = {}\n",
    "mydict[vector]"
   ]
  },
  {
   "cell_type": "code",
   "execution_count": 54,
   "id": "b8024acc",
   "metadata": {
    "slideshow": {
     "slide_type": "subslide"
    }
   },
   "outputs": [
    {
     "name": "stdout",
     "output_type": "stream",
     "text": [
      "[<__main__.VectorWithStr object at 0x7f00cc5fdd60>]\n"
     ]
    }
   ],
   "source": [
    "mylist = [vector]\n",
    "print(mylist)"
   ]
  },
  {
   "cell_type": "markdown",
   "id": "40172eb5",
   "metadata": {
    "slideshow": {
     "slide_type": "fragment"
    }
   },
   "source": [
    "__Q:__ А откуда опять \"некрасивые\" строки?!\n"
   ]
  },
  {
   "cell_type": "markdown",
   "id": "0a4aa97f",
   "metadata": {
    "slideshow": {
     "slide_type": "fragment"
    }
   },
   "source": [
    "__A:__ В питоне используется два способа приведения к строке. Это функции `str` и `repr`, которые отличаются своим назначением. \n",
    "\n",
    "`str` используется там, где нужна человекочитаемость, а `repr` реализуется так, чтобы можно было однозначно определить, о каком объекте идет речь. Если `repr` не реализован, используется стандартный вариант, а если не реализован `str`, то вместо него используется `repr`. \n",
    "\n",
    "Попробуем?"
   ]
  },
  {
   "cell_type": "code",
   "execution_count": 55,
   "id": "aac183b2",
   "metadata": {
    "slideshow": {
     "slide_type": "subslide"
    }
   },
   "outputs": [],
   "source": [
    "class VectorWithRepr(Vector):\n",
    "    def __repr__(self):\n",
    "        return 'vector representation (x: {}, y: {}, color: {})'.format(self._x, self._y, self._color)"
   ]
  },
  {
   "cell_type": "code",
   "execution_count": 56,
   "id": "ab0dafbd",
   "metadata": {
    "slideshow": {
     "slide_type": "fragment"
    }
   },
   "outputs": [
    {
     "name": "stdout",
     "output_type": "stream",
     "text": [
      "initializing a vector\n",
      "vector representation (x: 1, y: 2, color: red)\n",
      "[vector representation (x: 1, y: 2, color: red)]\n"
     ]
    },
    {
     "ename": "KeyError",
     "evalue": "vector representation (x: 1, y: 2, color: red)",
     "output_type": "error",
     "traceback": [
      "\u001b[0;31m---------------------------------------------------------------------------\u001b[0m",
      "\u001b[0;31mKeyError\u001b[0m                                  Traceback (most recent call last)",
      "Cell \u001b[0;32mIn[56], line 7\u001b[0m\n\u001b[1;32m      5\u001b[0m \u001b[38;5;28mprint\u001b[39m(mylist)\n\u001b[1;32m      6\u001b[0m mydict \u001b[38;5;241m=\u001b[39m {}\n\u001b[0;32m----> 7\u001b[0m \u001b[43mmydict\u001b[49m\u001b[43m[\u001b[49m\u001b[43mvector\u001b[49m\u001b[43m]\u001b[49m\n",
      "\u001b[0;31mKeyError\u001b[0m: vector representation (x: 1, y: 2, color: red)"
     ]
    }
   ],
   "source": [
    "vector = VectorWithRepr(1, 2, 'red')\n",
    "\n",
    "print(vector)\n",
    "mylist = [vector]\n",
    "print(mylist)\n",
    "mydict = {}\n",
    "mydict[vector]"
   ]
  },
  {
   "cell_type": "code",
   "execution_count": 57,
   "id": "6384bbf2",
   "metadata": {
    "slideshow": {
     "slide_type": "subslide"
    }
   },
   "outputs": [],
   "source": [
    "class VectorWithBothReprAndStr(VectorWithRepr, VectorWithStr):\n",
    "    pass"
   ]
  },
  {
   "cell_type": "code",
   "execution_count": 58,
   "id": "5ddba669",
   "metadata": {
    "slideshow": {
     "slide_type": "fragment"
    }
   },
   "outputs": [
    {
     "name": "stdout",
     "output_type": "stream",
     "text": [
      "initializing a vector\n",
      "vector (1, 2) of color red\n",
      "[vector representation (x: 1, y: 2, color: red)]\n"
     ]
    }
   ],
   "source": [
    "vector = VectorWithBothReprAndStr(1, 2, 'red')\n",
    "# вот здесь должны получиться разные значения\n",
    "print(vector)\n",
    "print([vector])"
   ]
  },
  {
   "cell_type": "markdown",
   "id": "c11bf41d",
   "metadata": {
    "slideshow": {
     "slide_type": "slide"
    }
   },
   "source": [
    "## Арифметика"
   ]
  },
  {
   "cell_type": "code",
   "execution_count": 59,
   "id": "fdc02b2b",
   "metadata": {},
   "outputs": [],
   "source": [
    "import math\n",
    "import random\n",
    "\n",
    "class VectorWithMath(VectorWithBothReprAndStr):\n",
    "    def __abs__(self):\n",
    "        return math.hypot(self._x, self._y)\n",
    "\n",
    "    def __add__(self, other):\n",
    "        return VectorWithMath(self.get_x() + other.get_x(),\n",
    "                     self.get_y() + other.get_y(),\n",
    "                     random.choice((str(self._color), str(other._color))))\n",
    "\n",
    "    def __sub__(self, other):\n",
    "        return VectorWithMath(self.get_x() - other.get_x(),\n",
    "                     self.get_y() - other.get_y(),\n",
    "                     random.choice((str(self._color), str(other._color))))\n",
    "\n",
    "    # ещё есть div, mul и многое другое"
   ]
  },
  {
   "cell_type": "code",
   "execution_count": 60,
   "id": "e2cd4502",
   "metadata": {
    "slideshow": {
     "slide_type": "subslide"
    }
   },
   "outputs": [
    {
     "name": "stdout",
     "output_type": "stream",
     "text": [
      "initializing a vector\n",
      "initializing a vector\n",
      "vector (3, 4) of color blue\n",
      "vector (1, 2) of color red\n"
     ]
    }
   ],
   "source": [
    "vector1 = VectorWithMath(3, 4, 'blue')\n",
    "vector2 = VectorWithMath(1, 2, 'red')\n",
    "print(vector1)\n",
    "print(vector2)"
   ]
  },
  {
   "cell_type": "code",
   "execution_count": 61,
   "id": "d49fcfbe",
   "metadata": {
    "slideshow": {
     "slide_type": "subslide"
    }
   },
   "outputs": [
    {
     "name": "stdout",
     "output_type": "stream",
     "text": [
      "5.0\n",
      "initializing a vector\n",
      "vector (4, 6) of color red\n",
      "initializing a vector\n",
      "vector (2, 2) of color blue\n"
     ]
    }
   ],
   "source": [
    "print(abs(vector1))\n",
    "print(vector1 + vector2)\n",
    "print(vector1 - vector2)"
   ]
  },
  {
   "cell_type": "markdown",
   "id": "29865f32",
   "metadata": {
    "slideshow": {
     "slide_type": "slide"
    }
   },
   "source": [
    "## Приведение типов"
   ]
  },
  {
   "cell_type": "code",
   "execution_count": 62,
   "id": "7fd94f00",
   "metadata": {},
   "outputs": [],
   "source": [
    "import math\n",
    "\n",
    "class VectorWithTypes(VectorWithMath):\n",
    "    def __bool__(self):\n",
    "        return bool(self._x) or bool(self._y)\n",
    "\n",
    "    def __int__(self):\n",
    "        return int(float(self))\n",
    "\n",
    "    def __float__(self):\n",
    "        return abs(self)"
   ]
  },
  {
   "cell_type": "code",
   "execution_count": 63,
   "id": "1c4b22a8",
   "metadata": {
    "slideshow": {
     "slide_type": "subslide"
    }
   },
   "outputs": [
    {
     "name": "stdout",
     "output_type": "stream",
     "text": [
      "initializing a vector\n",
      "vector (3, 4) of color blue\n",
      "5\n",
      "5.0\n",
      "vector ~ True\n"
     ]
    }
   ],
   "source": [
    "vector = VectorWithTypes(3, 4, 'blue')\n",
    "print(vector)\n",
    "print(int(vector))\n",
    "print(float(vector))\n",
    "\n",
    "print(\"vector ~ True\") if vector else print(\"vector ~ False\")"
   ]
  },
  {
   "cell_type": "code",
   "execution_count": 64,
   "id": "89385d2b",
   "metadata": {
    "slideshow": {
     "slide_type": "subslide"
    }
   },
   "outputs": [
    {
     "name": "stdout",
     "output_type": "stream",
     "text": [
      "initializing a vector\n",
      "vector (0, 0) of color None\n",
      "vector ~ False\n"
     ]
    }
   ],
   "source": [
    "vector = VectorWithTypes()\n",
    "print(vector)\n",
    "\n",
    "print(\"vector ~ True\") if vector else print(\"vector ~ False\")"
   ]
  },
  {
   "cell_type": "markdown",
   "id": "8d21bf28",
   "metadata": {
    "slideshow": {
     "slide_type": "slide"
    }
   },
   "source": [
    "## Итерирование"
   ]
  },
  {
   "cell_type": "markdown",
   "id": "54520f60",
   "metadata": {},
   "source": [
    "Один способ сделать объект \"итерабельным\" нам уже известен, это метод `__next__`. Но он не единственный"
   ]
  },
  {
   "cell_type": "code",
   "execution_count": 65,
   "id": "1dd94d64",
   "metadata": {},
   "outputs": [],
   "source": [
    "class VectorIterable(VectorWithTypes):\n",
    "    def __getitem__(self, position):\n",
    "        return (self._x, self._y)[position]\n",
    "\n",
    "    def __len__(self):\n",
    "        return 2\n",
    "\n",
    "    def __reversed__(self):\n",
    "        return (self._x, self._y)[::-1]"
   ]
  },
  {
   "cell_type": "code",
   "execution_count": 66,
   "id": "a8d3a9d7",
   "metadata": {
    "slideshow": {
     "slide_type": "subslide"
    }
   },
   "outputs": [
    {
     "name": "stdout",
     "output_type": "stream",
     "text": [
      "initializing a vector\n",
      "100\n"
     ]
    },
    {
     "ename": "IndexError",
     "evalue": "tuple index out of range",
     "output_type": "error",
     "traceback": [
      "\u001b[0;31m---------------------------------------------------------------------------\u001b[0m",
      "\u001b[0;31mIndexError\u001b[0m                                Traceback (most recent call last)",
      "Cell \u001b[0;32mIn[66], line 3\u001b[0m\n\u001b[1;32m      1\u001b[0m vector \u001b[38;5;241m=\u001b[39m VectorIterable(\u001b[38;5;241m100\u001b[39m, \u001b[38;5;241m500\u001b[39m)\n\u001b[1;32m      2\u001b[0m \u001b[38;5;28mprint\u001b[39m(vector[\u001b[38;5;241m0\u001b[39m])\n\u001b[0;32m----> 3\u001b[0m \u001b[38;5;28mprint\u001b[39m(\u001b[43mvector\u001b[49m\u001b[43m[\u001b[49m\u001b[38;5;241;43m3\u001b[39;49m\u001b[43m]\u001b[49m)\n",
      "Cell \u001b[0;32mIn[65], line 3\u001b[0m, in \u001b[0;36mVectorIterable.__getitem__\u001b[0;34m(self, position)\u001b[0m\n\u001b[1;32m      2\u001b[0m \u001b[38;5;28;01mdef\u001b[39;00m \u001b[38;5;21m__getitem__\u001b[39m(\u001b[38;5;28mself\u001b[39m, position):\n\u001b[0;32m----> 3\u001b[0m     \u001b[38;5;28;01mreturn\u001b[39;00m \u001b[43m(\u001b[49m\u001b[38;5;28;43mself\u001b[39;49m\u001b[38;5;241;43m.\u001b[39;49m\u001b[43m_x\u001b[49m\u001b[43m,\u001b[49m\u001b[43m \u001b[49m\u001b[38;5;28;43mself\u001b[39;49m\u001b[38;5;241;43m.\u001b[39;49m\u001b[43m_y\u001b[49m\u001b[43m)\u001b[49m\u001b[43m[\u001b[49m\u001b[43mposition\u001b[49m\u001b[43m]\u001b[49m\n",
      "\u001b[0;31mIndexError\u001b[0m: tuple index out of range"
     ]
    }
   ],
   "source": [
    "vector = VectorIterable(100, 500)\n",
    "print(vector[0])\n",
    "print(vector[3])"
   ]
  },
  {
   "cell_type": "code",
   "execution_count": 67,
   "id": "59813ac0",
   "metadata": {
    "slideshow": {
     "slide_type": "subslide"
    }
   },
   "outputs": [
    {
     "name": "stdout",
     "output_type": "stream",
     "text": [
      "100\n",
      "500\n"
     ]
    }
   ],
   "source": [
    "# for вызывает __getitem__ ТОЛЬКО если у класса отсутствует __iter__\n",
    "\n",
    "for coordinate in vector:\n",
    "    print(coordinate)"
   ]
  },
  {
   "cell_type": "code",
   "execution_count": 68,
   "id": "2354a89e",
   "metadata": {
    "slideshow": {
     "slide_type": "fragment"
    }
   },
   "outputs": [
    {
     "name": "stdout",
     "output_type": "stream",
     "text": [
      "500\n",
      "100\n"
     ]
    }
   ],
   "source": [
    "for coordinate in reversed(vector):\n",
    "    print(coordinate)"
   ]
  },
  {
   "cell_type": "code",
   "execution_count": 69,
   "id": "fde36994",
   "metadata": {
    "slideshow": {
     "slide_type": "subslide"
    }
   },
   "outputs": [],
   "source": [
    "class VectorIterable(VectorWithTypes):\n",
    "\n",
    "    def __getitem__(self, position):\n",
    "        return (self._y, self._x)[position]\n",
    "\n",
    "    def __iter__(self):\n",
    "\n",
    "        #return iter((self._x, self._y))\n",
    "        return self\n",
    "\n",
    "    def __next__(self):\n",
    "\n",
    "        if not hasattr(self,'count'):\n",
    "            self.count = 0\n",
    "\n",
    "        self.count += 1\n",
    "\n",
    "        if self.count < 3:\n",
    "            return (self._x, self._y)[self.count-1]\n",
    "        else:\n",
    "            raise StopIteration\n",
    "\n",
    "    def __len__(self):\n",
    "        return 2\n",
    "\n",
    "    def __reversed__(self):\n",
    "        return (self._x, self._y)[::-1]"
   ]
  },
  {
   "cell_type": "code",
   "execution_count": 70,
   "id": "7fa7a6b3",
   "metadata": {
    "slideshow": {
     "slide_type": "subslide"
    }
   },
   "outputs": [
    {
     "name": "stdout",
     "output_type": "stream",
     "text": [
      "initializing a vector\n",
      "3\n",
      "5\n"
     ]
    }
   ],
   "source": [
    "vect = VectorIterable(3, 5)\n",
    "\n",
    "for c in vect:\n",
    "    print(c)"
   ]
  },
  {
   "cell_type": "markdown",
   "id": "08351f60",
   "metadata": {
    "slideshow": {
     "slide_type": "slide"
    }
   },
   "source": [
    "## Динамическая работа с атрибутами"
   ]
  },
  {
   "cell_type": "markdown",
   "id": "03f8536a",
   "metadata": {
    "collapsed": true
   },
   "source": [
    "Казалось бы, в питоне нет никакой защиты от \"взлома\". Но нельзя ли сделать её самостоятельно?"
   ]
  },
  {
   "cell_type": "code",
   "execution_count": 71,
   "id": "53233b27",
   "metadata": {
    "slideshow": {
     "slide_type": "fragment"
    }
   },
   "outputs": [],
   "source": [
    "class VectorWithAllAttributes(VectorIterable):\n",
    "    def __getattr__(self, attr_name):\n",
    "        return \"value of {}\".format(attr_name)\n",
    "\n",
    "    def __setattr__(self, attr_name, attr_value):\n",
    "        if attr_name not in ('_x', '_y', '_color'):\n",
    "            raise Exception('you shall not add new attributes here, young padawan!')\n",
    "        else:\n",
    "            super().__setattr__(attr_name, attr_value)\n",
    "\n",
    "    def __delattr__(self, attr_name):\n",
    "        print('Heh, you can delete nothing')"
   ]
  },
  {
   "cell_type": "code",
   "execution_count": 72,
   "id": "79e0a644",
   "metadata": {
    "slideshow": {
     "slide_type": "subslide"
    }
   },
   "outputs": [
    {
     "name": "stdout",
     "output_type": "stream",
     "text": [
      "initializing a vector\n",
      "['__abs__', '__add__', '__bool__', '__class__', '__delattr__', '__dict__', '__dir__', '__doc__', '__eq__', '__float__', '__format__', '__ge__', '__getattr__', '__getattribute__', '__getitem__', '__gt__', '__hash__', '__init__', '__init_subclass__', '__int__', '__iter__', '__le__', '__len__', '__lt__', '__module__', '__ne__', '__new__', '__next__', '__reduce__', '__reduce_ex__', '__repr__', '__reversed__', '__setattr__', '__sizeof__', '__str__', '__sub__', '__subclasshook__', '__weakref__', '_color', '_x', '_y', 'get_x', 'get_y']\n"
     ]
    }
   ],
   "source": [
    "vector = VectorWithAllAttributes(1, 2, 'violet')\n",
    "print(dir(vector))"
   ]
  },
  {
   "cell_type": "code",
   "execution_count": 73,
   "id": "3f0e991e",
   "metadata": {
    "slideshow": {
     "slide_type": "subslide"
    }
   },
   "outputs": [
    {
     "name": "stdout",
     "output_type": "stream",
     "text": [
      "value of some_attribute\n",
      "violet\n",
      "1\n"
     ]
    }
   ],
   "source": [
    "print(vector.some_attribute)\n",
    "print(vector._color)\n",
    "print(vector.get_x())"
   ]
  },
  {
   "cell_type": "code",
   "execution_count": 74,
   "id": "df84baa1",
   "metadata": {
    "slideshow": {
     "slide_type": "subslide"
    }
   },
   "outputs": [
    {
     "ename": "Exception",
     "evalue": "you shall not add new attributes here, young padawan!",
     "output_type": "error",
     "traceback": [
      "\u001b[0;31m---------------------------------------------------------------------------\u001b[0m",
      "\u001b[0;31mException\u001b[0m                                 Traceback (most recent call last)",
      "Cell \u001b[0;32mIn[74], line 1\u001b[0m\n\u001b[0;32m----> 1\u001b[0m \u001b[43mvector\u001b[49m\u001b[38;5;241;43m.\u001b[39;49m\u001b[43mnew_attribute\u001b[49m \u001b[38;5;241m=\u001b[39m \u001b[38;5;124m\"\u001b[39m\u001b[38;5;124mvalue\u001b[39m\u001b[38;5;124m\"\u001b[39m\n",
      "Cell \u001b[0;32mIn[71], line 7\u001b[0m, in \u001b[0;36mVectorWithAllAttributes.__setattr__\u001b[0;34m(self, attr_name, attr_value)\u001b[0m\n\u001b[1;32m      5\u001b[0m \u001b[38;5;28;01mdef\u001b[39;00m \u001b[38;5;21m__setattr__\u001b[39m(\u001b[38;5;28mself\u001b[39m, attr_name, attr_value):\n\u001b[1;32m      6\u001b[0m     \u001b[38;5;28;01mif\u001b[39;00m attr_name \u001b[38;5;129;01mnot\u001b[39;00m \u001b[38;5;129;01min\u001b[39;00m (\u001b[38;5;124m'\u001b[39m\u001b[38;5;124m_x\u001b[39m\u001b[38;5;124m'\u001b[39m, \u001b[38;5;124m'\u001b[39m\u001b[38;5;124m_y\u001b[39m\u001b[38;5;124m'\u001b[39m, \u001b[38;5;124m'\u001b[39m\u001b[38;5;124m_color\u001b[39m\u001b[38;5;124m'\u001b[39m):\n\u001b[0;32m----> 7\u001b[0m         \u001b[38;5;28;01mraise\u001b[39;00m \u001b[38;5;167;01mException\u001b[39;00m(\u001b[38;5;124m'\u001b[39m\u001b[38;5;124myou shall not add new attributes here, young padawan!\u001b[39m\u001b[38;5;124m'\u001b[39m)\n\u001b[1;32m      8\u001b[0m     \u001b[38;5;28;01melse\u001b[39;00m:\n\u001b[1;32m      9\u001b[0m         \u001b[38;5;28msuper\u001b[39m()\u001b[38;5;241m.\u001b[39m\u001b[38;5;21m__setattr__\u001b[39m(attr_name, attr_value)\n",
      "\u001b[0;31mException\u001b[0m: you shall not add new attributes here, young padawan!"
     ]
    }
   ],
   "source": [
    "vector.new_attribute = \"value\""
   ]
  },
  {
   "cell_type": "code",
   "execution_count": 75,
   "id": "e3c4c5f8",
   "metadata": {
    "slideshow": {
     "slide_type": "subslide"
    }
   },
   "outputs": [
    {
     "name": "stdout",
     "output_type": "stream",
     "text": [
      "Heh, you can delete nothing\n",
      "Heh, you can delete nothing\n",
      "violet\n"
     ]
    }
   ],
   "source": [
    "del vector._color\n",
    "delattr(vector, '_color')\n",
    "print(vector._color)"
   ]
  },
  {
   "cell_type": "markdown",
   "id": "061c00fe",
   "metadata": {
    "slideshow": {
     "slide_type": "slide"
    }
   },
   "source": [
    "### ```__getattr__ vs. __getattribute__```"
   ]
  },
  {
   "cell_type": "code",
   "execution_count": 76,
   "id": "a35ff4ad",
   "metadata": {},
   "outputs": [],
   "source": [
    "class GetAttr:\n",
    "    attr1 = 1\n",
    "    def __init__(self):\n",
    "        self.attr2 = 2\n",
    "    def __getattr__(self, attr):   # Только для неопределенных атрибутов\n",
    "        print('get: ' + attr)      # Не attr1: наследуется от класса\n",
    "        return 3                   # Не attr2: хранится в экземпляре\n",
    "\n",
    "\n",
    "class GetAttribute:\n",
    "    attr1 = 1\n",
    "    def __init__(self):\n",
    "        self.attr2 = 2\n",
    "    def __getattribute__(self, attr):  # Вызывается всеми операциями присваивания\n",
    "        print('get: ' + attr)          # Для предотвращения зацикливания используется суперкласс\n",
    "        if attr == 'attr3':\n",
    "            return 3\n",
    "        else:\n",
    "            return super().__getattribute__(attr)\n"
   ]
  },
  {
   "cell_type": "code",
   "execution_count": 77,
   "id": "41969abd",
   "metadata": {
    "slideshow": {
     "slide_type": "subslide"
    }
   },
   "outputs": [
    {
     "name": "stdout",
     "output_type": "stream",
     "text": [
      "1\n",
      "2\n",
      "get: attr3\n",
      "3\n",
      "----------------------------------------\n",
      "get: attr1\n",
      "1\n",
      "get: attr2\n",
      "2\n",
      "get: attr3\n",
      "3\n"
     ]
    }
   ],
   "source": [
    "X = GetAttr()\n",
    "print(X.attr1)\n",
    "print(X.attr2)\n",
    "print(X.attr3)\n",
    "print('-' * 40)\n",
    "X = GetAttribute()\n",
    "print(X.attr1)\n",
    "print(X.attr2)\n",
    "print(X.attr3)"
   ]
  },
  {
   "cell_type": "markdown",
   "id": "9fc93cf0",
   "metadata": {
    "slideshow": {
     "slide_type": "slide"
    }
   },
   "source": [
    "## Контексты"
   ]
  },
  {
   "cell_type": "code",
   "execution_count": 78,
   "id": "85c66cf4",
   "metadata": {},
   "outputs": [],
   "source": [
    "class VectorWithContextManager(VectorWithAllAttributes):\n",
    "    def __enter__(self):\n",
    "        print('entering context')\n",
    "    def __exit__(self, *args):\n",
    "        print(args)\n",
    "        print(dir(args[2]),args[2].tb_lineno)\n",
    "        print('leaving context')\n",
    "        #return False # -- бросаем ошибку дальше\n",
    "        return True  # -- НЕ бросаем ошибку дальше"
   ]
  },
  {
   "cell_type": "code",
   "execution_count": 79,
   "id": "4e6c9473",
   "metadata": {
    "slideshow": {
     "slide_type": "subslide"
    }
   },
   "outputs": [
    {
     "name": "stdout",
     "output_type": "stream",
     "text": [
      "initializing a vector\n",
      "entering context\n",
      "0\n",
      "1\n",
      "2\n",
      "(<class 'Exception'>, Exception('something happened inside!'), <traceback object at 0x7f00cc0ac200>)\n",
      "['tb_frame', 'tb_lasti', 'tb_lineno', 'tb_next'] 5\n",
      "leaving context\n",
      "we are out of the context\n"
     ]
    }
   ],
   "source": [
    "try:\n",
    "    with VectorWithContextManager() as vec:\n",
    "        for i in range(3):\n",
    "            print(i)\n",
    "        raise Exception('something happened inside!')\n",
    "except:\n",
    "    print('an exception was raised...')\n",
    "    pass\n",
    "print('we are out of the context')"
   ]
  },
  {
   "cell_type": "markdown",
   "id": "01def97c",
   "metadata": {
    "slideshow": {
     "slide_type": "subslide"
    }
   },
   "source": [
    "Но можно и проще!"
   ]
  },
  {
   "cell_type": "code",
   "execution_count": 80,
   "id": "d2a359a7",
   "metadata": {
    "slideshow": {
     "slide_type": "fragment"
    }
   },
   "outputs": [
    {
     "name": "stdout",
     "output_type": "stream",
     "text": [
      "statement before context\n",
      "handling entering the context\n",
      "initializing a vector\n",
      "<__main__.Vector object at 0x7f00b6f86eb0>\n",
      "<__main__.Vector object at 0x7f00b6f86eb0>\n",
      "<__main__.Vector object at 0x7f00b6f86eb0>\n",
      "handling leaving the context\n",
      "statement after context\n"
     ]
    }
   ],
   "source": [
    "from contextlib import contextmanager\n",
    "\n",
    "@contextmanager\n",
    "def vector_mgr():\n",
    "    print('handling entering the context')\n",
    "    yield Vector()\n",
    "    print('handling leaving the context')\n",
    "\n",
    "print('statement before context')\n",
    "with vector_mgr() as vector:\n",
    "    for i in range(3):\n",
    "        print(vector)\n",
    "print('statement after context')"
   ]
  },
  {
   "cell_type": "code",
   "execution_count": 81,
   "id": "96f8dbf0",
   "metadata": {
    "slideshow": {
     "slide_type": "subslide"
    }
   },
   "outputs": [
    {
     "name": "stdout",
     "output_type": "stream",
     "text": [
      "statement before context\n",
      "handling entering the context\n",
      "initializing a vector\n",
      "<__main__.Vector object at 0x7f00b6f86a60>\n",
      "handling leaving the context\n",
      "statement after context\n"
     ]
    }
   ],
   "source": [
    "# А теперь с ошибкой:\n",
    "\n",
    "@contextmanager\n",
    "def vector_mgr():\n",
    "    try:\n",
    "        print('handling entering the context')\n",
    "        yield Vector()\n",
    "    except ZeroDivisionError as e:\n",
    "        pass\n",
    "    finally:\n",
    "        print('handling leaving the context')\n",
    "\n",
    "print('statement before context')\n",
    "with vector_mgr() as vector:\n",
    "    for i in range(3):\n",
    "        print(vector)\n",
    "        infin = 1 / 0\n",
    "print('statement after context')"
   ]
  },
  {
   "cell_type": "markdown",
   "id": "34d0916b",
   "metadata": {
    "slideshow": {
     "slide_type": "slide"
    }
   },
   "source": [
    "## Создание и удаление объектов"
   ]
  },
  {
   "cell_type": "code",
   "execution_count": 82,
   "id": "14e3acc2",
   "metadata": {},
   "outputs": [],
   "source": [
    "class VectorInitialized(VectorWithContextManager):\n",
    "    def __new__(cls, *args, **kwargs):\n",
    "        print('invoking __new__ method')\n",
    "        print(cls, args, kwargs)\n",
    "        print(object)\n",
    "        return object.__new__(cls)\n",
    "\n",
    "    def __del__(self):\n",
    "        print('deleting an object')\n",
    "        raise Exception(\"exception while destructing\")"
   ]
  },
  {
   "cell_type": "code",
   "execution_count": 83,
   "id": "003f61a3",
   "metadata": {
    "slideshow": {
     "slide_type": "subslide"
    }
   },
   "outputs": [
    {
     "name": "stdout",
     "output_type": "stream",
     "text": [
      "invoking __new__ method\n",
      "<class '__main__.VectorInitialized'> (1, 2) {'color': 'navy blue'}\n",
      "<class 'object'>\n",
      "initializing a vector\n",
      "vector (1, 2) of color navy blue\n"
     ]
    }
   ],
   "source": [
    "vect = VectorInitialized(1, 2, color='navy blue')\n",
    "print(vect)"
   ]
  },
  {
   "cell_type": "code",
   "execution_count": 84,
   "id": "bc328547",
   "metadata": {
    "slideshow": {
     "slide_type": "subslide"
    }
   },
   "outputs": [
    {
     "name": "stderr",
     "output_type": "stream",
     "text": [
      "Exception ignored in: <function VectorInitialized.__del__ at 0x7f00b6f8e790>\n",
      "Traceback (most recent call last):\n",
      "  File \"/var/tmp/ipykernel_3627706/453111035.py\", line 10, in __del__\n",
      "Exception: exception while destructing\n"
     ]
    },
    {
     "name": "stdout",
     "output_type": "stream",
     "text": [
      "deleting an object\n"
     ]
    }
   ],
   "source": [
    "del vect"
   ]
  },
  {
   "cell_type": "markdown",
   "id": "6549e8ce",
   "metadata": {
    "slideshow": {
     "slide_type": "slide"
    }
   },
   "source": [
    "### Function annotations - https://www.python.org/dev/peps/pep-3107/"
   ]
  },
  {
   "cell_type": "markdown",
   "id": "bf1a6eaa",
   "metadata": {
    "slideshow": {
     "slide_type": "-"
    }
   },
   "source": [
    "### ещё раз про модули - https://docs.python.org/3/tutorial/modules.html"
   ]
  },
  {
   "cell_type": "code",
   "execution_count": null,
   "id": "f01ca509",
   "metadata": {},
   "outputs": [],
   "source": []
  },
  {
   "cell_type": "code",
   "execution_count": null,
   "id": "6cfadf14",
   "metadata": {},
   "outputs": [],
   "source": []
  }
 ],
 "metadata": {
  "celltoolbar": "Slideshow",
  "kernelspec": {
   "display_name": "Python 3 (ipykernel)",
   "language": "python",
   "name": "python3"
  },
  "language_info": {
   "codemirror_mode": {
    "name": "ipython",
    "version": 3
   },
   "file_extension": ".py",
   "mimetype": "text/x-python",
   "name": "python",
   "nbconvert_exporter": "python",
   "pygments_lexer": "ipython3",
   "version": "3.8.10"
  }
 },
 "nbformat": 4,
 "nbformat_minor": 5
}
