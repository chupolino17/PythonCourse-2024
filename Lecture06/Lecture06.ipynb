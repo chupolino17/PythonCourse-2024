{
 "cells": [
  {
   "cell_type": "markdown",
   "id": "ac16e56f-e5ed-41a6-9061-d3c149564ee1",
   "metadata": {
    "editable": true,
    "slideshow": {
     "slide_type": "slide"
    },
    "tags": []
   },
   "source": [
    "# PYTHON 3\n",
    "\n",
    "## Lecture 06\n",
    "### Web & Flask\n",
    "\n",
    "<img src=\"https://avatars.mds.yandex.net/get-entity_search/58808/261054429/S122x122Fit_2x\" align=\"right\" style=\"height: 200px;\"/>\n",
    "\n",
    "### Chupov Dmitrii\n",
    "\n",
    "\n",
    "MIPT 2024"
   ]
  },
  {
   "cell_type": "markdown",
   "id": "df419fee",
   "metadata": {},
   "source": [
    "# Интернет\n",
    "\n",
    "Что происходит, когда вы вбиваете в поисковике адрес и жмете Enter?\n",
    "\n",
    "URL:  \n",
    "`<схема>:[//[<логин>[:<пароль>]@]<хост>[:<порт>]][/<URL‐путь>][?<параметры>][#<якорь>]`  \n",
    "Например:  \n",
    "`https://pp.userapi.com/c834101/v834101778/13450d/9yxFBjsPxN8.jpg`"
   ]
  },
  {
   "cell_type": "markdown",
   "id": "5f74cb11",
   "metadata": {},
   "source": [
    "Вы выступаете **клиентом**\n",
    "\n",
    "1. **DNS**: URL -> IP-адрес и порт **сервера** (87.240.129.71:443)\n",
    "2. **HTTP(S)**: IP + URL-путь + параметры -> **ресурс** (текст (в т.ч. *HTML-документ*), картинка, звук и т.д.)\n",
    "3. **Движок браузера** пытается отрисовать документ\n",
    "4. *Скорее всего*, внутри документа написано, что ему требуются еще какие-то ресурсы, у них есть URI, т.е. возвращаемся к п.1\n",
    "5. Пока все это происходит, (и после того, как произошло), выполняется **JavaScript**-код"
   ]
  },
  {
   "cell_type": "markdown",
   "id": "729efa24",
   "metadata": {},
   "source": [
    "# HTML\n",
    "\n",
    "HyperText Markup Language\n",
    "\n",
    "HTML -- язык разметки, который используется для web-страниц.\n",
    "\n",
    "Это механизм для получения структурного текста, который понимают браузеры.\n",
    "\n",
    "Структура в тексте задаётся вложенными тегами, теги определяют то, как текст будет показан (отрендерен).\n",
    "\n",
    "Это тег: `<тег>`, теги бывают открывающими (`<тег>`) и закрывающими (`</тег>`).\n",
    "\n",
    "Пример HTML-разметки:\n",
    "\n",
    "```html\n",
    "<!DOCTYPE html>\n",
    "<html>\n",
    "   <head>\n",
    "      <meta charset=\"utf-8\" />\n",
    "      <title>HTML Document</title>\n",
    "   </head>\n",
    "   <body>\n",
    "      <p> <!-- p -- это параграф, а в такие странные скобки заключается комментарий -->\n",
    "         <b>\n",
    "            Этот текст будет полужирным, <i>а этот — ещё и курсивным</i>.\n",
    "         </b>\n",
    "      </p>\n",
    "   </body>\n",
    "</html>\n",
    "```\n",
    "\n",
    "Так он выглядит после рендеринга:\n",
    "\n",
    "<!DOCTYPE html>\n",
    "<html>\n",
    "   <head>\n",
    "      <meta charset=\"utf-8\" />\n",
    "      <title>HTML Document</title>\n",
    "   </head>\n",
    "   <body>\n",
    "      <p> <!-- p -- это параграф, а в такие странные скобки заключается комментарий -->\n",
    "         <b>\n",
    "            Этот текст будет полужирным, <i>а этот — ещё и курсивным</i>.\n",
    "         </b>\n",
    "      </p>\n",
    "   </body>\n",
    "</html>\n",
    "\n",
    "Видно, что HTML-разметка имеет древовидную структуру:<br>\n",
    "каждый тег (вершина дерева) имеет 0 (тогда это лист дерева) или больше (тогда это внутренняя вершина) вложенных в него тегов.\n",
    "\n",
    "Значит, чтобы доставать из HTML какую-то информацию, можно использовать его структуру.\n",
    "\n",
    "Мы этим займёмся чуть позже.\n",
    "\n",
    "### P.S. \n",
    "На самом деле, такую же структуру имеет и формат XML (другой язык разметки).\n",
    "\n",
    "Формально, HTML -- это более стандартизированное подмножество XML.\n",
    "\n",
    "### P.P.S.\n",
    "\n",
    "А ещё у тегов бывают **атрибуты**:\n",
    "\n",
    "```html\n",
    "<a href=\"http://example.com\">Ссылка на example.com</a>\n",
    "```\n",
    "Отрендерим этот кусок:\n",
    "<a href=\"http://example.com\">Ссылка на example.com</a>\n",
    "\n",
    "### P.P.P.S.\n",
    "\n",
    "А этот текст (безусловно, имеющий структуру), был написан с помощью другого языка разметки -- **Markdown**."
   ]
  },
  {
   "cell_type": "markdown",
   "id": "40b7e66c",
   "metadata": {},
   "source": [
    "## HTTP\n",
    "\n",
    "HyperText Transfer Protocol\n",
    "\n",
    "Протокол передачи гипертекста:\n",
    "* **Протокол** -- набор логических соглашений о взаимодействии программ, стандарт;\n",
    "* **передача** -- мы живём в интернете, т.е. мир не ограничивается нашим компьютером => информацию надо передавать;\n",
    "* **гипертекст** -- HTML, например.\n",
    "\n",
    "Основная идея: все компьютеры делятся на **сервера** (те, что хранят информацию) и **клиенты** (те, что запрашивают её).\n",
    "\n",
    "На самом деле, в HTTP мы передаём не только гипертекст, а **ресурсы** -- философское обобщение, куда попадает и гипертекст, и картинки, и музыка и т.д. Но стандарт подходит для всего этого.\n",
    "\n",
    "Каждый ресурс имеет адрес -- **URI** (Uniform Resource Identifier) -- аналог пути в системе компьютера.\n",
    "\n",
    "Не будем говорить про низкоуровневую сторону вопроса: стек TCP/IP, сокеты, порты и т.д.\n",
    "\n",
    "## Структура HTTP\n",
    "\n",
    "Чтобы получить данные, клиент делает запрос на сервер. В запросе должны быть 3 части:\n",
    "* Starting line -- определяет тип сообщения;\n",
    "* Headers -- характеризуют тело сообщения, параметры передачи и прочие сведения;\n",
    "* Message body -- непосредственно данные сообщения.\n",
    "\n",
    "Ответное сообщение от сервера имеет такую же структуру.\n",
    "\n",
    "Чтобы посылать эти запросы \"руками\", а не через браузер, можно использовать утилиту `curl`. Ей и воспользуемся."
   ]
  },
  {
   "cell_type": "code",
   "execution_count": null,
   "id": "2ecb8c35",
   "metadata": {},
   "outputs": [
    {
     "name": "stdout",
     "output_type": "stream",
     "text": [
      "*   Trying 93.184.216.34:80...\n",
      "* TCP_NODELAY set\n",
      "* Connected to example.com (93.184.216.34) port 80 (#0)\n",
      "> GET /index.html HTTP/1.1\n",
      "> Host: example.com\n",
      "> User-Agent: curl/7.68.0\n",
      "> Accept: */*\n",
      "> \n",
      "* Mark bundle as not supporting multiuse\n",
      "< HTTP/1.1 200 OK\n",
      "< Accept-Ranges: bytes\n",
      "< Age: 86264\n",
      "< Cache-Control: max-age=604800\n",
      "< Content-Type: text/html; charset=UTF-8\n",
      "< Date: Fri, 26 Mar 2021 16:38:24 GMT\n",
      "< Etag: \"3147526947+gzip\"\n",
      "< Expires: Fri, 02 Apr 2021 16:38:24 GMT\n",
      "< Last-Modified: Thu, 17 Oct 2019 07:18:26 GMT\n",
      "< Server: ECS (dcb/7F83)\n",
      "< Vary: Accept-Encoding\n",
      "< X-Cache: HIT\n",
      "< Content-Length: 1256\n",
      "< \n",
      "<!doctype html>\n",
      "<html>\n",
      "<head>\n",
      "    <title>Example Domain</title>\n",
      "\n",
      "    <meta charset=\"utf-8\" />\n",
      "    <meta http-equiv=\"Content-type\" content=\"text/html; charset=utf-8\" />\n",
      "    <meta name=\"viewport\" content=\"width=device-width, initial-scale=1\" />\n",
      "    <style type=\"text/css\">\n",
      "    body {\n",
      "        background-color: #f0f0f2;\n",
      "        margin: 0;\n",
      "        padding: 0;\n",
      "        font-family: -apple-system, system-ui, BlinkMacSystemFont, \"Segoe UI\", \"Open Sans\", \"Helvetica Neue\", Helvetica, Arial, sans-serif;\n",
      "        \n",
      "    }\n",
      "    div {\n",
      "        width: 600px;\n",
      "        margin: 5em auto;\n",
      "        padding: 2em;\n",
      "        background-color: #fdfdff;\n",
      "        border-radius: 0.5em;\n",
      "        box-shadow: 2px 3px 7px 2px rgba(0,0,0,0.02);\n",
      "    }\n",
      "    a:link, a:visited {\n",
      "        color: #38488f;\n",
      "        text-decoration: none;\n",
      "    }\n",
      "    @media (max-width: 700px) {\n",
      "        div {\n",
      "            margin: 0 auto;\n",
      "            width: auto;\n",
      "        }\n",
      "    }\n",
      "    </style>    \n",
      "</head>\n",
      "\n",
      "<body>\n",
      "<div>\n",
      "    <h1>Example Domain</h1>\n",
      "    <p>This domain is for use in illustrative examples in documents. You may use this\n",
      "    domain in literature without prior coordination or asking for permission.</p>\n",
      "    <p><a href=\"https://www.iana.org/domains/example\">More information...</a></p>\n",
      "</div>\n",
      "</body>\n",
      "</html>\n",
      "* Connection #0 to host example.com left intact\n"
     ]
    }
   ],
   "source": [
    "!curl example.com/index.html -v"
   ]
  },
  {
   "cell_type": "markdown",
   "id": "bb808a7f",
   "metadata": {},
   "source": [
    "## Методы HTTP\n",
    "\n",
    "HTTP метод определяет операцию, которую мы хотим произвести над ресурсом.\n",
    "\n",
    "Самые частые методы: GET, POST, PUT, DELETE (но есть и другие).\n",
    "\n",
    "* **GET** -- запрос содержимого ресурса. <br>GET-запросы идемпотентны. Поэтому они могут кэшироваться.\n",
    "* **POST** -- передача данных на ресурс (например, при отправке комментария на форуме или вводе пароля на сайте). <br> Не идемпотентны => при отправке одного и того же комментария на форум он появится там дважды.  <br>Не кэшируются.\n",
    "* **PUT** -- передача данных в конкретный URI (изменение существующего ресурса). Не кэшируются.\n",
    "* **DELETE** -- удаление ресурса.\n",
    "\n",
    "## Коды HTTP\n",
    "\n",
    "В ответном сообщении придёт код ответа HTTP, который определяет результат выполнения операции.\n",
    "\n",
    "Самые частые коды: `200 OK`, `400 BadRequest`, `404 Not Found`, `500 Internal Server Error`.\n",
    "\n",
    "Общий обзор кодов:\n",
    "* **1xx** -- Informational. Информационные коды, например, `102 Processing` (запрос пока обрабатывается);\n",
    "* **2xx** -- Success. Успех. Всё хорошо, запрос отработал и ничего не сломал. По крайней мере, пока.\n",
    "* **3xx** -- Redirection. Перенаправление на другой ресурс/страницу.\n",
    "* **4xx** -- Client error. Ошибка клиента (неверные данные запроса или неправильный путь).\n",
    "* **5xx** -- Server error. Что-то сломалось на сервере (там поделили на ноль, например)."
   ]
  },
  {
   "cell_type": "markdown",
   "id": "63961a4b",
   "metadata": {},
   "source": [
    "## Разбор примера\n",
    "\n",
    "Давайте ещё раз посмотрим на запрос к example.com/index.html.\n",
    "\n",
    "Служебная информация от `curl`:\n",
    "\n",
    "```\n",
    "*   Trying 2606:2800:220:1:248:1893:25c8:1946...\n",
    "*   Trying 93.184.216.34...\n",
    "* Connected to example.com (2606:2800:220:1:248:1893:25c8:1946) port 80 (#0)\n",
    "```\n",
    "Запрос клиента:\n",
    "```\n",
    "> GET /index.html HTTP/1.1    # Starting line: метод GET, URI -- /index.html, версия протокола -- HTTP/1.1\n",
    "> Host: example.com           # Заголовки сообщения\n",
    "> User-Agent: curl/7.47.0\n",
    "> Accept: */*\n",
    ">                             # Пустое тело, т.к. мы ничего не передали на сервер.\n",
    "```\n",
    "\n",
    "Ответ сервера:\n",
    "```\n",
    "< HTTP/1.1 200 OK                          # Starting line: версия протокола и код ответа\n",
    "< Cache-Control: max-age=604800            # Заголовки ответа\n",
    "< Content-Type: text/html; charset=UTF-8\n",
    "< Date: Tue, 19 Mar 2019 21:25:21 GMT\n",
    "< Etag: \"1541025663+gzip+ident\"\n",
    "< Expires: Tue, 26 Mar 2019 21:25:21 GMT\n",
    "< Last-Modified: Fri, 09 Aug 2013 23:54:35 GMT\n",
    "< Server: ECS (bsa/EB1E)\n",
    "< Vary: Accept-Encoding\n",
    "< X-Cache: HIT\n",
    "< Content-Length: 1270\n",
    "<                                          # Пустая строка -- нужна по стандарту\n",
    "<!doctype html>                            # Тело ответа -- HTML-документ\n",
    "<html>\n",
    "<head>\n",
    "    <title>Example Domain</title>\n",
    ". . .\n",
    "```\n"
   ]
  },
  {
   "cell_type": "markdown",
   "id": "7d632277",
   "metadata": {},
   "source": [
    "## REST\n",
    "\n",
    " <a href=\"https://en.wikipedia.org/wiki/Representational_state_transfer\">Representational State Transfer</a> \n",
    "\n",
    "Набор дополнительных ограничений на HTTP, указывающий, как правильно работать с методами, кодами и т.д.\n",
    "\n",
    "Cтолпы на которых стоит REST:\n",
    "* Модель клиент-сервер\n",
    "* Отсутствие состояния\n",
    "* Кэширование\n",
    "* Единообразие интерфейса\n",
    "* Слои\n",
    "* Предоставление кода по запросу\n",
    "* Начало от нуля\n",
    "\n",
    "Можно назвать его аналогом pep для Питона."
   ]
  },
  {
   "cell_type": "markdown",
   "id": "8b320edd",
   "metadata": {},
   "source": [
    "## https://faun.pub/http-and-everything-you-need-to-know-about-it-8273bc224491 - доступно про HTTP (english)"
   ]
  },
  {
   "cell_type": "markdown",
   "id": "281eed6f-a49e-4cdc-b8ef-f513065674f0",
   "metadata": {
    "editable": true,
    "slideshow": {
     "slide_type": "slide"
    },
    "tags": []
   },
   "source": [
    "## Что такое Docker?\n"
   ]
  },
  {
   "cell_type": "markdown",
   "id": "0afda9d7-5abc-4860-ae23-e5d64ff48e8d",
   "metadata": {
    "editable": true,
    "slideshow": {
     "slide_type": "fragment"
    },
    "tags": []
   },
   "source": [
    "Википедия определяет Docker как: \n",
    "\n",
    "> проект с открытым исходным кодом, который автоматизирует развертывание программных приложений внутри контейнеров, предоставляя дополнительный уровень абстракции и автоматизируя виртуализацию на уровне операционной системы в Linux."
   ]
  },
  {
   "cell_type": "markdown",
   "id": "1917ef42-fee7-4fec-813c-540c3c459072",
   "metadata": {
    "editable": true,
    "slideshow": {
     "slide_type": "subslide"
    },
    "tags": []
   },
   "source": [
    "Проще говоря, Docker - это инструмент, который позволяет легко развертывать свои приложения в изолированной среде (называемой контейнерами) для запуска в операционной системе хоста. Ключевым преимуществом Docker является то, что он позволяет пользователям упаковать приложение со всеми его зависимостями в стандартизированный модуль для разработки программного обеспечения. В отличие от виртуальных машин, контейнеры не требуют больших накладных расходов и, следовательно, позволяют более эффективно использовать базовую систему и ресурсы."
   ]
  },
  {
   "cell_type": "markdown",
   "id": "c00669b6-f1af-426b-b6f5-8ca86206d0ca",
   "metadata": {
    "editable": true,
    "slideshow": {
     "slide_type": "subslide"
    },
    "tags": []
   },
   "source": [
    "## ВМ vs контейнеры?"
   ]
  },
  {
   "cell_type": "markdown",
   "id": "61fb8e22-b4d2-4f30-b6d7-8a48b11e869f",
   "metadata": {
    "editable": true,
    "slideshow": {
     "slide_type": "fragment"
    },
    "tags": []
   },
   "source": [
    "ВМ: \n",
    "* полная изоляция, за счет вирутализации оборудования\n",
    "* дорого и медленно\n",
    "\n",
    "Контейнеризация:\n",
    "* неполная изоляция\n",
    "* дешево и быстро"
   ]
  },
  {
   "cell_type": "markdown",
   "id": "88eff520-b865-4c4e-86fc-0761e0b2f1ca",
   "metadata": {
    "editable": true,
    "slideshow": {
     "slide_type": "subslide"
    },
    "tags": []
   },
   "source": [
    "## В чем еще бенефиты?"
   ]
  },
  {
   "cell_type": "markdown",
   "id": "80709e6f-0ba8-4c58-9ccf-18c2877e1016",
   "metadata": {
    "editable": true,
    "slideshow": {
     "slide_type": "fragment"
    },
    "tags": []
   },
   "source": [
    "Легко и последовательно можно развертывать приложения на основе контейнеров, независимо от того, является ли целевая среда частным центром обработки данных, общедоступным облаком или даже персональным ноутбуком разработчика. \n",
    "\n",
    "Это дает разработчикам возможность создавать предсказуемые среды, которые изолированы от остальных приложений и могут запускаться где угодно."
   ]
  },
  {
   "cell_type": "markdown",
   "id": "b8e794ea-015e-4c3b-9d90-f88f80db8318",
   "metadata": {
    "editable": true,
    "slideshow": {
     "slide_type": "subslide"
    },
    "tags": []
   },
   "source": [
    "![Interest of Docker](https://docker-curriculum.com/images/interest.webp)"
   ]
  },
  {
   "cell_type": "markdown",
   "id": "9e44da18-5909-4cf6-85b8-7c190a4bd72c",
   "metadata": {
    "editable": true,
    "slideshow": {
     "slide_type": "slide"
    },
    "tags": []
   },
   "source": [
    "### Вот тут лежит хороший [туториал по докеру](https://docker-curriculum.com/#next-steps), а мы сейчас просто пробежимся по нему кратко "
   ]
  },
  {
   "cell_type": "markdown",
   "id": "eb7ed274-a018-42f5-9cc6-5eab72192632",
   "metadata": {
    "editable": true,
    "slideshow": {
     "slide_type": "slide"
    },
    "tags": []
   },
   "source": [
    "## Кратко по командам докера"
   ]
  },
  {
   "cell_type": "markdown",
   "id": "a082d66b-5022-4824-97c3-f82cf73db70b",
   "metadata": {
    "editable": true,
    "slideshow": {
     "slide_type": "subslide"
    },
    "tags": []
   },
   "source": [
    "#### `pull` тянет образ из DockerHub"
   ]
  },
  {
   "cell_type": "markdown",
   "id": "6781a8aa-8008-411f-9a37-4013bb9b8796",
   "metadata": {
    "editable": true,
    "slideshow": {
     "slide_type": "fragment"
    },
    "tags": []
   },
   "source": [
    "`$ docker pull busybox`"
   ]
  },
  {
   "cell_type": "markdown",
   "id": "296f9986-fce8-4879-92f3-3db05d9cfb5f",
   "metadata": {
    "editable": true,
    "slideshow": {
     "slide_type": "subslide"
    },
    "tags": []
   },
   "source": [
    "#### `images` показывает образы, которые есть на машине"
   ]
  },
  {
   "cell_type": "markdown",
   "id": "c2407663-d140-4616-b391-1ce9bf9a79a8",
   "metadata": {
    "editable": true,
    "slideshow": {
     "slide_type": "fragment"
    },
    "tags": []
   },
   "source": [
    "`$ docker images`\\\n",
    "`REPOSITORY              TAG                 IMAGE ID            CREATED             VIRTUAL SIZE`\\\n",
    "`busybox                 latest              c51f86c28340        4 weeks ago         1.109 MB`"
   ]
  },
  {
   "cell_type": "markdown",
   "id": "d99feea8-5224-42ba-b400-55696fe26864",
   "metadata": {
    "editable": true,
    "slideshow": {
     "slide_type": "subslide"
    },
    "tags": []
   },
   "source": [
    "#### `run` запускает образ с какой-то командой"
   ]
  },
  {
   "cell_type": "markdown",
   "id": "8dd580b7-9120-43ae-ac2a-5a8e367c0cd6",
   "metadata": {
    "editable": true,
    "slideshow": {
     "slide_type": "subslide"
    },
    "tags": []
   },
   "source": [
    "`$ docker run busybox echo \"hello from busybox\"`\\\n",
    "`hello from busybox`"
   ]
  },
  {
   "cell_type": "markdown",
   "id": "02d170e2-62f4-4e07-a4cb-37a98339007d",
   "metadata": {
    "editable": true,
    "slideshow": {
     "slide_type": "subslide"
    },
    "tags": []
   },
   "source": [
    "#### `ps -a` показывает все контейнеры"
   ]
  },
  {
   "cell_type": "markdown",
   "id": "47d39d5f-fc72-4353-8765-4a74471dedae",
   "metadata": {
    "editable": true,
    "slideshow": {
     "slide_type": "fragment"
    },
    "tags": []
   },
   "source": [
    "`$ docker ps -a`\\\n",
    "`CONTAINER ID        IMAGE               COMMAND             CREATED             STATUS                      PORTS               NAMES`\\\n",
    "`305297d7a235        busybox             \"uptime\"            11 minutes ago      Exited (0) 11 minutes ago                       distracted_goldstine`\\\n",
    "`ff0a5c3750b9        busybox             \"sh\"                12 minutes ago      Exited (0) 12 minutes ago                       elated_ramanujan`\\\n",
    "`14e5bd11d164        hello-world         \"/hello\"            2 minutes ago       Exited (0) 2 minutes ago                        thirsty_euclid`"
   ]
  },
  {
   "cell_type": "markdown",
   "id": "4c4eb958-981e-49ac-84e2-5cccf66dfde1",
   "metadata": {
    "editable": true,
    "slideshow": {
     "slide_type": "slide"
    },
    "tags": []
   },
   "source": [
    "## Поднимаем сайт внутри докера"
   ]
  },
  {
   "cell_type": "markdown",
   "id": "90866393-397b-4676-80ef-682dd6661984",
   "metadata": {
    "editable": true,
    "slideshow": {
     "slide_type": "subslide"
    },
    "tags": []
   },
   "source": [
    "`--rm` флаг автоматически удаляет контейнер при выходе, а `-it` флаг указывает интерактивный терминал, который упрощает завершение работы контейнера с помощью Ctrl + C (в Windows)."
   ]
  },
  {
   "cell_type": "markdown",
   "id": "077f193a-bc17-461d-ad7d-83c12606ab15",
   "metadata": {
    "editable": true,
    "slideshow": {
     "slide_type": "fragment"
    },
    "tags": []
   },
   "source": [
    "`$ docker run --rm -it prakhar1989/static-site`\\\n",
    "`Nginx is running...`"
   ]
  },
  {
   "cell_type": "markdown",
   "id": "71b81ebf-01b2-42f2-bc1c-3587a0d91b57",
   "metadata": {
    "editable": true,
    "slideshow": {
     "slide_type": "fragment"
    },
    "tags": []
   },
   "source": [
    "В приведенной выше команде, `-d` отсоединит наш терминал, `-P` опубликует все открытые порты на случайные порты и, наконец, `--name` соответствует имени, которое мы хотим присвоить."
   ]
  },
  {
   "cell_type": "markdown",
   "id": "637e3eee-9a2d-40cb-ba2b-556c1c48b528",
   "metadata": {
    "editable": true,
    "slideshow": {
     "slide_type": "fragment"
    },
    "tags": []
   },
   "source": [
    "`$ docker run -d -P --name static-site prakhar1989/static-site` \\\n",
    "`e61d12292d69556eabe2a44c16cbd54486b2527e2ce4f95438e504afb7b02810`"
   ]
  },
  {
   "cell_type": "markdown",
   "id": "b3e2caf7-bf3c-4610-87ea-239727ddcb46",
   "metadata": {
    "editable": true,
    "slideshow": {
     "slide_type": "subslide"
    },
    "tags": []
   },
   "source": [
    "Теперь мы можем увидеть порты, выполнив `docker port [CONTAINER]` команду"
   ]
  },
  {
   "cell_type": "markdown",
   "id": "983b06db-76bd-482a-b956-654652c4be54",
   "metadata": {
    "editable": true,
    "slideshow": {
     "slide_type": "fragment"
    },
    "tags": []
   },
   "source": [
    "`$ docker port static-site` \\\n",
    "`80/tcp -> 0.0.0.0:32769` \\\n",
    "`443/tcp -> 0.0.0.0:32768`"
   ]
  },
  {
   "cell_type": "markdown",
   "id": "f414bf21-9693-4291-b83a-8992824a6832",
   "metadata": {
    "editable": true,
    "slideshow": {
     "slide_type": "subslide"
    },
    "tags": []
   },
   "source": [
    "Или переопределить свои порты"
   ]
  },
  {
   "cell_type": "markdown",
   "id": "3f7599dd-de30-4505-ba16-0e6038730660",
   "metadata": {
    "editable": true,
    "slideshow": {
     "slide_type": "fragment"
    },
    "tags": []
   },
   "source": [
    "`$ docker run -p 8888:80 prakhar1989/static-site`\\\n",
    "`Nginx is running...`"
   ]
  },
  {
   "cell_type": "markdown",
   "id": "34facbb3-623c-47d7-a20b-6341c71c26cc",
   "metadata": {
    "editable": true,
    "slideshow": {
     "slide_type": "subslide"
    },
    "tags": []
   },
   "source": [
    "Ну и всегда можно остановить контейнер командой `stop`"
   ]
  },
  {
   "cell_type": "markdown",
   "id": "350eb217-8685-45ac-8f00-63ea4d97ca7b",
   "metadata": {
    "editable": true,
    "slideshow": {
     "slide_type": "fragment"
    },
    "tags": []
   },
   "source": [
    "`$ docker stop static-site`\\\n",
    "`static-site`"
   ]
  },
  {
   "cell_type": "markdown",
   "id": "af68b98b-1bc6-43ff-bb2f-672358783017",
   "metadata": {
    "editable": true,
    "slideshow": {
     "slide_type": "slide"
    },
    "tags": []
   },
   "source": [
    "## DockerFile"
   ]
  },
  {
   "cell_type": "markdown",
   "id": "99e8b8e9-53b4-4e65-93e9-5ecc8ff83fe8",
   "metadata": {
    "editable": true,
    "slideshow": {
     "slide_type": "subslide"
    },
    "tags": []
   },
   "source": [
    "`FROM` описывает образ, от которого мы почкуемся"
   ]
  },
  {
   "cell_type": "raw",
   "id": "9093acbf-d4c0-4059-9882-da0c9a9f8ac9",
   "metadata": {
    "editable": true,
    "raw_mimetype": "",
    "slideshow": {
     "slide_type": "fragment"
    },
    "tags": []
   },
   "source": [
    "FROM python:3.8"
   ]
  },
  {
   "cell_type": "markdown",
   "id": "82156bc6-a4ca-4394-a05a-eb393fe74a0e",
   "metadata": {
    "editable": true,
    "slideshow": {
     "slide_type": "subslide"
    },
    "tags": []
   },
   "source": [
    "Потом нужно установить рабочую директорию и скопировать туда файлы, важно помнить о том, что докер во время сборки контейнера почестному создает его с нуля и копирует туда данные"
   ]
  },
  {
   "cell_type": "raw",
   "id": "25956fac-d397-46d9-a9ef-7501f5f982f9",
   "metadata": {
    "editable": true,
    "raw_mimetype": "",
    "slideshow": {
     "slide_type": "fragment"
    },
    "tags": []
   },
   "source": [
    "# set a directory for the app\n",
    "WORKDIR /usr/src/app\n",
    "\n",
    "# copy all the files to the container\n",
    "COPY . ."
   ]
  },
  {
   "cell_type": "markdown",
   "id": "902cd4ac-561a-4287-8646-03747f65c30f",
   "metadata": {
    "editable": true,
    "slideshow": {
     "slide_type": "subslide"
    },
    "tags": []
   },
   "source": [
    "С помощью `RUN` можно запускать команды, которые необходимо сделать до старта вашего контейнера"
   ]
  },
  {
   "cell_type": "raw",
   "id": "5abdcce5-dcbd-4fec-8dc0-053823bfff65",
   "metadata": {
    "editable": true,
    "raw_mimetype": "",
    "slideshow": {
     "slide_type": "fragment"
    },
    "tags": []
   },
   "source": [
    "# install dependencies\n",
    "RUN pip install --no-cache-dir -r requirements.txt"
   ]
  },
  {
   "cell_type": "markdown",
   "id": "d7d55c61-59ef-4bfb-96df-b09b011a6210",
   "metadata": {
    "editable": true,
    "slideshow": {
     "slide_type": "subslide"
    },
    "tags": []
   },
   "source": [
    "`EXPOSE` дает докеру понять, что этот порт стоит слушать и пробрасывать наверх"
   ]
  },
  {
   "cell_type": "raw",
   "id": "edebcf05-a38c-4c29-a561-ef2f8c260a93",
   "metadata": {
    "editable": true,
    "raw_mimetype": "",
    "slideshow": {
     "slide_type": "fragment"
    },
    "tags": []
   },
   "source": [
    "EXPOSE 5000"
   ]
  },
  {
   "cell_type": "markdown",
   "id": "399e3cab-fd86-4726-86d1-981a6c7aa68e",
   "metadata": {
    "editable": true,
    "slideshow": {
     "slide_type": "subslide"
    },
    "tags": []
   },
   "source": [
    "Ну и `CMD` указывает команду, которую нужно запустить, когда контейнер соберется"
   ]
  },
  {
   "cell_type": "raw",
   "id": "6aed863e-5c65-4fd3-a793-aeb5a577103b",
   "metadata": {
    "editable": true,
    "raw_mimetype": "",
    "slideshow": {
     "slide_type": "fragment"
    },
    "tags": []
   },
   "source": [
    "CMD [\"python\", \"./app.py\"]"
   ]
  },
  {
   "cell_type": "markdown",
   "id": "0a967a7a-a0a6-432d-ab40-e2415aa7aaa0",
   "metadata": {
    "editable": true,
    "slideshow": {
     "slide_type": "subslide"
    },
    "tags": []
   },
   "source": [
    "Финалимся с помощью `docker build`"
   ]
  },
  {
   "cell_type": "raw",
   "id": "99a6f434-2a9a-421d-a5bb-012a3285e491",
   "metadata": {
    "editable": true,
    "raw_mimetype": "",
    "slideshow": {
     "slide_type": "fragment"
    },
    "tags": []
   },
   "source": [
    "docker build"
   ]
  },
  {
   "cell_type": "markdown",
   "id": "009b72c8-e4f4-4a4d-83e5-995fa2084c23",
   "metadata": {
    "editable": true,
    "slideshow": {
     "slide_type": "slide"
    },
    "tags": []
   },
   "source": [
    "## Flask"
   ]
  },
  {
   "cell_type": "markdown",
   "id": "46732bb7-c6e1-4d02-9202-cea280889324",
   "metadata": {
    "editable": true,
    "slideshow": {
     "slide_type": "fragment"
    },
    "tags": []
   },
   "source": [
    "Flask – компактный фреймворк для быстрой разработки веб-приложений. Он предоставляет минимальную необходимую функциональность и не навязывает никаких строгих правил в отношении структуры и архитектуры приложения (как это делает Django)."
   ]
  },
  {
   "cell_type": "markdown",
   "id": "11a6dbb0-20a9-4eec-a460-1836fe1dc2e9",
   "metadata": {
    "editable": true,
    "slideshow": {
     "slide_type": "subslide"
    },
    "tags": []
   },
   "source": [
    "* __Минималистичность.__ Flask отличается небольшим размером – в нем есть все самое необходимое и нет ничего лишнего.\n",
    "* __Гибкость.__ Фреймворк не диктует определенных правил и позволяет разработчику сохранить полный контроль над структурой приложения.\n",
    "* __Простота в использовании.__ Он имеет несколько встроенных функций, которые позволяют сразу начать создавать полноценные веб-приложения, даже если у вас нет опыта в веб-разработке на Python. Например, у Flask есть встроенный сервер, поддержка сессий, обработчик форм, шаблонизатор.\n",
    "* __Интеграция с дополнительными библиотеками.__ Фреймворк очень просто интегрируется с многочисленными библиотеками, которые расширяют его функциональность. Это позволяет создать гибкий, масштабируемый проект для любой сферы.\n",
    "* __Простота тестирования.__ У Flask есть встроенный тестовый клиент, который максимально упрощает тестирование и отладку."
   ]
  },
  {
   "cell_type": "code",
   "execution_count": 33,
   "id": "72b82381-9aaa-4f9d-b9f4-f9e30fb0b21b",
   "metadata": {
    "editable": true,
    "scrolled": true,
    "slideshow": {
     "slide_type": "subslide"
    },
    "tags": []
   },
   "outputs": [
    {
     "name": "stdout",
     "output_type": "stream",
     "text": [
      "Looking in indexes: https://pypi.yandex-team.ru/simple/\n",
      "Collecting flask\n",
      "  Downloading https://pypi.yandex-team.ru/repo/default/download/Flask/1282840/flask-3.0.0-py3-none-any.whl (99 kB)\n",
      "\u001b[K     |████████████████████████████████| 99 kB 38.6 MB/s eta 0:00:01\n",
      "\u001b[?25hCollecting blinker>=1.6.2\n",
      "  Downloading https://pypi.yandex-team.ru/repo/default/download/blinker/1288802/blinker-1.6.3-py3-none-any.whl (13 kB)\n",
      "Collecting click>=8.1.3\n",
      "  Downloading https://pypi.yandex-team.ru/repo/default/download/click/1256108/click-8.1.7-py3-none-any.whl (97 kB)\n",
      "\u001b[K     |████████████████████████████████| 97 kB 28.8 MB/s eta 0:00:01\n",
      "\u001b[?25hCollecting itsdangerous>=2.1.2\n",
      "  Downloading https://pypi.yandex-team.ru/repo/default/download/itsdangerous/1027782/itsdangerous-2.1.2-py3-none-any.whl (15 kB)\n",
      "Collecting Werkzeug>=3.0.0\n",
      "  Downloading https://pypi.yandex-team.ru/repo/default/download/Werkzeug/1282885/werkzeug-3.0.0-py3-none-any.whl (226 kB)\n",
      "\u001b[K     |████████████████████████████████| 226 kB 32.8 MB/s eta 0:00:01\n",
      "\u001b[?25hRequirement already satisfied: importlib-metadata>=3.6.0; python_version < \"3.10\" in /home/chupolino17/.local/lib/python3.8/site-packages (from flask) (6.8.0)\n",
      "Requirement already satisfied: Jinja2>=3.1.2 in /home/chupolino17/.local/lib/python3.8/site-packages (from flask) (3.1.2)\n",
      "Requirement already satisfied: MarkupSafe>=2.1.1 in /home/chupolino17/.local/lib/python3.8/site-packages (from Werkzeug>=3.0.0->flask) (2.1.3)\n",
      "Requirement already satisfied: zipp>=0.5 in /usr/lib/python3/dist-packages (from importlib-metadata>=3.6.0; python_version < \"3.10\"->flask) (1.0.0)\n",
      "Installing collected packages: blinker, click, itsdangerous, Werkzeug, flask\n",
      "Successfully installed Werkzeug-3.0.0 blinker-1.6.3 click-8.1.7 flask-3.0.0 itsdangerous-2.1.2\n"
     ]
    }
   ],
   "source": [
    "!pip install flask"
   ]
  },
  {
   "cell_type": "markdown",
   "id": "7a615db1-5a63-4d77-b59b-85bf7a5c615d",
   "metadata": {
    "editable": true,
    "slideshow": {
     "slide_type": "slide"
    },
    "tags": []
   },
   "source": [
    "## Первое приложние на Flask"
   ]
  },
  {
   "cell_type": "markdown",
   "id": "8921f198-48fa-4a07-94f8-02be9e0925f1",
   "metadata": {
    "editable": true,
    "slideshow": {
     "slide_type": "subslide"
    },
    "tags": []
   },
   "source": [
    "Напишем приложение, которое будет выводить традиционное приветствие Hello, World! в браузере. Сохраните этот код в файле app.py"
   ]
  },
  {
   "cell_type": "code",
   "execution_count": null,
   "id": "f6674771-4c23-485f-ae06-511a84434a6d",
   "metadata": {
    "editable": true,
    "slideshow": {
     "slide_type": "fragment"
    },
    "tags": []
   },
   "outputs": [],
   "source": [
    "from flask import Flask\n",
    "\n",
    "app = Flask(__name__)\n",
    "\n",
    "@app.route('/')\n",
    "def hello():\n",
    "    return 'Hello, World!'\n",
    "\n",
    "if __name__ == '__main__':\n",
    "    app.run()"
   ]
  },
  {
   "cell_type": "markdown",
   "id": "7b21e69b-e059-492e-b24c-b09843498f33",
   "metadata": {
    "editable": true,
    "slideshow": {
     "slide_type": "subslide"
    },
    "tags": []
   },
   "source": [
    "Можно принудительно выставить порт в коде (но лучше не надо)"
   ]
  },
  {
   "cell_type": "code",
   "execution_count": null,
   "id": "fa006be5-02c3-45e3-8c42-e2b3080e4f7d",
   "metadata": {
    "editable": true,
    "slideshow": {
     "slide_type": "fragment"
    },
    "tags": []
   },
   "outputs": [],
   "source": [
    "app.run(port=8000)"
   ]
  },
  {
   "cell_type": "markdown",
   "id": "86e6300f-438e-4d41-89a9-f4c3ce5d2cf3",
   "metadata": {
    "editable": true,
    "slideshow": {
     "slide_type": "fragment"
    },
    "tags": []
   },
   "source": [
    "Можно выставить `debug_mode` (но тоже лучше не надо)"
   ]
  },
  {
   "cell_type": "code",
   "execution_count": null,
   "id": "dca62f46-06ff-45b6-841d-852956d15924",
   "metadata": {
    "editable": true,
    "slideshow": {
     "slide_type": "fragment"
    },
    "tags": []
   },
   "outputs": [],
   "source": [
    "app.run(debug=True)"
   ]
  },
  {
   "cell_type": "raw",
   "id": "03171d14-978c-4a6b-b601-20688e115d6b",
   "metadata": {
    "editable": true,
    "raw_mimetype": "",
    "slideshow": {
     "slide_type": "subslide"
    },
    "tags": []
   },
   "source": [
    "$ export FLASK_APP=hello.py\n",
    "$ flask run"
   ]
  },
  {
   "cell_type": "markdown",
   "id": "9eb1db1e-eefa-4854-9f71-abbbf7ae6a73",
   "metadata": {
    "editable": true,
    "slideshow": {
     "slide_type": "fragment"
    },
    "tags": []
   },
   "source": [
    "\n",
    "<img src=\"https://python-adv-web-apps.readthedocs.io/en/latest/_images/start_flask.png\" alt=\"drawing\" width=\"800\"/>"
   ]
  },
  {
   "cell_type": "markdown",
   "id": "37eda7b4-8f1b-45f7-abf3-0e5a6bcd573b",
   "metadata": {
    "editable": true,
    "slideshow": {
     "slide_type": "subslide"
    },
    "tags": []
   },
   "source": [
    "И порт, и `debug_mode` и много что еще (`flask -h` в помощь) можно выставить непосредственно при запуске приложения"
   ]
  },
  {
   "cell_type": "raw",
   "id": "8b183a5f-4500-415b-8554-5f9c24e95bd6",
   "metadata": {
    "editable": true,
    "raw_mimetype": "",
    "slideshow": {
     "slide_type": "fragment"
    },
    "tags": []
   },
   "source": [
    "$ export FLASK_APP=hello.py\n",
    "$ flask run --port 4999"
   ]
  },
  {
   "cell_type": "raw",
   "id": "a7321924-2688-469d-9d7f-0a64f3e4f868",
   "metadata": {
    "editable": true,
    "raw_mimetype": "",
    "slideshow": {
     "slide_type": "fragment"
    },
    "tags": []
   },
   "source": [
    "$ flask --debug run"
   ]
  },
  {
   "cell_type": "markdown",
   "id": "26320057-6f63-43e8-9a98-1912b62bfc0e",
   "metadata": {
    "editable": true,
    "slideshow": {
     "slide_type": "subslide"
    },
    "tags": []
   },
   "source": [
    "Вы можете создавать свои хендлеры, со своими роутами:"
   ]
  },
  {
   "cell_type": "code",
   "execution_count": null,
   "id": "4eb9322d-14ce-4691-9269-33b626eefa5a",
   "metadata": {
    "editable": true,
    "slideshow": {
     "slide_type": "fragment"
    },
    "tags": []
   },
   "outputs": [],
   "source": [
    "@app.route('/foobar')\n",
    "def foobar():\n",
    "    return 'Hi there, foobar!'"
   ]
  },
  {
   "cell_type": "markdown",
   "id": "3242ee59-e5b7-4240-99ea-e19df2588aef",
   "metadata": {
    "editable": true,
    "slideshow": {
     "slide_type": "slide"
    },
    "tags": []
   },
   "source": [
    "## Продожлаем писать свой сервис"
   ]
  },
  {
   "cell_type": "code",
   "execution_count": null,
   "id": "5899c793-62dd-44e8-bee2-0b73af66d4b4",
   "metadata": {
    "editable": true,
    "slideshow": {
     "slide_type": "subslide"
    },
    "tags": []
   },
   "outputs": [],
   "source": [
    "\"\"\"basic Flask app - demo of using a variable in a route\"\"\"\n",
    "from flask import Flask\n",
    "app = Flask(__name__)\n",
    "\n",
    "@app.route('/')\n",
    "def hello():\n",
    "    greet = '<h1>Hello, Gators!</h1>'\n",
    "    link = '<p><a href=\"user/Albert\">Click me!</a></p>'\n",
    "    return greet + link\n",
    "\n",
    "@app.route('/user/<name>')\n",
    "def user(name):\n",
    "    personal = '<h1>Hello, {}!</h1>'.format(name)\n",
    "    # above - the curly braces {} hold a variable; when this runs,\n",
    "    # the value will replace the braces and the variable name\n",
    "    instruction = '<p>Change the name in the <em>browser address bar</em> \\\n",
    "        and reload the page.</p>'\n",
    "    return personal + instruction\n",
    "\n",
    "if __name__ == '__main__':\n",
    "    app.run(debug=True)\n",
    "    # app.run(host='0.0.0.0', port=4999, debug=True)\n",
    "\n",
    "# if you need to avoid using port 5000 - some Mac users -\n",
    "# delete the first app.run() line above and\n",
    "# un-comment the second app.run() line. Then use localhost:4999"
   ]
  },
  {
   "cell_type": "markdown",
   "id": "e3599a50-aa13-462f-acb2-c263e01a6eb7",
   "metadata": {
    "editable": true,
    "slideshow": {
     "slide_type": "subslide"
    },
    "tags": []
   },
   "source": [
    "## Дальше придется немного повоображать и поверить мне..."
   ]
  },
  {
   "cell_type": "markdown",
   "id": "22588638-abbc-4da1-9ad0-19fa856e7d1c",
   "metadata": {
    "editable": true,
    "slideshow": {
     "slide_type": "subslide"
    },
    "tags": []
   },
   "source": [
    "Вот наша корневая страница..."
   ]
  },
  {
   "cell_type": "markdown",
   "id": "a1ce62a8-cb5c-4f54-aeda-d8c34b87a968",
   "metadata": {
    "editable": true,
    "slideshow": {
     "slide_type": "fragment"
    },
    "tags": []
   },
   "source": [
    "\n",
    "<img src=\"https://python-adv-web-apps.readthedocs.io/en/latest/_images/hello3_a.png\" alt=\"drawing\" width=\"400\"/>"
   ]
  },
  {
   "cell_type": "markdown",
   "id": "4fe18b8f-5de2-4ad3-9c61-ba1fa561daf5",
   "metadata": {
    "editable": true,
    "slideshow": {
     "slide_type": "subslide"
    },
    "tags": []
   },
   "source": [
    "А вот, что произойдет, если кликнуть по кнопке..."
   ]
  },
  {
   "cell_type": "markdown",
   "id": "2ca229ed-6b7f-46dd-8ab3-2125543410ce",
   "metadata": {
    "editable": true,
    "slideshow": {
     "slide_type": "fragment"
    },
    "tags": []
   },
   "source": [
    "\n",
    "<img src=\"https://python-adv-web-apps.readthedocs.io/en/latest/_images/hello3_b.png\" alt=\"drawing\" width=\"400\"/>"
   ]
  },
  {
   "cell_type": "markdown",
   "id": "6c3cc574-62a1-475a-97e6-31572390c5f0",
   "metadata": {
    "editable": true,
    "slideshow": {
     "slide_type": "slide"
    },
    "tags": []
   },
   "source": [
    "## Шаблонирование"
   ]
  },
  {
   "cell_type": "markdown",
   "id": "719d1e5b-19a9-406e-868f-11868b174f46",
   "metadata": {
    "editable": true,
    "slideshow": {
     "slide_type": "subslide"
    },
    "tags": []
   },
   "source": [
    "# Дисклеймер! Важно понимать, что все что будет происходить дальше - плохо, немодно и немолодежно. Но просто и быстро для обучения..."
   ]
  },
  {
   "cell_type": "markdown",
   "id": "6e41d906-daa1-44aa-843c-541e4b6755ab",
   "metadata": {
    "editable": true,
    "slideshow": {
     "slide_type": "subslide"
    },
    "tags": []
   },
   "source": [
    "Давайте представим, что у нас уже есть проект с такой структурой. И он на самом деле есть, найти его можно [тут](https://github.com/macloo/python-adv-web-apps/tree/master/python_code_examples/flask/first_template_ex)"
   ]
  },
  {
   "cell_type": "raw",
   "id": "b327d7a6-d5e4-4010-a8c0-9ad90dd79285",
   "metadata": {
    "editable": true,
    "raw_mimetype": "",
    "slideshow": {
     "slide_type": "fragment"
    },
    "tags": []
   },
   "source": [
    "my-flask-app\n",
    "   ├── static/\n",
    "   │   └── css/\n",
    "   │       └── main.css\n",
    "   ├── templates/\n",
    "   │   ├── index.html\n",
    "   │   └── student.html\n",
    "   ├── data.py\n",
    "   └── students.py"
   ]
  },
  {
   "cell_type": "markdown",
   "id": "ceeca16b-5b00-4d85-a764-97c1b1dcf57f",
   "metadata": {
    "editable": true,
    "slideshow": {
     "slide_type": "subslide"
    },
    "tags": []
   },
   "source": [
    "В демо проекте предлагается сделать сайт, который содержит инфу о всех президентах США вот такого плана"
   ]
  },
  {
   "cell_type": "markdown",
   "id": "90a5a3db-82fe-45f2-91ed-258e57028a95",
   "metadata": {
    "editable": true,
    "slideshow": {
     "slide_type": "fragment"
    },
    "tags": []
   },
   "source": [
    "<img src=\"https://python-adv-web-apps.readthedocs.io/en/latest/_images/prespage.png\" alt=\"drawing\" width=\"400\"/>"
   ]
  },
  {
   "cell_type": "markdown",
   "id": "503b918b-746b-4c53-9241-c9beacf3356f",
   "metadata": {
    "editable": true,
    "slideshow": {
     "slide_type": "subslide"
    },
    "tags": []
   },
   "source": [
    "Вместо того, чтобы писать каждую страничку ручками, но при этом и не придумывать какой-то хитрой клиентской логики по притягиванию из api данных о президенте - у нас есть шаблонирование"
   ]
  },
  {
   "cell_type": "code",
   "execution_count": 46,
   "id": "ebd84842-3684-45b3-87b6-31c0fbd54d14",
   "metadata": {
    "editable": true,
    "slideshow": {
     "slide_type": "subslide"
    },
    "tags": []
   },
   "outputs": [
    {
     "data": {
      "text/plain": [
       "{'Presidency': '16',\n",
       " 'President': 'Abraham Lincoln',\n",
       " 'Wikipedia-entry': 'http://en.wikipedia.org/wiki/Abraham_Lincoln',\n",
       " 'Took-office': '3/4/1861',\n",
       " 'Left-office': '4/15/1865',\n",
       " 'Party': 'Republican/National Union',\n",
       " 'Home-state': 'Illinois',\n",
       " 'Occupation': 'Lawyer',\n",
       " 'College': 'None',\n",
       " 'Age-when-took-office': '52',\n",
       " 'Birth-date': '2/12/1809',\n",
       " 'Birthplace': 'LaRue County, Kentucky',\n",
       " 'Death-date': '4/15/1865',\n",
       " 'Location-death': 'Washington, D.C.',\n",
       " 'Image': 'pr16.jpg'}"
      ]
     },
     "execution_count": 46,
     "metadata": {},
     "output_type": "execute_result"
    }
   ],
   "source": [
    "{'Presidency': '16', 'President': 'Abraham Lincoln', 'Wikipedia-entry':\n",
    "   'http://en.wikipedia.org/wiki/Abraham_Lincoln', 'Took-office': '3/4/1861',\n",
    "   'Left-office': '4/15/1865', 'Party': 'Republican/National Union', 'Home-state':\n",
    "   'Illinois', 'Occupation': 'Lawyer', 'College': 'None', 'Age-when-took-office':\n",
    "   '52', 'Birth-date': '2/12/1809', 'Birthplace': 'LaRue County, Kentucky',\n",
    "   'Death-date': '4/15/1865', 'Location-death': 'Washington, D.C.', 'Image': 'pr16.jpg'}"
   ]
  },
  {
   "cell_type": "markdown",
   "id": "5be0c7f2-f433-4d51-8f7b-db9f46bc84fe",
   "metadata": {
    "editable": true,
    "slideshow": {
     "slide_type": "subslide"
    },
    "tags": []
   },
   "source": [
    "Пример шаблона, для этой страницы"
   ]
  },
  {
   "cell_type": "raw",
   "id": "0eafaad3-378b-4d0e-96aa-26b4ba2363ac",
   "metadata": {
    "editable": true,
    "raw_mimetype": "",
    "slideshow": {
     "slide_type": "fragment"
    },
    "tags": []
   },
   "source": [
    "<h1>{{ pres['President'] }}</h1>\n",
    "\n",
    "<p>{{ pres['President'] }}, the {{ ord }} president of the\n",
    "   United States, was born on {{ pres['Birth-date'] }}, in\n",
    "   {{ pres['Birthplace'] }}. He was {{ pres['Age-when-took-office'] }}\n",
    "   when he took office on {{ pres['Took-office'] }}. Member:\n",
    "    {{ pres['Party'] }} Party.</p>"
   ]
  },
  {
   "cell_type": "markdown",
   "id": "6be32801-12f3-4c45-bd3f-60e0cc5d64a6",
   "metadata": {
    "editable": true,
    "slideshow": {
     "slide_type": "subslide"
    },
    "tags": []
   },
   "source": [
    "Как это вообще происходит?"
   ]
  },
  {
   "cell_type": "code",
   "execution_count": null,
   "id": "87749cfa-ae38-46b5-aaf3-08cc92a257a1",
   "metadata": {
    "editable": true,
    "slideshow": {
     "slide_type": "fragment"
    },
    "tags": []
   },
   "outputs": [],
   "source": [
    "return render_template('president.html', pres=pres_dict,\n",
    "                       ord=ord, the_title=pres_dict['President'])"
   ]
  },
  {
   "cell_type": "markdown",
   "id": "242bd1f3-6e54-4497-8dfe-49422b897851",
   "metadata": {
    "editable": true,
    "slideshow": {
     "slide_type": "subslide"
    },
    "tags": []
   },
   "source": [
    "Если нужно воткнуть файл из локальной директории - используй `url_for`"
   ]
  },
  {
   "cell_type": "raw",
   "id": "99021996-e4d7-4c7c-82f5-9b9cdd995fd1",
   "metadata": {
    "editable": true,
    "raw_mimetype": "",
    "slideshow": {
     "slide_type": "fragment"
    },
    "tags": []
   },
   "source": [
    "<!DOCTYPE html>\n",
    "<html lang=\"en\">\n",
    "<head>\n",
    "    <meta charset=\"utf-8\">\n",
    "    <meta name=\"viewport\" content=\"width=device-width, initial-scale=1\">\n",
    "    <title>Hello HTML Templates</title>\n",
    "    <link rel=\"stylesheet\" href=\"{{ url_for('static', filename='main.css') }}\">\n",
    "</head>\n",
    "<body>\n",
    "\n",
    "<div>\n",
    "\n",
    "    <h1>Hello, {{ name }}!</h1>\n",
    "\n",
    "    <p>Change the name in the <em>browser address bar</em>\n",
    "        and reload the page.</p>\n",
    "\n",
    "</div>\n",
    "\n",
    "</body>\n",
    "</html>"
   ]
  },
  {
   "cell_type": "markdown",
   "id": "aaa2f836-d8fb-433e-bb88-c6eda2bb45ab",
   "metadata": {
    "editable": true,
    "slideshow": {
     "slide_type": "subslide"
    },
    "tags": []
   },
   "source": [
    "Дефакто весь код этого сервиса выглядит вот так"
   ]
  },
  {
   "cell_type": "code",
   "execution_count": null,
   "id": "e08bb13e-f97c-4bb1-b282-ac00c782f39b",
   "metadata": {
    "editable": true,
    "slideshow": {
     "slide_type": ""
    },
    "tags": []
   },
   "outputs": [],
   "source": [
    "from flask import Flask, render_template\n",
    "from modules import convert_to_dict, make_ordinal\n",
    "\n",
    "app = Flask(__name__)\n",
    "application = app\n",
    "\n",
    "# create a list of dicts from a CSV\n",
    "presidents_list = convert_to_dict(\"presidents.csv\")\n",
    "\n",
    "# create a list of tuples in which the first item is the number\n",
    "# (Presidency) and the second item is the name (President)\n",
    "pairs_list = []\n",
    "for p in presidents_list:\n",
    "    pairs_list.append( (p['Presidency'], p['President']) )\n",
    "\n",
    "# first route\n",
    "\n",
    "@app.route('/')\n",
    "def index():\n",
    "    return render_template('index.html', pairs=pairs_list, the_title=\"Presidents Index\")\n",
    "\n",
    "# second route\n",
    "\n",
    "@app.route('/president/<num>')\n",
    "def detail(num):\n",
    "    try:\n",
    "        pres_dict = presidents_list[int(num) - 1]\n",
    "    except:\n",
    "        return f\"<h1>Invalid value for Presidency: {num}</h1>\"\n",
    "    # a little bonus function, imported on line 2 above\n",
    "    ord = make_ordinal( int(num) )\n",
    "    return render_template('president.html', pres=pres_dict, ord=ord, the_title=pres_dict['President'])\n",
    "\n",
    "\n",
    "# keep this as is\n",
    "if __name__ == '__main__':\n",
    "    app.run(debug=True)"
   ]
  }
 ],
 "metadata": {
  "kernelspec": {
   "display_name": "Python 3 (ipykernel)",
   "language": "python",
   "name": "python3"
  },
  "language_info": {
   "codemirror_mode": {
    "name": "ipython",
    "version": 3
   },
   "file_extension": ".py",
   "mimetype": "text/x-python",
   "name": "python",
   "nbconvert_exporter": "python",
   "pygments_lexer": "ipython3",
   "version": "3.8.10"
  }
 },
 "nbformat": 4,
 "nbformat_minor": 5
}
