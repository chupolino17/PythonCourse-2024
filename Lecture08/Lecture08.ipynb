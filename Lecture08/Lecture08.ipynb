{
 "cells": [
  {
   "cell_type": "markdown",
   "id": "f1265294-c6aa-499e-a9f1-329571449e10",
   "metadata": {
    "editable": true,
    "slideshow": {
     "slide_type": "slide"
    },
    "tags": []
   },
   "source": [
    "# PYTHON 3\n",
    "\n",
    "## Lecture 08\n",
    "### Базы данных, SQL\n",
    "\n",
    "<img src=\"https://avatars.mds.yandex.net/get-entity_search/58808/261054429/S122x122Fit_2x\" align=\"right\" style=\"height: 200px;\"/>\n",
    "\n",
    "### Chupov Dmitrii\n",
    "\n",
    "\n",
    "MIPT 2024"
   ]
  },
  {
   "cell_type": "markdown",
   "id": "3dfbad0f-4c7e-45fa-a4ff-6417fba0939b",
   "metadata": {
    "editable": true,
    "slideshow": {
     "slide_type": "slide"
    },
    "tags": []
   },
   "source": [
    "## Реляционные базы данных"
   ]
  },
  {
   "cell_type": "markdown",
   "id": "c0b380a9-7f81-40d4-9103-089f894c9c76",
   "metadata": {
    "editable": true,
    "slideshow": {
     "slide_type": ""
    },
    "tags": []
   },
   "source": [
    "Реляционная база данных представляет собой набор связанных (двумерных) таблиц. \n",
    "\n",
    "Каждая из таблиц похожа на электронную таблицу Excel с фиксированным количеством именованных столбцов (атрибутов или свойств таблицы) и любым количеством строк данных."
   ]
  },
  {
   "cell_type": "markdown",
   "id": "dc5806f7-788e-47d3-83f0-4df4b67d4786",
   "metadata": {
    "editable": true,
    "slideshow": {
     "slide_type": "fragment"
    },
    "tags": []
   },
   "source": [
    "| Id | Make/Model        | # Wheels | # Doors | Type       |\n",
    "|----|-------------------|----------|---------|------------|\n",
    "| 1  | Ford Focus        | 4        | 4       | Sedan      |\n",
    "| 2  | Tesla Roadster    | 4        | 2       | Sports     |\n",
    "| 3  | Kawakasi Ninja    | 2        | 0       | Motorcycle |\n",
    "| 4  | McLaren Formula 1 | 4        | 0       | Race       |\n",
    "| 5  | Tesla S           | 4        | 4       | Sedan      |"
   ]
  },
  {
   "cell_type": "markdown",
   "id": "ebb365d3-0ddf-467e-a53b-a318725becfa",
   "metadata": {
    "editable": true,
    "slideshow": {
     "slide_type": "subslide"
    },
    "tags": []
   },
   "source": [
    "Изучая SQL, цель состоит в том, чтобы научиться отвечать на конкретные вопросы об этих данных, такие как __\"Какие типы транспортных средств, находящихся на дороге, имеют менее четырех колес?\"__ или __\"Сколько моделей автомобилей производит Tesla?\"__, чтобы помочь нам принимать более эффективные решения в будущем."
   ]
  },
  {
   "cell_type": "markdown",
   "id": "fad3e6e6-da31-43ca-8db9-039099d6c441",
   "metadata": {
    "editable": true,
    "slideshow": {
     "slide_type": "subslide"
    },
    "tags": []
   },
   "source": [
    "## Примеры"
   ]
  },
  {
   "cell_type": "markdown",
   "id": "54a9df9a-8e6f-4986-9989-8b8cda323054",
   "metadata": {
    "editable": true,
    "slideshow": {
     "slide_type": ""
    },
    "tags": []
   },
   "source": [
    "Реляционные базы данных — самые распространённые. Вот лишь самые популярные из них: Oracle, Microsoft SQL Server, PostgreSQL, MySQL. Такие базы данных обеспечивают построчное хранение данных в таблицах, что подразумевает строгую структуру данных."
   ]
  },
  {
   "cell_type": "markdown",
   "id": "93466dbc-d6b9-4fb1-809f-00a9fdd32286",
   "metadata": {
    "editable": true,
    "slideshow": {
     "slide_type": "subslide"
    },
    "tags": []
   },
   "source": [
    "## ACID"
   ]
  },
  {
   "cell_type": "markdown",
   "id": "a0409801-89f2-422e-9d9f-c483e8168ab8",
   "metadata": {},
   "source": [
    "__ACID (от англ. atomicity, consistency, isolation, durability)__ — набор требований к транзакционной системе, обеспечивающий наиболее надёжную и предсказуемую её работу — атомарность, согласованность, изоляция, устойчивость. Cформулированы в конце 1970-х годов Джимом Греем."
   ]
  },
  {
   "cell_type": "markdown",
   "id": "a7490629-b2ef-4524-94c0-e8fc46b5c2d6",
   "metadata": {
    "editable": true,
    "slideshow": {
     "slide_type": "fragment"
    },
    "tags": []
   },
   "source": [
    "___Атомарность___  - гарантирует, что никакая транзакция не будет зафиксирована в системе частично. "
   ]
  },
  {
   "cell_type": "markdown",
   "id": "b6d32ad8-53da-460a-bf20-af9ded30c3b0",
   "metadata": {
    "editable": true,
    "slideshow": {
     "slide_type": "fragment"
    },
    "tags": []
   },
   "source": [
    "___Консистеность___ - транзакция, достигающая своего нормального завершения и тем самым фиксирующая свои результаты, сохраняет согласованность базы данных."
   ]
  },
  {
   "cell_type": "markdown",
   "id": "bcc07901-a2e5-48be-8534-d03ff42529f1",
   "metadata": {
    "editable": true,
    "slideshow": {
     "slide_type": "fragment"
    },
    "tags": []
   },
   "source": [
    "___Изоляция___ - во время выполнения транзакции параллельные транзакции не должны оказывать влияния на её результат. Изолированность — требование дорогое, поэтому в реальных базах данных существуют режимы, не полностью изолирующие транзакцию (уровни изолированности, допускающие фантомное чтение)."
   ]
  },
  {
   "cell_type": "markdown",
   "id": "7081e2f8-02eb-4591-a284-68b0f632a307",
   "metadata": {
    "editable": true,
    "slideshow": {
     "slide_type": "fragment"
    },
    "tags": []
   },
   "source": [
    "___Устойчивость___ - независимо от проблем на нижних уровнях (к примеру, обесточивание системы или сбои в оборудовании) изменения, сделанные успешно завершённой транзакцией, должны остаться сохранёнными после возвращения системы в работу."
   ]
  },
  {
   "cell_type": "markdown",
   "id": "39483242-f29a-4c6e-b441-d7b9c2b50b95",
   "metadata": {
    "editable": true,
    "slideshow": {
     "slide_type": "slide"
    },
    "tags": []
   },
   "source": [
    "## Что такое SQL?"
   ]
  },
  {
   "cell_type": "markdown",
   "id": "36a6ccd4-f73d-46dd-ae35-f90d29acf1d5",
   "metadata": {
    "editable": true,
    "slideshow": {
     "slide_type": ""
    },
    "tags": []
   },
   "source": [
    "SQL, или язык структурированных запросов, - это язык, разработанный для того, чтобы позволить как техническим, так и нетехническим пользователям запрашивать, манипулировать и преобразовывать данные из реляционной базы данных. А благодаря своей простоте базы данных SQL обеспечивают безопасное и масштабируемое хранилище для миллионов веб-сайтов и мобильных приложений."
   ]
  },
  {
   "cell_type": "markdown",
   "id": "6e57d7ee-dd34-4568-b133-0e3ec09ca5a9",
   "metadata": {
    "editable": true,
    "slideshow": {
     "slide_type": "slide"
    },
    "tags": []
   },
   "source": [
    "### SQL чтение (EASY)"
   ]
  },
  {
   "cell_type": "markdown",
   "id": "b25771c7-b27d-4e3a-a853-f745a4b9aa93",
   "metadata": {
    "editable": true,
    "slideshow": {
     "slide_type": "subslide"
    },
    "tags": []
   },
   "source": [
    "#### SELECT"
   ]
  },
  {
   "cell_type": "markdown",
   "id": "eaa55721-d4b0-49b7-a4a2-b8fd42c8cd62",
   "metadata": {
    "editable": true,
    "slideshow": {
     "slide_type": ""
    },
    "tags": []
   },
   "source": [
    "Чтобы извлечь данные из базы данных SQL, нам нужно написать инструкции SELECT, которые часто в разговорной речи называются запросами. "
   ]
  },
  {
   "cell_type": "markdown",
   "id": "431b401d-e93d-4136-bab9-35d4e8693991",
   "metadata": {
    "editable": true,
    "slideshow": {
     "slide_type": "fragment"
    },
    "tags": []
   },
   "source": [
    "Например, чтобы получить все строчки колон _column_, _another_column_ стоит выполнить этот запрос"
   ]
  },
  {
   "cell_type": "code",
   "execution_count": null,
   "id": "b85e6e61-96ba-44b4-aaf2-a57f20d5c4cc",
   "metadata": {
    "editable": true,
    "raw_mimetype": "",
    "slideshow": {
     "slide_type": ""
    },
    "tags": []
   },
   "outputs": [],
   "source": [
    "SELECT column, another_column\n",
    "FROM mytable;"
   ]
  },
  {
   "cell_type": "markdown",
   "id": "81cfe1b5-8090-450e-a0ff-4b4e4a6908fe",
   "metadata": {
    "editable": true,
    "slideshow": {
     "slide_type": "fragment"
    },
    "tags": []
   },
   "source": [
    "Так, например, можно получить все колонки"
   ]
  },
  {
   "cell_type": "code",
   "execution_count": null,
   "id": "abc72db3-6b27-4c67-ac92-d1088d914382",
   "metadata": {
    "editable": true,
    "raw_mimetype": "",
    "slideshow": {
     "slide_type": ""
    },
    "tags": []
   },
   "outputs": [],
   "source": [
    "SELECT *\n",
    "FROM mytable;"
   ]
  },
  {
   "cell_type": "markdown",
   "id": "5aa1f1ac-8747-459f-80de-f8a29e2fcacb",
   "metadata": {
    "editable": true,
    "slideshow": {
     "slide_type": "fragment"
    },
    "tags": []
   },
   "source": [
    "Ежели вам нужны только уникальные строчки, то вы можете применить DISTINCT"
   ]
  },
  {
   "cell_type": "code",
   "execution_count": null,
   "id": "a632a1d1-6084-45ee-88d2-8e01d1e20aa4",
   "metadata": {
    "editable": true,
    "slideshow": {
     "slide_type": ""
    },
    "tags": []
   },
   "outputs": [],
   "source": [
    "SELECT DISTINCT column, another_column\n",
    "FROM mytable;"
   ]
  },
  {
   "cell_type": "markdown",
   "id": "d81964d4-50b8-40a9-866d-5665e32fd3b5",
   "metadata": {
    "editable": true,
    "slideshow": {
     "slide_type": "subslide"
    },
    "tags": []
   },
   "source": [
    "#### WHERE"
   ]
  },
  {
   "cell_type": "markdown",
   "id": "11babf4e-f040-4d2d-984b-0bb5daba0909",
   "metadata": {},
   "source": [
    "Чтобы отфильтровать возвращаемые определенные результаты, нам нужно использовать предложение WHERE в запросе. Предложение применяется к каждой строке данных путем проверки определенных значений столбца, чтобы определить, следует ли его включать в результаты или нет."
   ]
  },
  {
   "cell_type": "code",
   "execution_count": null,
   "id": "92e00801-cdcb-4ede-8bd2-14e926279575",
   "metadata": {
    "editable": true,
    "raw_mimetype": "",
    "slideshow": {
     "slide_type": ""
    },
    "tags": []
   },
   "outputs": [],
   "source": [
    "SELECT column, another_column, ...\n",
    "FROM mytable\n",
    "WHERE condition\n",
    "    AND/OR another_condition\n",
    "    AND/OR ...;"
   ]
  },
  {
   "cell_type": "markdown",
   "id": "4441cbe0-3520-4f77-9fd0-415fd36fb1e2",
   "metadata": {
    "editable": true,
    "slideshow": {
     "slide_type": "subslide"
    },
    "tags": []
   },
   "source": [
    "Базовые и простые формы условий. Все работают на числах"
   ]
  },
  {
   "cell_type": "markdown",
   "id": "6a85d37c-f2a4-4ffa-a0af-3f2776fab71b",
   "metadata": {},
   "source": [
    "|       Operator      | Condition                                            | SQL Example                  |\n",
    "|:-------------------:|------------------------------------------------------|------------------------------|\n",
    "|  =, !=, < <=, >, >= | Standard numerical operators                         | col_name != 4                |\n",
    "|   BETWEEN … AND …   | Number is within range of two values (inclusive)     | col_name BETWEEN 1.5 AND10.5 |\n",
    "| NOT BETWEEN … AND … | Number is not within range of two values (inclusive) | col_name NOT BETWEEN 1 AND10 |\n",
    "|        IN (…)       | Number exists in a list                              | col_name IN (2, 4, 6)        |\n",
    "|      NOT IN (…)     | Number does not exist in a list                      | col_name NOT IN (1, 3, 5)    |"
   ]
  },
  {
   "cell_type": "markdown",
   "id": "cb14b5c5-c94e-4ae4-b012-86b222caa96d",
   "metadata": {
    "editable": true,
    "slideshow": {
     "slide_type": "subslide"
    },
    "tags": []
   },
   "source": [
    "Более хитровыдуманные формы условий. Работают на строках"
   ]
  },
  {
   "cell_type": "markdown",
   "id": "9d9ad414-2012-40a9-8ae0-c0a818c35200",
   "metadata": {},
   "source": [
    "|                    Operator                   | Condition                                                                                             | Example                         |\n",
    "|:---------------------------------------------:|-------------------------------------------------------------------------------------------------------|---------------------------------|\n",
    "|                       =                       | Case sensitive exact string comparison (notice the single equals)                                     | col_name = \"abc\"                |\n",
    "|                    != or <>                   | Case sensitive exact string inequality comparison                                                     | col_name != \"abcd\"              |\n",
    "|                      LIKE                     | Case insensitive exact string comparison                                                              | col_name LIKE \"ABC\"             |\n",
    "|                    NOT LIKE                   | Case insensitive exact string inequality comparison                                                   | col_name NOT LIKE \"ABCD\"        |\n",
    "|                       %                       | Used anywhere in a string to match a sequence of zero or more characters (only with LIKE or NOT LIKE) | col_name LIKE \"%AT%\" (matches \"AT\", \"ATTIC\", \"CAT\" or even \"BATS\")            |\n",
    "| _                                             | Used anywhere in a string to match a single character (only with LIKE or NOT LIKE)                    | col_name LIKE \"AN_\" (matches \"AND\", but not \"AN\")            |\n",
    "| IN (…)                                        | String exists in a list                                                                               | col_name IN (\"A\", \"B\", \"C\")     |\n",
    "| NOT IN (…)                                    | String does not exist in a list                                                                       | col_name NOT IN (\"D\", \"E\", \"F\") |\n"
   ]
  },
  {
   "cell_type": "markdown",
   "id": "b5f19000-baa4-4a99-b30d-98966e2b8ac1",
   "metadata": {
    "editable": true,
    "slideshow": {
     "slide_type": "subslide"
    },
    "tags": []
   },
   "source": [
    "Так же вы можете добавлять сюда условия "
   ]
  },
  {
   "cell_type": "code",
   "execution_count": null,
   "id": "617e0e7d-1c84-4d50-afe9-a9df4d4b7213",
   "metadata": {
    "editable": true,
    "raw_mimetype": "",
    "slideshow": {
     "slide_type": ""
    },
    "tags": []
   },
   "outputs": [],
   "source": [
    "SELECT particle_speed / 2.0 AS half_particle_speed,\n",
    "    particles_speed > 0 as direction\n",
    "FROM physics_data\n",
    "WHERE ABS(particle_position) * 10.0 > 500;"
   ]
  },
  {
   "cell_type": "markdown",
   "id": "67e14954-acab-4637-9109-9a2cdd8ff0db",
   "metadata": {
    "editable": true,
    "slideshow": {
     "slide_type": "subslide"
    },
    "tags": []
   },
   "source": [
    "#### ORDER BY"
   ]
  },
  {
   "cell_type": "markdown",
   "id": "ebbc0be5-4dcf-48f5-a24c-3c241c7673da",
   "metadata": {},
   "source": [
    "SQL предоставляет способ сортировки результатов по заданному столбцу в порядке возрастания или убывания, используя предложение ORDER BY."
   ]
  },
  {
   "cell_type": "code",
   "execution_count": null,
   "id": "f8289d85-807d-41b4-8fbf-e08bf85dddb9",
   "metadata": {
    "editable": true,
    "raw_mimetype": "",
    "slideshow": {
     "slide_type": ""
    },
    "tags": []
   },
   "outputs": [],
   "source": [
    "SELECT column, another_column, …\n",
    "FROM mytable\n",
    "WHERE condition(s)\n",
    "ORDER BY column ASC/DESC, another_column ASC/DESC;"
   ]
  },
  {
   "cell_type": "markdown",
   "id": "d0d99845-9b11-4eb8-89a0-5867507c1674",
   "metadata": {
    "editable": true,
    "slideshow": {
     "slide_type": ""
    },
    "tags": []
   },
   "source": [
    "Когда указано предложение ORDER BY, каждая строка сортируется в алфавитно-цифровом порядке на основе значения указанного столбца. В некоторых базах данных вы также можете указать параметры сортировки для лучшей сортировки данных, содержащих международный текст."
   ]
  },
  {
   "cell_type": "markdown",
   "id": "adea0fe5-aec4-4923-82c2-ec452fe64d95",
   "metadata": {
    "editable": true,
    "slideshow": {
     "slide_type": "subslide"
    },
    "tags": []
   },
   "source": [
    "#### LIMIT"
   ]
  },
  {
   "cell_type": "markdown",
   "id": "876766b4-480a-498b-b0ac-c092272cff4d",
   "metadata": {},
   "source": [
    "Другим предложением, которое обычно используется с предложением ORDER BY, являются предложения LIMIT и OFFSET, которые являются полезной оптимизацией для указания базе данных подмножества результатов, которые вас интересуют."
   ]
  },
  {
   "cell_type": "code",
   "execution_count": null,
   "id": "80bd8e74-86dc-4058-9c04-101b127d4cbb",
   "metadata": {
    "editable": true,
    "raw_mimetype": "",
    "slideshow": {
     "slide_type": ""
    },
    "tags": []
   },
   "outputs": [],
   "source": [
    "SELECT column, another_column, …\n",
    "FROM mytable\n",
    "WHERE condition(s)\n",
    "ORDER BY column ASC/DESC\n",
    "LIMIT num_limit OFFSET num_offset;"
   ]
  },
  {
   "cell_type": "markdown",
   "id": "b9d9c4c6-0861-4825-95bb-9c1151f1d2ff",
   "metadata": {},
   "source": [
    "LIMIT уменьшит количество возвращаемых строк, а необязательное OFFSET укажет, с чего начинать подсчет количества строк."
   ]
  },
  {
   "cell_type": "markdown",
   "id": "2f92b58a-93fa-4f05-a5eb-0aeff6070ca2",
   "metadata": {
    "editable": true,
    "slideshow": {
     "slide_type": "slide"
    },
    "tags": []
   },
   "source": [
    "### SQL чтение (EASY+)"
   ]
  },
  {
   "cell_type": "markdown",
   "id": "6bad9b54-eaa4-453d-b5d3-746f858c5d0b",
   "metadata": {
    "editable": true,
    "slideshow": {
     "slide_type": "subslide"
    },
    "tags": []
   },
   "source": [
    "#### JOIN"
   ]
  },
  {
   "cell_type": "markdown",
   "id": "24db0591-3193-43be-a380-f29399394359",
   "metadata": {
    "editable": true,
    "slideshow": {
     "slide_type": ""
    },
    "tags": []
   },
   "source": [
    "Используя предложение JOIN в запросе, мы можем объединить данные строк в двух отдельных таблицах, используя некоторое условие объединения."
   ]
  },
  {
   "cell_type": "markdown",
   "id": "d03473f0-b0ba-4953-8f80-b9c7a4a5bd28",
   "metadata": {
    "editable": true,
    "slideshow": {
     "slide_type": "subslide"
    },
    "tags": []
   },
   "source": [
    "![sql joins](https://www.codeproject.com/KB/database/Visual_SQL_Joins/Visual_SQL_JOINS_V2.png)"
   ]
  },
  {
   "cell_type": "markdown",
   "id": "e43ae6b5-9b01-423a-9582-bf9c1c5c8872",
   "metadata": {
    "editable": true,
    "slideshow": {
     "slide_type": "subslide"
    },
    "tags": []
   },
   "source": [
    "Пример запроса с JOIN:"
   ]
  },
  {
   "cell_type": "code",
   "execution_count": null,
   "id": "7efcf9b5-548e-4b5f-9659-5d64b06de6c7",
   "metadata": {
    "editable": true,
    "raw_mimetype": "",
    "slideshow": {
     "slide_type": ""
    },
    "tags": []
   },
   "outputs": [],
   "source": [
    "SELECT column, another_table_column, …\n",
    "FROM mytable\n",
    "INNER JOIN another_table\n",
    "    ON mytable.id = another_table.id\n",
    "WHERE condition(s)\n",
    "ORDER BY column, … ASC/DESC\n",
    "LIMIT num_limit OFFSET num_offset;"
   ]
  },
  {
   "cell_type": "markdown",
   "id": "20d63275-758c-44c9-be6a-c38f58fd7758",
   "metadata": {
    "editable": true,
    "slideshow": {
     "slide_type": "subslide"
    },
    "tags": []
   },
   "source": [
    "#### Агрегации"
   ]
  },
  {
   "cell_type": "markdown",
   "id": "4dc51bc1-2312-4e02-9412-c6ca28e8db5e",
   "metadata": {
    "editable": true,
    "slideshow": {
     "slide_type": ""
    },
    "tags": []
   },
   "source": [
    "SQL также поддерживает использование агрегационных выражений (или функций), которые позволяют суммировать информацию о группе строк данных."
   ]
  },
  {
   "cell_type": "code",
   "execution_count": null,
   "id": "40708511-f50e-4c51-98e3-e775380ddd19",
   "metadata": {
    "editable": true,
    "raw_mimetype": "",
    "slideshow": {
     "slide_type": ""
    },
    "tags": []
   },
   "outputs": [],
   "source": [
    "SELECT AGG_FUNC(column_or_expression) AS aggregate_description, …\n",
    "FROM mytable\n",
    "WHERE constraint_expression;"
   ]
  },
  {
   "cell_type": "markdown",
   "id": "5209356c-0b22-497e-a30a-cef7d6108521",
   "metadata": {
    "editable": true,
    "slideshow": {
     "slide_type": "subslide"
    },
    "tags": []
   },
   "source": [
    "| Function                | Description                                                                                                                                                                                     |\n",
    "|-------------------------|-------------------------------------------------------------------------------------------------------------------------------------------------------------------------------------------------|\n",
    "| COUNT(*), COUNT(column) | A common function used to counts the number of rows in the group if no column name is specified. Otherwise, count the number of rows in the group with non-NULL values in the specified column. |\n",
    "| MIN(column)             | Finds the smallest numerical value in the specified column for all rows in the group.                                                                                                           |\n",
    "| MAX(column)             | Finds the largest numerical value in the specified column for all rows in the group.                                                                                                            |\n",
    "| AVG(column)             | Finds the average numerical value in the specified column for all rows in the group.                                                                                                            |\n",
    "| SUM(column)             | Finds the sum of all numerical values in the specified column for the rows in the group.                                                                                                        |"
   ]
  },
  {
   "cell_type": "markdown",
   "id": "5d1a7085-a0cc-4e77-b93a-a33b56e062ac",
   "metadata": {
    "editable": true,
    "slideshow": {
     "slide_type": "subslide"
    },
    "tags": []
   },
   "source": [
    "#### GROUP BY"
   ]
  },
  {
   "cell_type": "markdown",
   "id": "eec59f50-526b-4edd-b9fc-7088666c4856",
   "metadata": {},
   "source": [
    "В дополнение к агрегированию по всем строкам, вы можете вместо этого применить агрегатные функции к отдельным группам данных внутри этой группы (например, кассовые сборы комедий против боевиков)."
   ]
  },
  {
   "cell_type": "code",
   "execution_count": null,
   "id": "63297f9d-5b51-46a3-995b-02fe150e42e1",
   "metadata": {
    "editable": true,
    "raw_mimetype": "",
    "slideshow": {
     "slide_type": ""
    },
    "tags": []
   },
   "outputs": [],
   "source": [
    "SELECT AGG_FUNC(column_or_expression) AS aggregate_description, column, …\n",
    "FROM mytable\n",
    "WHERE constraint_expression\n",
    "GROUP BY column;"
   ]
  },
  {
   "cell_type": "markdown",
   "id": "b220d07b-0a30-4baa-a885-7002a095e4ae",
   "metadata": {
    "editable": true,
    "slideshow": {
     "slide_type": "subslide"
    },
    "tags": []
   },
   "source": [
    "#### HAVING"
   ]
  },
  {
   "cell_type": "markdown",
   "id": "8a10275e-6f07-469f-b0e4-b814422ecfde",
   "metadata": {
    "editable": true,
    "slideshow": {
     "slide_type": ""
    },
    "tags": []
   },
   "source": [
    "GROUP BY выполняется после WHERE, поэтому чтобы отфильтровать значения после группировки, нужно применить слово HAVING"
   ]
  },
  {
   "cell_type": "code",
   "execution_count": null,
   "id": "b515ecc5-dd9f-4440-8667-c18f27dddc80",
   "metadata": {
    "editable": true,
    "raw_mimetype": "",
    "slideshow": {
     "slide_type": ""
    },
    "tags": []
   },
   "outputs": [],
   "source": [
    "SELECT group_by_column, AGG_FUNC(column_expression) AS aggregate_result_alias, …\n",
    "FROM mytable\n",
    "WHERE condition\n",
    "GROUP BY column\n",
    "HAVING group_condition;"
   ]
  },
  {
   "cell_type": "markdown",
   "id": "9133d08e-ade1-4c72-97f7-ee30ae761185",
   "metadata": {
    "editable": true,
    "slideshow": {
     "slide_type": "slide"
    },
    "tags": []
   },
   "source": [
    "### SQL запись/изменение"
   ]
  },
  {
   "cell_type": "markdown",
   "id": "932ece04-7ff9-4bf9-a89b-4ee6d5be5880",
   "metadata": {
    "editable": true,
    "slideshow": {
     "slide_type": "subslide"
    },
    "tags": []
   },
   "source": [
    "#### Схема бд"
   ]
  },
  {
   "cell_type": "markdown",
   "id": "0962b062-217e-49ba-87c9-acea1c01f3c1",
   "metadata": {},
   "source": [
    "В SQL схема базы данных - это то, что описывает структуру каждой таблицы и типы данных, которые может содержать каждый столбец таблицы.\n",
    "\n",
    "| Id | Make/Model        | # Wheels | # Doors | Type       |\n",
    "|----|-------------------|----------|---------|------------|\n",
    "| 1  | Ford Focus        | 4        | 4       | Sedan      |\n",
    "| 2  | Tesla Roadster    | 4        | 2       | Sports     |\n",
    "| 3  | Kawakasi Ninja    | 2        | 0       | Motorcycle |\n",
    "| 4  | McLaren Formula 1 | 4        | 0       | Race       |\n",
    "| 5  | Tesla S           | 4        | 4       | Sedan      |\n"
   ]
  },
  {
   "cell_type": "markdown",
   "id": "d65a165b-e519-4279-b47a-8a5ea6e903f2",
   "metadata": {},
   "source": [
    "> Например, в таблице выше, __Model__ - это string, __Wheels__ - integer..."
   ]
  },
  {
   "cell_type": "markdown",
   "id": "804b3588-366a-40c1-b0f5-c2e6156f03b8",
   "metadata": {},
   "source": [
    "Эта фиксированная структура - это то, что позволяет базе данных быть эффективной и непротиворечивой, несмотря на хранение миллионов или даже миллиардов строк."
   ]
  },
  {
   "cell_type": "markdown",
   "id": "fa6d92d7-7863-4650-9fc9-5cc1f1592d4e",
   "metadata": {
    "editable": true,
    "slideshow": {
     "slide_type": "subslide"
    },
    "tags": []
   },
   "source": [
    "#### INSERT"
   ]
  },
  {
   "cell_type": "markdown",
   "id": "a1bc90cf-3b8c-4bc9-b343-a5b3c16f3ce8",
   "metadata": {},
   "source": [
    "При вставке данных в базу данных нам нужно использовать инструкцию INSERT, которая объявляет, в какую таблицу производить запись, столбцы данных, которые мы заполняем, и одну или несколько строк данных для вставки."
   ]
  },
  {
   "cell_type": "code",
   "execution_count": null,
   "id": "f8ea8c63-011b-46b4-aa4e-7f4aaadd09a2",
   "metadata": {
    "editable": true,
    "raw_mimetype": "",
    "slideshow": {
     "slide_type": ""
    },
    "tags": []
   },
   "outputs": [],
   "source": [
    "INSERT INTO mytable\n",
    "VALUES (value_or_expr, another_value_or_expr, …),\n",
    "       (value_or_expr_2, another_value_or_expr_2, …),\n",
    "       …;"
   ]
  },
  {
   "cell_type": "markdown",
   "id": "aa0dca45-f59b-4eb6-9fea-db8a773edfb3",
   "metadata": {
    "editable": true,
    "slideshow": {
     "slide_type": "fragment"
    },
    "tags": []
   },
   "source": [
    "Так же мы можем добавлять в таблицу строку не со всеми полями, а только с теми, что можем, остальные заполнятся NULL"
   ]
  },
  {
   "cell_type": "code",
   "execution_count": null,
   "id": "abc1eb05-6f89-4756-a1cd-48c6fff4f3e6",
   "metadata": {
    "editable": true,
    "raw_mimetype": "",
    "slideshow": {
     "slide_type": ""
    },
    "tags": []
   },
   "outputs": [],
   "source": [
    "INSERT INTO mytable\n",
    "(column, another_column, …)\n",
    "VALUES (value_or_expr, another_value_or_expr, …),\n",
    "      (value_or_expr_2, another_value_or_expr_2, …),\n",
    "      …;"
   ]
  },
  {
   "cell_type": "markdown",
   "id": "dde9836d-814b-420f-8362-88ba3c615eeb",
   "metadata": {
    "editable": true,
    "slideshow": {
     "slide_type": "subslide"
    },
    "tags": []
   },
   "source": [
    "#### UPDATE"
   ]
  },
  {
   "cell_type": "markdown",
   "id": "e192121b-4b0b-46c7-b09a-b1a16c20897f",
   "metadata": {},
   "source": [
    "В дополнение к добавлению новых данных, распространенной задачей является обновление существующих данных, что можно сделать с помощью инструкции UPDATE. Аналогично инструкции INSERT, вы должны точно указать, какую таблицу, столбцы и строки следует обновить. Кроме того, данные, которые вы обновляете, должны соответствовать типу данных столбцов в схеме таблицы."
   ]
  },
  {
   "cell_type": "code",
   "execution_count": null,
   "id": "f782a4a0-1214-4754-a474-d3f53234687d",
   "metadata": {
    "editable": true,
    "raw_mimetype": "",
    "slideshow": {
     "slide_type": ""
    },
    "tags": []
   },
   "outputs": [],
   "source": [
    "UPDATE mytable\n",
    "SET column = value_or_expr,\n",
    "    other_column = another_value_or_expr,\n",
    "    …\n",
    "WHERE condition;"
   ]
  },
  {
   "cell_type": "markdown",
   "id": "c33f8065-647c-4567-981f-7e9b0f88a76c",
   "metadata": {
    "editable": true,
    "slideshow": {
     "slide_type": "subslide"
    },
    "tags": []
   },
   "source": [
    "#### DELETE"
   ]
  },
  {
   "cell_type": "markdown",
   "id": "c89174e6-7b10-4849-80b0-43febc1c1145",
   "metadata": {},
   "source": [
    "Когда вам нужно удалить данные из таблицы в базе данных, вы можете использовать оператор DELETE, который описывает таблицу, с которой нужно выполнить действие, и строки таблицы для удаления с помощью предложения WHERE."
   ]
  },
  {
   "cell_type": "code",
   "execution_count": null,
   "id": "23226471-df6a-4c35-ac04-3ebb1d4ef553",
   "metadata": {
    "editable": true,
    "raw_mimetype": "",
    "slideshow": {
     "slide_type": ""
    },
    "tags": []
   },
   "outputs": [],
   "source": [
    "DELETE FROM mytable\n",
    "WHERE condition;"
   ]
  },
  {
   "cell_type": "markdown",
   "id": "517e8b64-7325-4d13-a3f4-0e33a9b379ff",
   "metadata": {
    "editable": true,
    "slideshow": {
     "slide_type": "subslide"
    },
    "tags": []
   },
   "source": [
    "#### CREATE TABLE"
   ]
  },
  {
   "cell_type": "markdown",
   "id": "853ba402-a569-42da-ab39-515c800c313c",
   "metadata": {},
   "source": [
    "Когда у вас есть новые сущности и связи для хранения в вашей базе данных, вы можете создать новую таблицу базы данных, используя инструкцию CREATE TABLE."
   ]
  },
  {
   "cell_type": "code",
   "execution_count": null,
   "id": "f3c06bca-4caa-44fa-8da1-8b8e73b96e94",
   "metadata": {
    "editable": true,
    "raw_mimetype": "",
    "slideshow": {
     "slide_type": ""
    },
    "tags": []
   },
   "outputs": [],
   "source": [
    "CREATE TABLE IF NOT EXISTS mytable (\n",
    "    column DataType TableConstraint DEFAULT default_value,\n",
    "    another_column DataType TableConstraint DEFAULT default_value,\n",
    "    …\n",
    ");"
   ]
  },
  {
   "cell_type": "markdown",
   "id": "fb4911e0-b750-4233-b6b6-c37d05219fd6",
   "metadata": {},
   "source": [
    "Если таблица с таким же именем уже существует, реализация SQL обычно выдает ошибку, поэтому, чтобы подавить ошибку и пропустить создание таблицы, если она существует, вы можете использовать предложение IF NOT EXISTS."
   ]
  },
  {
   "cell_type": "markdown",
   "id": "b76c3cb9-a9fb-4af7-b325-6549183d1dee",
   "metadata": {
    "editable": true,
    "slideshow": {
     "slide_type": "subslide"
    },
    "tags": []
   },
   "source": [
    "##### Типы данных"
   ]
  },
  {
   "cell_type": "markdown",
   "id": "ccecb469-8fa4-4a34-aa8c-22870a96024e",
   "metadata": {
    "editable": true,
    "slideshow": {
     "slide_type": ""
    },
    "tags": []
   },
   "source": [
    "| Тип данных | Описание |\n",
    "|------------------------------------------------|-------------------------------------------------------------------------------------------------------------------------------------------------------------------------------------------------------------------------------------------------------------------------------------------------------------------------------------------------------------------------------------------------------------------------------------------------|\n",
    "| INTEGER, BOOLEAN | Целочисленные типы. В некоторых реализациях логическое значение просто представляется в виде целого значения, равного всего 0 или 1. |\n",
    "| FLOAT, DOUBLE, REAL | Типы данных с плавающей запятой. Могут использоваться различные типы в зависимости от точности с плавающей запятой, требуемой для этого значения. |\n",
    "| CHARACTER(num_chars), VARCHAR(num_chars), TEXT | Текстовые типы данных могут хранить строки и текст во всех видах локалей. Различие между различными типами, как правило, сводится к повышению эффективности базы данных при работе с этими столбцами. Как типы CHARACTER, так и VARCHAR указаны с максимальным количеством символов, которые они могут хранить (более длинные значения могут быть усечены), поэтому может быть более эффективно хранить и запрашивать с помощью больших таблиц. |\n",
    "| DATE, DATETIME | SQL также может хранить метки даты и времени для отслеживания временных рядов и данных о событиях.|\n",
    "| BLOB | Наконец, SQL может хранить двоичные данные в виде больших двоичных объектов прямо в базе данных. Эти значения часто непрозрачны для базы данных, поэтому вам обычно приходится хранить их с нужными метаданными, чтобы запросить их. |"
   ]
  },
  {
   "cell_type": "markdown",
   "id": "6055bf9f-d22e-4d11-a426-c3b4068be976",
   "metadata": {
    "editable": true,
    "slideshow": {
     "slide_type": "subslide"
    },
    "tags": []
   },
   "source": [
    "##### Ограничения на поля"
   ]
  },
  {
   "cell_type": "markdown",
   "id": "6b42f72b-2cb7-4cf9-a2b1-98bf32545575",
   "metadata": {},
   "source": [
    "Каждый столбец может иметь дополнительные табличные ограничения, которые ограничивают количество значений, которые могут быть вставлены в этот столбец. Это неполный список, но он покажет несколько распространенных ограничений, которые могут оказаться полезными."
   ]
  },
  {
   "cell_type": "markdown",
   "id": "e9543f01-68c4-49c8-89d7-9ac24534b630",
   "metadata": {
    "editable": true,
    "slideshow": {
     "slide_type": "subslide"
    },
    "tags": []
   },
   "source": [
    "| Ограничение | Описание |\n",
    "|--------------------|------------------------------------------------------------------------------------------------------------------------------------------------------------------------------------------------------------------------------------------------------------------------------------------------------------------------------------------------------------------------------------------|\n",
    "| PRIMARY KEY | Это означает, что значения в этом столбце уникальны, и каждое значение может быть использовано для идентификации одной строки в этой таблице. |\n",
    "| AUTOINCREMENT | Для целочисленных значений это означает, что значение автоматически заполняется и увеличивается с каждой вставкой строки. Поддерживается не во всех базах данных. |\n",
    "| UNIQUE | Это означает, что значения в этом столбце должны быть уникальными, поэтому вы не можете вставить другую строку с тем же значением в этот столбец, что и в другую строку таблицы. Отличается от `PRIMARY KEY` тем, что он не обязательно должен быть ключом для строки в таблице. |\n",
    "| NOT NULL | Это означает, что вставленное значение не может быть `NULL`. |\n",
    "| CHECK (выражение) | Это позволяет вам запустить более сложное выражение, чтобы проверить, являются ли вставленные значения допустимыми. Например, вы можете проверить, являются ли значения положительными, или больше определенного размера, или начинаются с определенного префикса и т.д. |\n",
    "| FOREIGN KEY | Это проверка согласованности, которая гарантирует, что каждое значение в этом столбце соответствует другому значению в столбце другой таблицы. Например, если есть две таблицы, в одной из которых перечислены все сотрудники по идентификаторам, а в другой - информация об их заработной плате, `FOREIGN KEY` может гарантировать, что каждая строка в таблице заработной платы соответствует действительному сотруднику в главном списке сотрудников. |"
   ]
  },
  {
   "cell_type": "markdown",
   "id": "e6377061-a0a2-4766-bb6d-292c693706e5",
   "metadata": {
    "editable": true,
    "slideshow": {
     "slide_type": "subslide"
    },
    "tags": []
   },
   "source": [
    "Пример схемы: "
   ]
  },
  {
   "cell_type": "code",
   "execution_count": null,
   "id": "4d9dfd68-e835-4151-bdb9-ea1b6ac1d8db",
   "metadata": {
    "editable": true,
    "raw_mimetype": "",
    "slideshow": {
     "slide_type": ""
    },
    "tags": []
   },
   "outputs": [],
   "source": [
    "CREATE TABLE movies (\n",
    "    id INTEGER PRIMARY KEY,\n",
    "    title TEXT,\n",
    "    director TEXT,\n",
    "    year INTEGER,\n",
    "    length_minutes INTEGER\n",
    ");"
   ]
  },
  {
   "cell_type": "markdown",
   "id": "25cc9275-c562-457e-bd4d-e1d2a499c33c",
   "metadata": {
    "editable": true,
    "slideshow": {
     "slide_type": "subslide"
    },
    "tags": []
   },
   "source": [
    "#### ALTER TABLE"
   ]
  },
  {
   "cell_type": "markdown",
   "id": "ff9c4845-7f59-4225-8ba0-6cc9101bbf9d",
   "metadata": {
    "editable": true,
    "slideshow": {
     "slide_type": "fragment"
    },
    "tags": []
   },
   "source": [
    "##### ADD"
   ]
  },
  {
   "cell_type": "markdown",
   "id": "68a25095-91f0-4706-ad3c-ff72764a4600",
   "metadata": {},
   "source": [
    "Для добавления столбца вам необходимо указать тип данных столбца вместе с любыми потенциальными ограничениями таблицы и значениями по умолчанию, которые будут применяться как к существующим, так и к новым строкам."
   ]
  },
  {
   "cell_type": "code",
   "execution_count": null,
   "id": "3ed4756a-f97a-4def-b9d3-2d09ae5aed81",
   "metadata": {
    "editable": true,
    "raw_mimetype": "",
    "slideshow": {
     "slide_type": ""
    },
    "tags": []
   },
   "outputs": [],
   "source": [
    "ALTER TABLE mytable\n",
    "ADD column DataType OptionalTableConstraint\n",
    "    DEFAULT default_value;"
   ]
  },
  {
   "cell_type": "markdown",
   "id": "aed96930-466c-4ac4-9258-99d918a3b569",
   "metadata": {
    "editable": true,
    "slideshow": {
     "slide_type": "fragment"
    },
    "tags": []
   },
   "source": [
    "##### DROP"
   ]
  },
  {
   "cell_type": "code",
   "execution_count": null,
   "id": "6aceba79-ada2-47df-b0df-0384494f1a8c",
   "metadata": {
    "editable": true,
    "raw_mimetype": "",
    "slideshow": {
     "slide_type": ""
    },
    "tags": []
   },
   "outputs": [],
   "source": [
    "ALTER TABLE mytable\n",
    "DROP column_to_be_deleted;"
   ]
  },
  {
   "cell_type": "markdown",
   "id": "a30a5c46-0f45-4f15-b161-d0a6c59942cf",
   "metadata": {
    "editable": true,
    "slideshow": {
     "slide_type": "fragment"
    },
    "tags": []
   },
   "source": [
    "##### RENAME"
   ]
  },
  {
   "cell_type": "code",
   "execution_count": null,
   "id": "c2b01bb5-66cc-4001-9583-149a2998cce8",
   "metadata": {
    "editable": true,
    "raw_mimetype": "",
    "slideshow": {
     "slide_type": ""
    },
    "tags": []
   },
   "outputs": [],
   "source": [
    "ALTER TABLE mytable\n",
    "RENAME TO new_table_name;"
   ]
  },
  {
   "cell_type": "markdown",
   "id": "22d535ab-3c37-4c79-ad92-0975a59416e3",
   "metadata": {
    "editable": true,
    "slideshow": {
     "slide_type": "subslide"
    },
    "tags": []
   },
   "source": [
    "#### DROP TABLE"
   ]
  },
  {
   "cell_type": "markdown",
   "id": "5d7c3d32-b8a0-4c08-917d-1c2dd41991df",
   "metadata": {
    "editable": true,
    "slideshow": {
     "slide_type": ""
    },
    "tags": []
   },
   "source": [
    "Хотите удалить таблицу - ни слова больше!"
   ]
  },
  {
   "cell_type": "code",
   "execution_count": null,
   "id": "abd7f924-63f8-4024-a279-f4ffa635274d",
   "metadata": {
    "editable": true,
    "raw_mimetype": "",
    "slideshow": {
     "slide_type": ""
    },
    "tags": []
   },
   "outputs": [],
   "source": [
    "DROP TABLE IF EXISTS mytable;"
   ]
  },
  {
   "cell_type": "markdown",
   "id": "39b177c2",
   "metadata": {},
   "source": [
    "#### Транзакционность"
   ]
  },
  {
   "cell_type": "markdown",
   "id": "d337d52d",
   "metadata": {},
   "source": [
    "Не все операции с базой данных можно выразить одним запросом. Например, так нельзя сделать с транзакцией, когда нужно перевести деньги с одного счета на другой. "
   ]
  },
  {
   "cell_type": "code",
   "execution_count": null,
   "id": "3c2d0037",
   "metadata": {},
   "outputs": [],
   "source": [
    "BEGIN;\n",
    "SELECT amount FROM accounts WHERE user_id = 10;\n",
    "UPDATE accounts SET amount = amount - 50 WHERE user_id = 10;\n",
    "UPDATE accounts SET amount = amount + 50 WHERE user_id = 30;\n",
    "COMMIT;"
   ]
  },
  {
   "cell_type": "markdown",
   "id": "1d53fd27-29c9-4464-a19a-22915373e848",
   "metadata": {
    "editable": true,
    "slideshow": {
     "slide_type": "slide"
    },
    "tags": []
   },
   "source": [
    "### Ссылка на туториал: https://sqlbolt.com/lesson/introduction"
   ]
  },
  {
   "cell_type": "code",
   "execution_count": null,
   "id": "21f9af6c-4254-4a82-9ef1-3bb429ae01c9",
   "metadata": {
    "editable": true,
    "slideshow": {
     "slide_type": ""
    },
    "tags": []
   },
   "outputs": [],
   "source": []
  }
 ],
 "metadata": {
  "kernelspec": {
   "display_name": "Python 3 (ipykernel)",
   "language": "python",
   "name": "python3"
  },
  "language_info": {
   "codemirror_mode": {
    "name": "ipython",
    "version": 3
   },
   "file_extension": ".py",
   "mimetype": "text/x-python",
   "name": "python",
   "nbconvert_exporter": "python",
   "pygments_lexer": "ipython3",
   "version": "3.8.10"
  }
 },
 "nbformat": 4,
 "nbformat_minor": 5
}
